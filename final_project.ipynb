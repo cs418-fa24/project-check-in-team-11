{
 "cells": [
  {
   "cell_type": "markdown",
   "id": "c5589c084a8a5e79",
   "metadata": {},
   "source": [
    "## Github Classroom\n",
    "Github project repository: https://github.com/cs418-fa24/project-check-in-team-11"
   ]
  },
  {
   "cell_type": "markdown",
   "id": "c646f864235fa003",
   "metadata": {},
   "source": [
    "## Project Introduction\n",
    "Our project aims to understand the spotify song classification/reccomendation algorithm and to see if it can be accurately recreated. Through gathering songs and their respective specific statistics from Spotify, we will determine what aspects of songs does Spotify use the most to determine the mood classification of songs. In turn, we will then evaluate whether or not an overall mood can be determined accurately from a user's liked songs library."
   ]
  },
  {
   "cell_type": "markdown",
   "id": "a4707fdc8d0f579d",
   "metadata": {},
   "source": [
    "## Scope Adjustments\n",
    "We wanted to try and recreate the Spotify wrapped, however that was a large scope and more tailored towards recreating a listening profile based on other non-song related data such as listening history, time of day, and artist preference. We pivoted the scope to focus on song related data such as track features revolving around tempo, loudness, energy, danceability, etc."
   ]
  },
  {
   "cell_type": "markdown",
   "id": "dcd0c8ed824550d5",
   "metadata": {},
   "source": [
    "## Data Collection and Cleaning"
   ]
  },
  {
   "cell_type": "markdown",
   "id": "31a5fb787d672b60",
   "metadata": {},
   "source": [
    "### Retrieve Liked Songs"
   ]
  },
  {
   "cell_type": "code",
   "id": "388e00de5a99bc18",
   "metadata": {
    "ExecuteTime": {
     "end_time": "2024-12-01T20:38:05.526285Z",
     "start_time": "2024-12-01T20:38:05.290009Z"
    }
   },
   "source": [
    "import json\n",
    "\n",
    "import spotipy\n",
    "from spotipy.oauth2 import SpotifyOAuth\n",
    "\n",
    "CLIENT_ID = ''\n",
    "CLIENT_SECRET = ''\n",
    "REDIRECT_URI = 'http://localhost:8888/callback'\n",
    "\n",
    "moods = {\n",
    "    'HAPPY': '37i9dQZF1EVJSvZp5AOML2',\n",
    "    'SAD': '37i9dQZF1EIh4v230xvJvd',\n",
    "    'CHILL': '37i9dQZF1EIdNTvkcjcOzJ',\n",
    "    'ENERGETIC': '37i9dQZF1EIcVD7Tg8a0MY'\n",
    "}\n",
    "\n",
    "sp = spotipy.Spotify(auth_manager=SpotifyOAuth(\n",
    "    client_id=CLIENT_ID,\n",
    "    client_secret=CLIENT_SECRET,\n",
    "    redirect_uri=REDIRECT_URI,\n",
    "    scope=\"playlist-read-private user-library-read\"  # now accessing private user playlists\n",
    "))\n",
    "\n",
    "sp1 = spotipy.Spotify(auth_manager=SpotifyOAuth(\n",
    "    client_id=CLIENT_ID,\n",
    "    client_secret=CLIENT_SECRET,\n",
    "    redirect_uri=REDIRECT_URI,\n",
    "    scope=\"playlist-read-private user-library-read\"  # now accessing private user playlists\n",
    "))\n",
    "\n",
    "# Get the user's liked songs\n",
    "results = sp.current_user_saved_tracks()\n",
    "liked_songs = []\n",
    "\n",
    "while results:\n",
    "    for item in results['items']:\n",
    "        track = item['track']\n",
    "        features = sp1.audio_features(track['id'])[0]\n",
    "        liked_songs.append({\n",
    "            'name': track['name'],\n",
    "            'id': track['id'],\n",
    "            'acousticness': features['acousticness'],\n",
    "            'danceability': features['danceability'],\n",
    "            'duration_ms': features['duration_ms'],\n",
    "            'energy': features['energy'],\n",
    "            'instrumentalness': features['instrumentalness'],\n",
    "            'key': features['key'],\n",
    "            'liveness': features['liveness'],\n",
    "            'loudness': features['loudness'],\n",
    "            'mode': features['mode'],\n",
    "            'speechiness': features['speechiness'],\n",
    "            'tempo': features['tempo'],\n",
    "            'time_signature': features['time_signature'],\n",
    "            'valence': features['valence']\n",
    "        })\n",
    "\n",
    "    results = sp.next(results)\n",
    "\n",
    "#TODO rename the file so that it does not overwrite anyone else's\n",
    "with open('/Users/conrad/dev-school/418/final-project/raw/liked_songs_1.json', 'w') as json_file:\n",
    "    json.dump(liked_songs, json_file, indent=4)\n"
   ],
   "outputs": [
    {
     "ename": "SpotifyOauthError",
     "evalue": "No client_id. Pass it or set a SPOTIPY_CLIENT_ID environment variable.",
     "output_type": "error",
     "traceback": [
      "\u001B[0;31m---------------------------------------------------------------------------\u001B[0m",
      "\u001B[0;31mSpotifyOauthError\u001B[0m                         Traceback (most recent call last)",
      "Cell \u001B[0;32mIn[1], line 17\u001B[0m\n\u001B[1;32m      8\u001B[0m REDIRECT_URI \u001B[38;5;241m=\u001B[39m \u001B[38;5;124m'\u001B[39m\u001B[38;5;124mhttp://localhost:8888/callback\u001B[39m\u001B[38;5;124m'\u001B[39m\n\u001B[1;32m     10\u001B[0m moods \u001B[38;5;241m=\u001B[39m {\n\u001B[1;32m     11\u001B[0m     \u001B[38;5;124m'\u001B[39m\u001B[38;5;124mHAPPY\u001B[39m\u001B[38;5;124m'\u001B[39m: \u001B[38;5;124m'\u001B[39m\u001B[38;5;124m37i9dQZF1EVJSvZp5AOML2\u001B[39m\u001B[38;5;124m'\u001B[39m,\n\u001B[1;32m     12\u001B[0m     \u001B[38;5;124m'\u001B[39m\u001B[38;5;124mSAD\u001B[39m\u001B[38;5;124m'\u001B[39m: \u001B[38;5;124m'\u001B[39m\u001B[38;5;124m37i9dQZF1EIh4v230xvJvd\u001B[39m\u001B[38;5;124m'\u001B[39m,\n\u001B[1;32m     13\u001B[0m     \u001B[38;5;124m'\u001B[39m\u001B[38;5;124mCHILL\u001B[39m\u001B[38;5;124m'\u001B[39m: \u001B[38;5;124m'\u001B[39m\u001B[38;5;124m37i9dQZF1EIdNTvkcjcOzJ\u001B[39m\u001B[38;5;124m'\u001B[39m,\n\u001B[1;32m     14\u001B[0m     \u001B[38;5;124m'\u001B[39m\u001B[38;5;124mENERGETIC\u001B[39m\u001B[38;5;124m'\u001B[39m: \u001B[38;5;124m'\u001B[39m\u001B[38;5;124m37i9dQZF1EIcVD7Tg8a0MY\u001B[39m\u001B[38;5;124m'\u001B[39m\n\u001B[1;32m     15\u001B[0m }\n\u001B[0;32m---> 17\u001B[0m sp \u001B[38;5;241m=\u001B[39m spotipy\u001B[38;5;241m.\u001B[39mSpotify(auth_manager\u001B[38;5;241m=\u001B[39m\u001B[43mSpotifyOAuth\u001B[49m\u001B[43m(\u001B[49m\n\u001B[1;32m     18\u001B[0m \u001B[43m    \u001B[49m\u001B[43mclient_id\u001B[49m\u001B[38;5;241;43m=\u001B[39;49m\u001B[43mCLIENT_ID\u001B[49m\u001B[43m,\u001B[49m\n\u001B[1;32m     19\u001B[0m \u001B[43m    \u001B[49m\u001B[43mclient_secret\u001B[49m\u001B[38;5;241;43m=\u001B[39;49m\u001B[43mCLIENT_SECRET\u001B[49m\u001B[43m,\u001B[49m\n\u001B[1;32m     20\u001B[0m \u001B[43m    \u001B[49m\u001B[43mredirect_uri\u001B[49m\u001B[38;5;241;43m=\u001B[39;49m\u001B[43mREDIRECT_URI\u001B[49m\u001B[43m,\u001B[49m\n\u001B[1;32m     21\u001B[0m \u001B[43m    \u001B[49m\u001B[43mscope\u001B[49m\u001B[38;5;241;43m=\u001B[39;49m\u001B[38;5;124;43m\"\u001B[39;49m\u001B[38;5;124;43mplaylist-read-private user-library-read\u001B[39;49m\u001B[38;5;124;43m\"\u001B[39;49m\u001B[43m  \u001B[49m\u001B[38;5;66;43;03m# now accessing private user playlists\u001B[39;49;00m\n\u001B[1;32m     22\u001B[0m \u001B[43m)\u001B[49m)\n\u001B[1;32m     24\u001B[0m sp1 \u001B[38;5;241m=\u001B[39m spotipy\u001B[38;5;241m.\u001B[39mSpotify(auth_manager\u001B[38;5;241m=\u001B[39mSpotifyOAuth(\n\u001B[1;32m     25\u001B[0m     client_id\u001B[38;5;241m=\u001B[39mCLIENT_ID,\n\u001B[1;32m     26\u001B[0m     client_secret\u001B[38;5;241m=\u001B[39mCLIENT_SECRET,\n\u001B[1;32m     27\u001B[0m     redirect_uri\u001B[38;5;241m=\u001B[39mREDIRECT_URI,\n\u001B[1;32m     28\u001B[0m     scope\u001B[38;5;241m=\u001B[39m\u001B[38;5;124m\"\u001B[39m\u001B[38;5;124mplaylist-read-private user-library-read\u001B[39m\u001B[38;5;124m\"\u001B[39m  \u001B[38;5;66;03m# now accessing private user playlists\u001B[39;00m\n\u001B[1;32m     29\u001B[0m ))\n\u001B[1;32m     31\u001B[0m \u001B[38;5;66;03m# Get the user's liked songs\u001B[39;00m\n",
      "File \u001B[0;32m~/dev-school/418/venv/lib/python3.11/site-packages/spotipy/oauth2.py:323\u001B[0m, in \u001B[0;36mSpotifyOAuth.__init__\u001B[0;34m(self, client_id, client_secret, redirect_uri, state, scope, cache_path, username, proxies, show_dialog, requests_session, requests_timeout, open_browser, cache_handler)\u001B[0m\n\u001B[1;32m    294\u001B[0m \u001B[38;5;250m\u001B[39m\u001B[38;5;124;03m\"\"\"\u001B[39;00m\n\u001B[1;32m    295\u001B[0m \u001B[38;5;124;03mCreates a SpotifyOAuth object\u001B[39;00m\n\u001B[1;32m    296\u001B[0m \n\u001B[0;32m   (...)\u001B[0m\n\u001B[1;32m    318\u001B[0m \u001B[38;5;124;03m                      (takes precedence over `cache_path` and `username`)\u001B[39;00m\n\u001B[1;32m    319\u001B[0m \u001B[38;5;124;03m\"\"\"\u001B[39;00m\n\u001B[1;32m    321\u001B[0m \u001B[38;5;28msuper\u001B[39m()\u001B[38;5;241m.\u001B[39m\u001B[38;5;21m__init__\u001B[39m(requests_session)\n\u001B[0;32m--> 323\u001B[0m \u001B[38;5;28;43mself\u001B[39;49m\u001B[38;5;241;43m.\u001B[39;49m\u001B[43mclient_id\u001B[49m \u001B[38;5;241m=\u001B[39m client_id\n\u001B[1;32m    324\u001B[0m \u001B[38;5;28mself\u001B[39m\u001B[38;5;241m.\u001B[39mclient_secret \u001B[38;5;241m=\u001B[39m client_secret\n\u001B[1;32m    325\u001B[0m \u001B[38;5;28mself\u001B[39m\u001B[38;5;241m.\u001B[39mredirect_uri \u001B[38;5;241m=\u001B[39m redirect_uri\n",
      "File \u001B[0;32m~/dev-school/418/venv/lib/python3.11/site-packages/spotipy/oauth2.py:87\u001B[0m, in \u001B[0;36mSpotifyAuthBase.client_id\u001B[0;34m(self, val)\u001B[0m\n\u001B[1;32m     85\u001B[0m \u001B[38;5;129m@client_id\u001B[39m\u001B[38;5;241m.\u001B[39msetter\n\u001B[1;32m     86\u001B[0m \u001B[38;5;28;01mdef\u001B[39;00m \u001B[38;5;21mclient_id\u001B[39m(\u001B[38;5;28mself\u001B[39m, val):\n\u001B[0;32m---> 87\u001B[0m     \u001B[38;5;28mself\u001B[39m\u001B[38;5;241m.\u001B[39m_client_id \u001B[38;5;241m=\u001B[39m \u001B[43m_ensure_value\u001B[49m\u001B[43m(\u001B[49m\u001B[43mval\u001B[49m\u001B[43m,\u001B[49m\u001B[43m \u001B[49m\u001B[38;5;124;43m\"\u001B[39;49m\u001B[38;5;124;43mclient_id\u001B[39;49m\u001B[38;5;124;43m\"\u001B[39;49m\u001B[43m)\u001B[49m\n",
      "File \u001B[0;32m~/dev-school/418/venv/lib/python3.11/site-packages/spotipy/oauth2.py:63\u001B[0m, in \u001B[0;36m_ensure_value\u001B[0;34m(value, env_key)\u001B[0m\n\u001B[1;32m     61\u001B[0m \u001B[38;5;28;01mif\u001B[39;00m _val \u001B[38;5;129;01mis\u001B[39;00m \u001B[38;5;28;01mNone\u001B[39;00m:\n\u001B[1;32m     62\u001B[0m     msg \u001B[38;5;241m=\u001B[39m \u001B[38;5;124mf\u001B[39m\u001B[38;5;124m\"\u001B[39m\u001B[38;5;124mNo \u001B[39m\u001B[38;5;132;01m{\u001B[39;00menv_key\u001B[38;5;132;01m}\u001B[39;00m\u001B[38;5;124m. Pass it or set a \u001B[39m\u001B[38;5;132;01m{\u001B[39;00menv_val\u001B[38;5;132;01m}\u001B[39;00m\u001B[38;5;124m environment variable.\u001B[39m\u001B[38;5;124m\"\u001B[39m\n\u001B[0;32m---> 63\u001B[0m     \u001B[38;5;28;01mraise\u001B[39;00m SpotifyOauthError(msg)\n\u001B[1;32m     64\u001B[0m \u001B[38;5;28;01mreturn\u001B[39;00m _val\n",
      "\u001B[0;31mSpotifyOauthError\u001B[0m: No client_id. Pass it or set a SPOTIPY_CLIENT_ID environment variable."
     ]
    }
   ],
   "execution_count": 1
  },
  {
   "cell_type": "markdown",
   "id": "c247f893ef0ef462",
   "metadata": {},
   "source": [
    "### Retrieve Spotify-generated Playlists for Each Mood (happy, sad, energetic, chill)"
   ]
  },
  {
   "cell_type": "code",
   "id": "b1f23a2ac322a2e6",
   "metadata": {},
   "source": [
    "### Steps to get playlists ready to pull\n",
    "# 1.) Find your mix playlists for each mood (happy, sad, energetic, chill)\n",
    "# 2.) Click on the \"...\" and add to another playlist and create a new one. Spotify will create a default name \"<mood> Mix (2)\"\n",
    "# 3.) Once you repeat this for all the moods, you are ready to use this script\n",
    "\n",
    "import json\n",
    "import spotipy\n",
    "from spotipy.oauth2 import SpotifyOAuth\n",
    "\n",
    "# TODO insert info same as library.py...\n",
    "CLIENT_ID = ''\n",
    "CLIENT_SECRET = ''\n",
    "REDIRECT_URI = 'http://localhost:8888/callback'\n",
    "\n",
    "moods = {\n",
    "    'HAPPY': '37i9dQZF1EVJSvZp5AOML2',\n",
    "    'SAD': '37i9dQZF1EIh4v230xvJvd',\n",
    "    'CHILL': '37i9dQZF1EIdNTvkcjcOzJ',\n",
    "    'ENERGETIC': '37i9dQZF1EIcVD7Tg8a0MY'\n",
    "}\n",
    "\n",
    "sp = spotipy.Spotify(auth_manager=SpotifyOAuth(\n",
    "    client_id=CLIENT_ID,\n",
    "    client_secret=CLIENT_SECRET,\n",
    "    redirect_uri=REDIRECT_URI,\n",
    "    scope=\"playlist-read-private\"  # now accessing private user playlists\n",
    "))\n",
    "\n",
    "sp1 = spotipy.Spotify(auth_manager=SpotifyOAuth(\n",
    "    client_id=CLIENT_ID,\n",
    "    client_secret=CLIENT_SECRET,\n",
    "    redirect_uri=REDIRECT_URI,\n",
    "    scope=\"playlist-read-private\"  # now accessing private user playlists\n",
    "))\n",
    "\n",
    "for mood, p_id in moods.items():\n",
    "    results = sp.playlist_items(p_id)\n",
    "    tracks = []\n",
    "\n",
    "    while results:\n",
    "        for item in results['items']:\n",
    "            track = item['track']\n",
    "            features = sp1.audio_features(track['id'])[0]\n",
    "\n",
    "            if features is None:\n",
    "                continue\n",
    "\n",
    "            tracks.append({\n",
    "                'name': track['name'],\n",
    "                'id': track['id'],\n",
    "                'acousticness': features['acousticness'],\n",
    "                'danceability': features['danceability'],\n",
    "                'duration_ms': features['duration_ms'],\n",
    "                'energy': features['energy'],\n",
    "                'instrumentalness': features['instrumentalness'],\n",
    "                'key': features['key'],\n",
    "                'liveness': features['liveness'],\n",
    "                'loudness': features['loudness'],\n",
    "                'mode': features['mode'],\n",
    "                'speechiness': features['speechiness'],\n",
    "                'tempo': features['tempo'],\n",
    "                'time_signature': features['time_signature'],\n",
    "                'valence': features['valence']\n",
    "            })\n",
    "        print(\"mood complete\")\n",
    "        # get next set of tracks\n",
    "        results = sp.next(results)\n",
    "\n",
    "    #TODO make sure to enter the number corresponding to your data\n",
    "    num = 1\n",
    "    with open(f'spotify_{mood.lower()}_{num}.json', 'w') as file:\n",
    "        json.dump(tracks, file, indent=4)\n",
    "\n",
    "    file.close()\n"
   ],
   "outputs": [],
   "execution_count": null
  },
  {
   "cell_type": "markdown",
   "id": "bc5cd210",
   "metadata": {},
   "source": [
    "### Import into Pandas Dataframe"
   ]
  },
  {
   "cell_type": "code",
   "id": "205beb0a893ba524",
   "metadata": {},
   "source": [
    "import json\n",
    "import pandas as pd\n",
    "\n",
    "moods = ['happy', 'sad', 'chill', 'energetic']\n",
    "dfs = []\n",
    "for mood in moods:\n",
    "    files = [\n",
    "        f'./raw/spotify_{mood}_1.json',\n",
    "        f'./raw/spotify_{mood}_2.json',\n",
    "        f'./raw/spotify_{mood}_3.json',\n",
    "        f'./raw/spotify_{mood}_4.json',\n",
    "        f'./raw/spotify_{mood}_5.json',\n",
    "        f'./raw/spotify_{mood}_6.json',\n",
    "    ]\n",
    "\n",
    "    for file in files:\n",
    "        with open(file, 'r') as fileio:\n",
    "            df = pd.DataFrame(json.load(fileio))\n",
    "            df['mood'] = mood\n",
    "            dfs.append(df)\n",
    "\n",
    "\n",
    "final_df = pd.concat(dfs, ignore_index=True)\n",
    "\n",
    "#processing\n",
    "drop = ['name', 'id']\n",
    "final_df = final_df.drop(columns=drop)"
   ],
   "outputs": [],
   "execution_count": null
  },
  {
   "cell_type": "markdown",
   "id": "77d29b75d07a2bbf",
   "metadata": {},
   "source": [
    "## Data Exploration\n",
    "Our project's data consists of multiple JSON files, each representing different sets of Spotify songs categorized by moods such as chill, energetic, happy, and sad, along with a separate collection of liked songs from personal user libraries. These files contain attributes that are important in understanding song characteristics which may influence their mood classification, such as tempo, loudness, energy, danceability, and others.\n",
    "\n",
    "In our preliminary analysis, we explored how these attributes distribute across various playlists to hypothesize which features might be most influential in determining a song's mood. We encountered significant challenges due to the size of the data files and API rate limits.\n",
    "\n",
    "Interestingly, initial visualizations suggest clear distinctions in certain attributes among different mood-based playlists; for instance, songs in the happy playlist tend to have higher valence and tempo compared to those in the sad playlist. This aligns with our objective to differentiate between the patterns that could potentially recreate Spotify's mood classification logic. Moving forward, we plan to apply statistical tests to confirm these observations and refine our models accordingly, aiming to predict mood classifications with high accuracy."
   ]
  },
  {
   "cell_type": "code",
   "id": "470a3c8e977a5a9a",
   "metadata": {},
   "source": [
    "import pandas as pd\n",
    "import json\n",
    "import numpy as np\n",
    "\n",
    "dfs = []\n",
    "\n",
    "files = [\n",
    "    f'./raw/liked_songs_1.json',\n",
    "    f'./raw/liked_songs_2.json',\n",
    "    f'./raw/liked_songs_3.json',\n",
    "    f'./raw/liked_songs_4.json',\n",
    "    f'./raw/liked_songs_5.json',\n",
    "    f'./raw/liked_songs_6.json',\n",
    "]\n",
    "\n",
    "for file in files:\n",
    "    with open(file, 'r') as fileio:\n",
    "        df = pd.DataFrame(json.load(fileio))\n",
    "        dfs.append(df)\n",
    "\n",
    "liked_songs_df = pd.concat(dfs, ignore_index=True)\n",
    "\n",
    "#processing\n",
    "drop = ['name', 'id']\n",
    "liked_songs_df = liked_songs_df.drop(columns=drop)\n",
    "\n",
    "#liked_songs_df.head(5)\n",
    "liked_songs_df.describe()"
   ],
   "outputs": [],
   "execution_count": null
  },
  {
   "cell_type": "code",
   "id": "459f8435744293f4",
   "metadata": {},
   "source": [
    "import matplotlib.pyplot as plt\n",
    "\n",
    "moods = ['happy', 'sad', 'chill', 'energetic']\n",
    "dfs = []\n",
    "for mood in moods:\n",
    "    files = [\n",
    "        f'./raw/spotify_{mood}_1.json',\n",
    "        f'./raw/spotify_{mood}_2.json',\n",
    "        f'./raw/spotify_{mood}_3.json',\n",
    "        f'./raw/spotify_{mood}_4.json',\n",
    "        f'./raw/spotify_{mood}_5.json',\n",
    "        f'./raw/spotify_{mood}_6.json',\n",
    "    ]\n",
    "\n",
    "    for file in files:\n",
    "        with open(file, 'r') as fileio:\n",
    "            df = pd.DataFrame(json.load(fileio))\n",
    "            df['mood'] = mood\n",
    "            dfs.append(df)\n",
    "\n",
    "moods_df = pd.concat(dfs, ignore_index=True)\n",
    "\n",
    "#processing\n",
    "drop = ['name', 'id']\n",
    "moods_df = moods_df.drop(columns=drop)\n",
    "\n",
    "#moods_df.head(5)\n",
    "#moods_df.describe()\n",
    "\n",
    "moods_mean_df = moods_df.groupby('mood').mean()\n",
    "\n",
    "#moods_mean_df.head(4)\n",
    "\n",
    "factors = ['acousticness', 'danceability', 'energy', 'instrumentalness', 'liveness', 'loudness', 'speechiness', 'valence', 'tempo']\n",
    "\n",
    "new_max = 100\n",
    "new_min = 20\n",
    "new_range = new_max - new_min\n",
    "\n",
    "for factor in factors:\n",
    "    max_val = moods_mean_df[factor].max()\n",
    "    min_val = moods_mean_df[factor].min()\n",
    "    val_range = max_val - min_val\n",
    "    moods_mean_df[factor + '_Adj'] = moods_mean_df[factor].apply(\n",
    "        lambda x: (((x - min_val) * new_range) / val_range) + new_min)\n",
    "    \n",
    "moods_mean_df = moods_mean_df.reset_index()\n",
    "#moods_mean_df.head(4)\n",
    " \n",
    "dft = moods_mean_df.loc[:, ['mood', 'acousticness_Adj', 'danceability_Adj', 'energy_Adj',\n",
    "                             'instrumentalness_Adj', 'liveness_Adj', 'loudness_Adj', 'speechiness_Adj',\n",
    "                             'valence_Adj', 'tempo_Adj']]\n",
    "dft.rename(columns={\n",
    "    'acousticness_Adj': 'acousticness',\n",
    "    'danceability_Adj': 'danceability',\n",
    "    'energy_Adj': 'energy',\n",
    "    'instrumentalness_Adj': 'instrumentalness',\n",
    "    'liveness_Adj': 'liveness',\n",
    "    'loudness_Adj': 'loudness',\n",
    "    'speechiness_Adj': 'speechiness',\n",
    "    'valence_Adj': 'valence',\n",
    "    'tempo_Adj': 'tempo'\n",
    "}, inplace=True)\n",
    "\n",
    "dft.set_index('mood', inplace=True)\n",
    "\n",
    "labels = ['acousticness', 'danceability', 'energy', 'instrumentalness', 'liveness', 'loudness', 'speechiness', 'valence', 'tempo']\n",
    "num_vars = len(labels)\n",
    "angles = np.linspace(0, 2 * np.pi, num_vars, endpoint=False).tolist()\n",
    "fig, ax = plt.subplots(figsize=(6, 6), subplot_kw=dict(polar=True))\n",
    "\n",
    "def add_to_radar(mood, color):\n",
    "    values = dft.loc[mood].tolist()\n",
    "    ax.plot(angles, values, color=color, linewidth=1, label=mood)\n",
    "    ax.fill(angles, values, color=color, alpha=0.25)\n",
    "\n",
    "add_to_radar('happy', '#1aaf6c')\n",
    "add_to_radar('sad', '#429bf4')\n",
    "add_to_radar('chill', '#d42cea')\n",
    "add_to_radar('energetic', '#f4b41a')\n",
    "\n",
    "ax.set_theta_offset(np.pi / 2)\n",
    "ax.set_theta_direction(-1)\n",
    "ax.set_thetagrids(np.degrees(angles), labels)\n",
    "\n",
    "for label, angle in zip(ax.get_xticklabels(), angles):\n",
    "    if angle in (0, np.pi):\n",
    "        label.set_horizontalalignment('center')\n",
    "    elif 0 < angle < np.pi:\n",
    "        label.set_horizontalalignment('left')\n",
    "    else:\n",
    "        label.set_horizontalalignment('right')\n",
    "\n",
    "ax.set_ylim(0, 100)\n",
    "ax.set_rlabel_position(180 / num_vars)\n",
    "\n",
    "ax.tick_params(colors='#222222')\n",
    "ax.tick_params(axis='y', labelsize=8)\n",
    "ax.grid(color='#AAAAAA')\n",
    "ax.spines['polar'].set_color('#222222')\n",
    "ax.set_facecolor('#FAFAFA')\n",
    "\n",
    "ax.set_title('Comparing moods across features', y=1.08)\n",
    "ax.legend(loc='upper right', bbox_to_anchor=(1.3, 1.1))\n",
    "\n",
    "plt.show()\n"
   ],
   "outputs": [],
   "execution_count": null
  },
  {
   "cell_type": "code",
   "id": "c67f5f799aad1620",
   "metadata": {},
   "source": [
    "happy_df = moods_df[moods_df['mood'] == 'happy']\n",
    "# happy_df.head(5)\n",
    "happy_df.describe()"
   ],
   "outputs": [],
   "execution_count": null
  },
  {
   "cell_type": "code",
   "id": "21a6415434a271ed",
   "metadata": {},
   "source": [
    "sad_df = moods_df[moods_df['mood'] == 'sad']\n",
    "# sad_df.head(5)\n",
    "sad_df.describe()"
   ],
   "outputs": [],
   "execution_count": null
  },
  {
   "cell_type": "code",
   "id": "972da9e8711b380f",
   "metadata": {},
   "source": [
    "chill_df = moods_df[moods_df['mood'] == 'chill']\n",
    "# chill_df.head(5)\n",
    "chill_df.describe()"
   ],
   "outputs": [],
   "execution_count": null
  },
  {
   "cell_type": "code",
   "id": "ca643684b3b9d31a",
   "metadata": {},
   "source": [
    "energetic_df = moods_df[moods_df['mood'] == 'energetic']\n",
    "# energetic_df.head(5)\n",
    "energetic_df.describe()"
   ],
   "outputs": [],
   "execution_count": null
  },
  {
   "cell_type": "markdown",
   "id": "fa44861d03b6a706",
   "metadata": {},
   "source": [
    "## Data Visualization\n",
    "Our hypothesis is that certain song attributes are more prevalent in specific moods. To test this hypothesis, we visualized the distribution of song attributes across different moods. We focused on the following attributes: acousticness, danceability, energy, instrumentalness, liveness, loudness, speechiness, valence and tempo."
   ]
  },
  {
   "cell_type": "code",
   "id": "496c9d26bb10a37e",
   "metadata": {},
   "source": [
    "import seaborn as sns\n",
    "\n",
    "moods_mean_df = moods_df.groupby('mood').mean()\n",
    "\n",
    "sns.barplot(moods_mean_df, x=\"instrumentalness\", y=\"mood\", hue=\"mood\", legend=False)\n",
    "\n"
   ],
   "outputs": [],
   "execution_count": null
  },
  {
   "cell_type": "code",
   "id": "4e8970d8bf00d3f9",
   "metadata": {},
   "source": [
    "sns.barplot(moods_mean_df, x=\"valence\", y=\"mood\", hue=\"mood\", legend=False)"
   ],
   "outputs": [],
   "execution_count": null
  },
  {
   "cell_type": "code",
   "id": "2f56a8df133039b1",
   "metadata": {},
   "source": [
    "sns.barplot(moods_mean_df, x=\"speechiness\", y=\"mood\", hue=\"mood\", legend=False)"
   ],
   "outputs": [],
   "execution_count": null
  },
  {
   "cell_type": "code",
   "id": "eb72f77787192826",
   "metadata": {},
   "source": [
    "sns.barplot(moods_mean_df, x=\"danceability\", y=\"mood\", hue=\"mood\", legend=False)"
   ],
   "outputs": [],
   "execution_count": null
  },
  {
   "cell_type": "code",
   "id": "e287f3192350888f",
   "metadata": {},
   "source": [
    "sns.barplot(moods_mean_df, x=\"energy\", y=\"mood\", hue=\"mood\", legend=False)"
   ],
   "outputs": [],
   "execution_count": null
  },
  {
   "cell_type": "code",
   "id": "f46dac57cb3d99d9",
   "metadata": {},
   "source": [
    "sns.barplot(moods_mean_df, x=\"tempo\", y=\"mood\", hue=\"mood\", legend=False)"
   ],
   "outputs": [],
   "execution_count": null
  },
  {
   "cell_type": "code",
   "id": "ae001f86cf180720",
   "metadata": {},
   "source": [
    "sns.barplot(moods_mean_df, x=\"loudness\", y=\"mood\", hue=\"mood\", legend=False)"
   ],
   "outputs": [],
   "execution_count": null
  },
  {
   "cell_type": "code",
   "id": "e2e256b87200cef3",
   "metadata": {},
   "source": [
    "sns.barplot(moods_mean_df, x=\"liveness\", y=\"mood\", hue=\"mood\", legend=False)"
   ],
   "outputs": [],
   "execution_count": null
  },
  {
   "cell_type": "code",
   "id": "ace9ae5b3a504c81",
   "metadata": {},
   "source": [
    "sns.barplot(moods_mean_df, x=\"acousticness\", y=\"mood\", hue=\"mood\", legend=False)"
   ],
   "outputs": [],
   "execution_count": null
  },
  {
   "cell_type": "markdown",
   "id": "13e67110af9dd0bd",
   "metadata": {},
   "source": [
    "### Chill\n",
    "This mood seems to be characterized by higher values of acousticness and instrumentalness.\n",
    "\n",
    "### Happy\n",
    "This mood seems to be characterized by higher values of valence and lower values of instrumentalness.\n",
    "\n",
    "### Energetic\n",
    "This mood seems to be characterized by higher values of tempo, speechiness and liveness.\n",
    "\n",
    "### Sad\n",
    "This mood seems to be characterized by higher values of acousticness and lower values of instrumentalness.\n",
    "\n",
    "### Hypothesis 2\n",
    "Our second hypothesis is that there are strong correlations with certain features and they differ greatly depending on mood. Ex. High danceability is usually means high energy. To test this hypothesis, we visualized the correlation of song attributes to one another using different moods and heatmaps. "
   ]
  },
  {
   "cell_type": "code",
   "id": "582cd24c",
   "metadata": {},
   "source": [
    "def graph_corr(table, title):\n",
    "    numeric_df = table.select_dtypes(include=['float64', 'int64'])\n",
    "    plt.figure(figsize=(10, 8))\n",
    "    plt.title(title)\n",
    "    sns.heatmap(numeric_df.corr(), annot=True, cmap='YlOrBr', fmt='.2f', linewidths=0.5, vmin=-1, vmax=1)\n",
    "    plt.show()\n",
    "\n",
    "graph_corr(moods_mean_df, 'Average attribute correlations')\n",
    "\n",
    "\n",
    "graph_corr(chill_df, 'Chill attribute correlations')\n",
    "graph_corr(energetic_df, 'Energetic attribute correlations')\n",
    "graph_corr(happy_df, 'Happy attribute correlations')\n",
    "graph_corr(sad_df, 'Sad attribute correlations')"
   ],
   "outputs": [],
   "execution_count": null
  },
  {
   "cell_type": "markdown",
   "id": "c8d59dad1a0ae28f",
   "metadata": {},
   "source": [
    "## ML Data Analysis\n"
   ]
  },
  {
   "cell_type": "markdown",
   "id": "e14db6a0",
   "metadata": {},
   "source": "### X, y and data preparation for models"
  },
  {
   "cell_type": "code",
   "id": "5db70b85",
   "metadata": {
    "ExecuteTime": {
     "end_time": "2024-12-01T20:45:08.135733Z",
     "start_time": "2024-12-01T20:45:08.108800Z"
    }
   },
   "source": [
    "from scipy.stats import zscore\n",
    "import pandas as pd\n",
    "import numpy as np\n",
    "import matplotlib.pyplot as plt\n",
    "from sklearn.model_selection import train_test_split, cross_val_score\n",
    "from sklearn.preprocessing import LabelEncoder, StandardScaler\n",
    "from sklearn.metrics import classification_report, accuracy_score, confusion_matrix, ConfusionMatrixDisplay\n",
    "\n",
    "moods = ['happy', 'sad', 'chill', 'energetic']\n",
    "dfs = []\n",
    "for mood in moods:\n",
    "    files = [\n",
    "        f'./raw/spotify_{mood}_1.json',\n",
    "        f'./raw/spotify_{mood}_2.json',\n",
    "        f'./raw/spotify_{mood}_3.json',\n",
    "        f'./raw/spotify_{mood}_4.json',\n",
    "        f'./raw/spotify_{mood}_5.json',\n",
    "        f'./raw/spotify_{mood}_6.json',\n",
    "    ]\n",
    "\n",
    "    for file in files:\n",
    "        with open(file, 'r') as fileio:\n",
    "            df = pd.DataFrame(json.load(fileio))\n",
    "            df['mood'] = mood\n",
    "            dfs.append(df)\n",
    "final_df = pd.concat(dfs, ignore_index=True)\n",
    "\n",
    "#drop nondistinct rows\n",
    "duplicate_names = final_df[final_df.duplicated(subset=['name'], keep=False)]\n",
    "conflicting_moods = duplicate_names.groupby('name')['mood'].nunique()\n",
    "conflicting_names = conflicting_moods[conflicting_moods > 1].index\n",
    "final_df = final_df[~final_df['name'].isin(conflicting_names)]\n",
    "\n",
    "#drop non-feature columns\n",
    "drop = ['name', 'id']\n",
    "final_df = final_df.drop(columns=drop)\n",
    "\n",
    "#encode moods\n",
    "label_encoder = LabelEncoder()\n",
    "final_df['mood'] = label_encoder.fit_transform(final_df['mood'])\n",
    "\n",
    "#splitting\n",
    "scaler = StandardScaler()\n",
    "X = final_df.iloc[:, 0:13]\n",
    "X = scaler.fit_transform(X)\n",
    "y = final_df.iloc[:, 13]\n",
    "X_train, X_test, y_train, y_test = train_test_split(X, y, test_size=.3, random_state=1)\n",
    "\n",
    "#remove outliers\n",
    "z_scores = np.abs(zscore(X_train))\n",
    "threshold = 3\n",
    "outliers = np.where(z_scores > threshold)\n",
    "\n",
    "X_train = X_train[(z_scores < threshold).all(axis=1)]\n",
    "y_train = y_train[(z_scores < threshold).all(axis=1)]"
   ],
   "outputs": [],
   "execution_count": 10
  },
  {
   "cell_type": "markdown",
   "id": "09a11ebc",
   "metadata": {},
   "source": [
    "### Model Training 1 - Baseline Regression Model\n"
   ]
  },
  {
   "cell_type": "code",
   "id": "20a181e8",
   "metadata": {
    "ExecuteTime": {
     "end_time": "2024-12-01T21:07:00.077213Z",
     "start_time": "2024-12-01T21:06:59.921950Z"
    }
   },
   "source": [
    "from sklearn.linear_model import LogisticRegression\n",
    "\n",
    "# initialize and train\n",
    "logreg = LogisticRegression(solver='lbfgs', max_iter=1000, random_state=1)\n",
    "logreg.fit(X_train, y_train)\n",
    "\n",
    "# make predictions on test\n",
    "y_pred = logreg.predict(X_test)\n",
    "\n",
    "# evaluate the model\n",
    "print(\"Classification Report:\")\n",
    "print(classification_report(y_test, y_pred, target_names=label_encoder.classes_))\n",
    "\n",
    "print(\"\\nAccuracy Score:\")\n",
    "print(accuracy_score(y_test, y_pred))\n",
    "\n",
    "print(\"\\nConfusion Matrix:\")\n",
    "disp = ConfusionMatrixDisplay(confusion_matrix=confusion_matrix(y_test, y_pred), display_labels=label_encoder.classes_)\n",
    "disp.plot(cmap=plt.cm.Blues, values_format='d')\n",
    "plt.title(\"Confusion Matrix\")\n",
    "plt.show()\n",
    "\n",
    "# CV testing\n",
    "k = 10 \n",
    "cv_scores = cross_val_score(logreg, X, y, cv=k, scoring='accuracy')\n",
    "print(f\"Logistic Regression Scores: {cv_scores}\")\n",
    "print(f\"Average accuracy for {k} folds: {cv_scores.mean():.4f}\")"
   ],
   "outputs": [
    {
     "name": "stdout",
     "output_type": "stream",
     "text": [
      "Classification Report:\n",
      "              precision    recall  f1-score   support\n",
      "\n",
      "       chill       0.79      0.78      0.79        96\n",
      "   energetic       0.59      0.67      0.62        75\n",
      "       happy       0.64      0.55      0.59        89\n",
      "         sad       0.69      0.72      0.70        74\n",
      "\n",
      "    accuracy                           0.68       334\n",
      "   macro avg       0.68      0.68      0.68       334\n",
      "weighted avg       0.68      0.68      0.68       334\n",
      "\n",
      "\n",
      "Accuracy Score:\n",
      "0.6796407185628742\n",
      "\n",
      "Confusion Matrix:\n"
     ]
    },
    {
     "data": {
      "text/plain": [
       "<Figure size 640x480 with 2 Axes>"
      ],
      "image/png": "[encoded data removed]"
     },
     "metadata": {},
     "output_type": "display_data"
    },
    {
     "name": "stdout",
     "output_type": "stream",
     "text": [
      "Logistic Regression Scores: [0.60714286 0.65765766 0.64864865 0.63963964 0.66666667 0.85585586\n",
      " 0.81081081 0.69369369 0.72972973 0.69369369]\n",
      "Average accuracy for 10 folds: 0.7004\n"
     ]
    }
   ],
   "execution_count": 30
  },
  {
   "cell_type": "markdown",
   "id": "57fa6e83",
   "metadata": {},
   "source": [
    "### Model Training 2.1- Selecting the Best Model\n",
    "Here we will test a bunch of different classifiers and determine which one has the highest performance.\n"
   ]
  },
  {
   "metadata": {
    "ExecuteTime": {
     "end_time": "2024-12-01T21:07:17.134725Z",
     "start_time": "2024-12-01T21:07:05.820119Z"
    }
   },
   "cell_type": "code",
   "source": [
    "from sklearn.gaussian_process import GaussianProcessClassifier\n",
    "from sklearn.neighbors import KNeighborsClassifier\n",
    "from sklearn.naive_bayes import GaussianNB\n",
    "from sklearn.svm import LinearSVC, SVC\n",
    "from sklearn.ensemble import AdaBoostClassifier, ExtraTreesClassifier, GradientBoostingClassifier, BaggingClassifier, RandomForestClassifier\n",
    "from sklearn.linear_model import RidgeClassifier, SGDClassifier, PassiveAggressiveClassifier\n",
    "\n",
    "# pick best classifier\n",
    "classifiers = [\n",
    "    RidgeClassifier(random_state=1), SGDClassifier(random_state=1), PassiveAggressiveClassifier(random_state=1), RandomForestClassifier(random_state=1),\n",
    "    GradientBoostingClassifier(random_state=1), AdaBoostClassifier(algorithm=\"SAMME\", random_state=1),\n",
    "    BaggingClassifier(random_state=1), ExtraTreesClassifier(random_state=1), SVC(random_state=1),\n",
    "    LinearSVC(random_state=1), KNeighborsClassifier(),\n",
    "    GaussianNB(), GaussianProcessClassifier(random_state=1)\n",
    "]\n",
    "scores = []\n",
    "bestModel = None\n",
    "bestScore = 0\n",
    "\n",
    "for classifier in classifiers:\n",
    "    meanScore = np.mean(cross_val_score(classifier, X_train, y_train, cv=10))\n",
    "    scores.append(\n",
    "        {\n",
    "            'Name': f'{type(classifier).__name__}',\n",
    "            'Score': meanScore\n",
    "        }\n",
    "    )\n",
    "\n",
    "    if meanScore > bestScore:\n",
    "        bestScore = meanScore\n",
    "        bestModel = classifier\n",
    "\n",
    "print(bestModel, bestScore)"
   ],
   "id": "189221056db815ba",
   "outputs": [
    {
     "name": "stdout",
     "output_type": "stream",
     "text": [
      "RandomForestClassifier(random_state=1) 0.7588329979879276\n"
     ]
    }
   ],
   "execution_count": 31
  },
  {
   "metadata": {},
   "cell_type": "markdown",
   "source": [
    "### Model Training 2.2- RandomForestClassifier\n",
    "We determined above that the RandomForestClassifier performs best. Now let us train one and create a confusion matrix for it.\n"
   ],
   "id": "4efcf1e69988e3c6"
  },
  {
   "cell_type": "code",
   "id": "bd3eb27ad7525a1d",
   "metadata": {
    "ExecuteTime": {
     "end_time": "2024-12-01T21:07:18.777820Z",
     "start_time": "2024-12-01T21:07:17.139076Z"
    }
   },
   "source": [
    "from sklearn.ensemble import RandomForestClassifier\n",
    "\n",
    "# initialize and fit on training data\n",
    "forest = RandomForestClassifier(random_state=1)\n",
    "forest.fit(X_train, y_train)\n",
    "\n",
    "# make predictions on test\n",
    "y_pred = forest.predict(X_test)\n",
    "\n",
    "# evaluate the model\n",
    "print(\"Classification Report:\")\n",
    "print(classification_report(y_test, y_pred, target_names=label_encoder.classes_))\n",
    "\n",
    "print(\"\\nAccuracy Score:\")\n",
    "print(accuracy_score(y_test, y_pred))\n",
    "\n",
    "print(\"\\nConfusion Matrix:\")\n",
    "disp = ConfusionMatrixDisplay(confusion_matrix=confusion_matrix(y_test, y_pred), display_labels=label_encoder.classes_)\n",
    "disp.plot(cmap=plt.cm.Blues, values_format='d')\n",
    "plt.title(\"Confusion Matrix\")\n",
    "plt.show()\n",
    "\n",
    "# CV testing\n",
    "k = 10 \n",
    "cv_scores = cross_val_score(forest , X, y, cv=k, scoring='accuracy')\n",
    "print(f\"RandomForest CV Scores: {cv_scores}\")\n",
    "print(f\"Average accuracy for {k} folds: {cv_scores.mean():.4f}\")\n"
   ],
   "outputs": [
    {
     "name": "stdout",
     "output_type": "stream",
     "text": [
      "Classification Report:\n",
      "              precision    recall  f1-score   support\n",
      "\n",
      "       chill       0.87      0.77      0.82        96\n",
      "   energetic       0.62      0.65      0.64        75\n",
      "       happy       0.69      0.69      0.69        89\n",
      "         sad       0.77      0.84      0.80        74\n",
      "\n",
      "    accuracy                           0.74       334\n",
      "   macro avg       0.74      0.74      0.73       334\n",
      "weighted avg       0.74      0.74      0.74       334\n",
      "\n",
      "\n",
      "Accuracy Score:\n",
      "0.7365269461077845\n",
      "\n",
      "Confusion Matrix:\n"
     ]
    },
    {
     "data": {
      "text/plain": [
       "<Figure size 640x480 with 2 Axes>"
      ],
      "image/png": "[encoded data removed]"
     },
     "metadata": {},
     "output_type": "display_data"
    },
    {
     "name": "stdout",
     "output_type": "stream",
     "text": [
      "RandomForest CV Scores: [0.61607143 0.7027027  0.73873874 0.72072072 0.66666667 0.81981982\n",
      " 0.81081081 0.82882883 0.85585586 0.8018018 ]\n",
      "Average accuracy for 10 folds: 0.7562\n"
     ]
    }
   ],
   "execution_count": 32
  },
  {
   "cell_type": "markdown",
   "id": "7d9da8f7",
   "metadata": {},
   "source": [
    "### Model 3 - XGB Classifier"
   ]
  },
  {
   "cell_type": "code",
   "id": "13f2881c",
   "metadata": {
    "ExecuteTime": {
     "end_time": "2024-12-01T21:07:26.167985Z",
     "start_time": "2024-12-01T21:07:22.217068Z"
    }
   },
   "source": [
    "from xgboost import XGBClassifier\n",
    "\n",
    "# train and fit the model\n",
    "xgb_model = XGBClassifier(objective='multi:softmax', num_class=len(label_encoder.classes_), random_state=1)\n",
    "xgb_model.fit(X_train, y_train)\n",
    "\n",
    "# make predictions on test\n",
    "y_pred = xgb_model.predict(X_test)\n",
    "\n",
    "# evaluate the model\n",
    "print(\"Classification Report:\")\n",
    "print(classification_report(y_test, y_pred, target_names=label_encoder.classes_))\n",
    "\n",
    "print(\"\\nAccuracy Score:\")\n",
    "print(accuracy_score(y_test, y_pred))\n",
    "\n",
    "print(\"\\nConfusion Matrix:\")\n",
    "disp = ConfusionMatrixDisplay(confusion_matrix=confusion_matrix(y_test, y_pred), display_labels=label_encoder.classes_)\n",
    "disp.plot(cmap=plt.cm.Blues, values_format='d')\n",
    "plt.title(\"Confusion Matrix\")\n",
    "plt.show()\n",
    "\n",
    "# CV scores\n",
    "xgb_scores = cross_val_score(xgb_model, X, y, cv=5, scoring='accuracy')\n",
    "print(f\"XGBoost CV Scores: {xgb_scores}\")\n",
    "print(f\"Average XGBoost Accuracy: {xgb_scores.mean():.4f}\")\n"
   ],
   "outputs": [
    {
     "name": "stdout",
     "output_type": "stream",
     "text": [
      "Classification Report:\n",
      "              precision    recall  f1-score   support\n",
      "\n",
      "       chill       0.84      0.76      0.80        96\n",
      "   energetic       0.65      0.68      0.67        75\n",
      "       happy       0.63      0.64      0.63        89\n",
      "         sad       0.74      0.78      0.76        74\n",
      "\n",
      "    accuracy                           0.72       334\n",
      "   macro avg       0.72      0.72      0.72       334\n",
      "weighted avg       0.72      0.72      0.72       334\n",
      "\n",
      "\n",
      "Accuracy Score:\n",
      "0.7155688622754491\n",
      "\n",
      "Confusion Matrix:\n"
     ]
    },
    {
     "data": {
      "text/plain": [
       "<Figure size 640x480 with 2 Axes>"
      ],
      "image/png": "[encoded data removed]"
     },
     "metadata": {},
     "output_type": "display_data"
    },
    {
     "name": "stdout",
     "output_type": "stream",
     "text": [
      "XGBoost CV Scores: [0.65470852 0.73423423 0.72072072 0.80630631 0.82882883]\n",
      "Average XGBoost Accuracy: 0.7490\n"
     ]
    }
   ],
   "execution_count": 33
  },
  {
   "cell_type": "markdown",
   "id": "a24b55c09fc73940",
   "metadata": {},
   "source": [
    "## ML Analysis on Each Member's 'Liked Songs'\n",
    "\n",
    "We will now apply each of the models to our personal liked songs library.\n",
    "This will determine the predominant mood in each person's library (~1000 songs per person)\n"
   ]
  },
  {
   "cell_type": "code",
   "id": "1a7ec85b",
   "metadata": {
    "ExecuteTime": {
     "end_time": "2024-12-01T21:15:04.013805Z",
     "start_time": "2024-12-01T21:15:03.938115Z"
    }
   },
   "source": [
    "import json\n",
    "import pandas as pd\n",
    "\n",
    "models = [logreg, forest, xgb_model]\n",
    "dfs = []\n",
    "\n",
    "files = [\n",
    "    f'./raw/liked_songs_1.json',\n",
    "    f'./raw/liked_songs_2.json',\n",
    "    f'./raw/liked_songs_3.json',\n",
    "    f'./raw/liked_songs_4.json',\n",
    "    f'./raw/liked_songs_5.json',\n",
    "    f'./raw/liked_songs_6.json',\n",
    "]\n",
    "\n",
    "for file in files:\n",
    "    with open(file, 'r') as fileio:\n",
    "        df = pd.DataFrame(json.load(fileio))\n",
    "        dfs.append(df)\n",
    "\n",
    "# drop unnecessary columns and scale to match trained data\n",
    "columns_to_drop = ['name', 'id']\n",
    "dfs = [df.drop(columns=columns_to_drop, errors='ignore') for df in dfs]\n",
    "dfs = [scaler.transform(df) for df in dfs]\n",
    "\n",
    "predictions = []\n",
    "model_number = 1 \n",
    "for model in models:\n",
    "    print(\"-------------------------------------------------------------------------\")\n",
    "    print(f\"Model {model_number} predictions:\")\n",
    "    print\n",
    "\n",
    "    person = 1  \n",
    "\n",
    "    for df in dfs:\n",
    "        # generate predictions for the current model and current person data\n",
    "        predictions = model.predict(df)\n",
    "\n",
    "        # calculate mood percentages\n",
    "        chill_portion = (np.sum(predictions == 0) / len(predictions)) * 100\n",
    "        energetic_portion = (np.sum(predictions == 1) / len(predictions)) * 100\n",
    "        happy_portion = (np.sum(predictions == 2) / len(predictions)) * 100\n",
    "        sad_portion = (np.sum(predictions == 3) / len(predictions)) * 100\n",
    "\n",
    "        # determine the majority mood\n",
    "        mood_percentages = [happy_portion, sad_portion, chill_portion, energetic_portion]\n",
    "        majority_index = np.argmax(mood_percentages)\n",
    "        majority_percentage = np.max(mood_percentages)\n",
    "        mood_names = [\"happy\", \"sad\", \"chill\", \"energetic\"]\n",
    "\n",
    "        print(f'Person {person} listens to mostly {mood_names[majority_index].upper()} music. '\n",
    "              f'{round(majority_percentage,2)}%. is of this mood.')\n",
    "        # print(f' Happy: {happy_portion:.2f}%')\n",
    "        # print(f' Sad: {sad_portion:.2f}%')\n",
    "        # print(f' Chill: {chill_portion:.2f}%')\n",
    "        # print(f' Energetic: {energetic_portion:.2f}%\\n')\n",
    "\n",
    "        person += 1\n",
    "\n",
    "    # Increment model count\n",
    "    model_number += 1"
   ],
   "outputs": [
    {
     "name": "stdout",
     "output_type": "stream",
     "text": [
      "-------------------------------------------------------------------------\n",
      "Model 1 predictions:\n",
      "Person 1 listens to mostly CHILL music. 47.54%. is of this mood.\n",
      "Person 2 listens to mostly ENERGETIC music. 46.44%. is of this mood.\n",
      "Person 3 listens to mostly HAPPY music. 42.59%. is of this mood.\n",
      "Person 4 listens to mostly SAD music. 70.83%. is of this mood.\n",
      "Person 5 listens to mostly ENERGETIC music. 52.0%. is of this mood.\n",
      "Person 6 listens to mostly ENERGETIC music. 43.66%. is of this mood.\n",
      "-------------------------------------------------------------------------\n",
      "Model 2 predictions:\n",
      "Person 1 listens to mostly CHILL music. 48.72%. is of this mood.\n",
      "Person 2 listens to mostly ENERGETIC music. 43.76%. is of this mood.\n",
      "Person 3 listens to mostly ENERGETIC music. 46.3%. is of this mood.\n",
      "Person 4 listens to mostly SAD music. 64.58%. is of this mood.\n",
      "Person 5 listens to mostly ENERGETIC music. 54.6%. is of this mood.\n",
      "Person 6 listens to mostly ENERGETIC music. 39.93%. is of this mood.\n",
      "-------------------------------------------------------------------------\n",
      "Model 3 predictions:\n",
      "Person 1 listens to mostly CHILL music. 48.72%. is of this mood.\n",
      "Person 2 listens to mostly ENERGETIC music. 42.2%. is of this mood.\n",
      "Person 3 listens to mostly ENERGETIC music. 42.59%. is of this mood.\n",
      "Person 4 listens to mostly SAD music. 64.58%. is of this mood.\n",
      "Person 5 listens to mostly ENERGETIC music. 55.8%. is of this mood.\n",
      "Person 6 listens to mostly ENERGETIC music. 39.55%. is of this mood.\n"
     ]
    }
   ],
   "execution_count": 44
  },
  {
   "cell_type": "markdown",
   "id": "37d3175763845b83",
   "metadata": {},
   "source": [
    "## Progress reflection\n",
    "#### Hardest Part of the Project:\n",
    "The most challenging aspect has been handling the large data sets and managing the Spotify API rate limits, which restricted our ability to retrieve data efficiently. These technical issues required a reevaluation of our data collection strategies, including implementing caching and batching requests to better manage API usage.  \n",
    "<br>\n",
    "<br>\n",
    "\n",
    "#### Initial Insights:\n",
    "Our exploratory data analysis revealed that certain song attributes like tempo, valence, and energy significantly vary across different moods. For instance, 'happy' songs generally exhibit higher tempo and energy levels than 'sad' songs, which tend to feature lower valence scores.  \n",
    "<br>\n",
    "<br>\n",
    "\n",
    "#### Concrete Results:\n",
    "We currently have an ML model that can classify songs based on mood with ~70% accuracy.  \n",
    "<br>\n",
    "<br>\n",
    "\n",
    "#### Current Problems and Adjustments:\n",
    "We need to expand the amount of datapoints for training our model. To do this, we will be looking at user created playlists that have one of the four moods as the theme and testing if our classification accuracy improves.  \n",
    "<br>\n",
    "<br>\n",
    "\n",
    "#### On Track:\n",
    "Given that we have this preliminary model, we are on track. The next major goal is to keep improving it and to examine other relationships we could potentially find within Spotify. This could include looking more deeply at user-created playlists and patterns within those.  \n",
    "<br>\n",
    "<br>\n",
    "\n",
    "#### Change in Project Direction:\n",
    "There is no change in the current project direction. We are still focused on improving our model (through better data, spectorgram and feature extraction, and using public playlists with the four moods).  \n",
    "\n",
    "\n"
   ]
  },
  {
   "cell_type": "code",
   "id": "1d51616a",
   "metadata": {},
   "source": [],
   "outputs": [],
   "execution_count": null
  },
  {
   "cell_type": "markdown",
   "id": "51352f7fb9f3c215",
   "metadata": {},
   "source": [
    "## Roles and Coordination\n",
    "\n",
    "Finding data sources and cleaning (By 11/7): Conrad Domagala, Tyler Strach\n",
    "\n",
    "\n",
    "Data Exploration (By 11/15): Ceasar Attar, Andrea Carbonati\n",
    "\n",
    "\n",
    "Statistical analysis (By 11/15): Juan Cruz\n",
    "\n",
    "\n",
    "Data Visualization (By 11/23): Ceasar Attar, Andrea Carbonati, Rovia Simmons\n",
    "\n",
    "\n",
    "Machine Learning Applications (By 11/29): Conrad Domagala, Tyler Strach"
   ]
  },
  {
   "cell_type": "markdown",
   "id": "5cb4b7709d22a901",
   "metadata": {},
   "source": [
    "## Next Steps\n",
    "### Expand Feature Analysis:\n",
    "Incorporate additional features from user profiles to enrich our current model.\n",
    "This can be done by getting a spectrogram of audio files, manually extracting features using libraries like\n",
    "librosa and Essentia, and applying those features to our model to improve accuracy.\n",
    "\n",
    "### Model Development:\n",
    "Start training preliminary machine learning models using the cleaned and processed data.\n",
    "Consider looking at different models (neural network, etc) to see if they have higher accuracy than RandomForestClassifier.\n",
    "\n",
    "Expanding our training datasets by using user-created playlists or finding more provided from Spotify.\n",
    "\n",
    "We can also look at hyperparamter optimization and more to optimize our model.\n",
    "\n",
    "### Evaluate Progress:\n",
    "We will assess our model's performance based on its accuracy in classifying song moods and adjust our strategies accordingly. This evaluation will help us determine if our approach aligns with the project's goals and Spotify's classification standards."
   ]
  }
 ],
 "metadata": {
  "kernelspec": {
   "display_name": "spotifyproject",
   "language": "python",
   "name": "python3"
  },
  "language_info": {
   "codemirror_mode": {
    "name": "ipython",
    "version": 3
   },
   "file_extension": ".py",
   "mimetype": "text/x-python",
   "name": "python",
   "nbconvert_exporter": "python",
   "pygments_lexer": "ipython3",
   "version": "3.12.7"
  }
 },
 "nbformat": 4,
 "nbformat_minor": 5
}
