{
 "cells": [
  {
   "cell_type": "markdown",
   "id": "c5589c084a8a5e79",
   "metadata": {},
   "source": [
    "## Github Classroom\n",
    "Github project repository: https://github.com/cs418-fa24/project-check-in-team-11"
   ]
  },
  {
   "cell_type": "markdown",
   "id": "c646f864235fa003",
   "metadata": {},
   "source": [
    "## Project Introduction\n",
    "Our project aims to understand the spotify song classification/reccomendation algorithm and to see if it can be accurately recreated. Through gathering songs and their respective specific statistics from Spotify, we will determine what aspects of songs does Spotify use the most to determine the mood classification of songs. In turn, we will then evaluate whether or not an overall mood can be determined accurately from a user's liked songs library."
   ]
  },
  {
   "cell_type": "markdown",
   "id": "a4707fdc8d0f579d",
   "metadata": {},
   "source": [
    "## Scope Adjustments\n",
    "We wanted to try and recreate the Spotify wrapped, however that was a large scope and more tailored towards recreating a listening profile based on other non-song related data such as listening history, time of day, and artist preference. We pivoted the scope to focus on song related data such as track features revolving around tempo, loudness, energy, danceability, etc."
   ]
  },
  {
   "cell_type": "markdown",
   "id": "dcd0c8ed824550d5",
   "metadata": {},
   "source": [
    "## Data Collection and Cleaning"
   ]
  },
  {
   "cell_type": "markdown",
   "id": "31a5fb787d672b60",
   "metadata": {},
   "source": [
    "### Retrieve Liked Songs"
   ]
  },
  {
   "cell_type": "code",
   "execution_count": null,
   "id": "388e00de5a99bc18",
   "metadata": {},
   "outputs": [],
   "source": [
    "import json\n",
    "\n",
    "import spotipy\n",
    "from spotipy.oauth2 import SpotifyOAuth\n",
    "\n",
    "CLIENT_ID = ''\n",
    "CLIENT_SECRET = ''\n",
    "REDIRECT_URI = 'http://localhost:8888/callback'\n",
    "\n",
    "moods = {\n",
    "    'HAPPY': '37i9dQZF1EVJSvZp5AOML2',\n",
    "    'SAD': '37i9dQZF1EIh4v230xvJvd',\n",
    "    'CHILL': '37i9dQZF1EIdNTvkcjcOzJ',\n",
    "    'ENERGETIC': '37i9dQZF1EIcVD7Tg8a0MY'\n",
    "}\n",
    "\n",
    "sp = spotipy.Spotify(auth_manager=SpotifyOAuth(\n",
    "    client_id=CLIENT_ID,\n",
    "    client_secret=CLIENT_SECRET,\n",
    "    redirect_uri=REDIRECT_URI,\n",
    "    scope=\"playlist-read-private user-library-read\"  # now accessing private user playlists\n",
    "))\n",
    "\n",
    "sp1 = spotipy.Spotify(auth_manager=SpotifyOAuth(\n",
    "    client_id=CLIENT_ID,\n",
    "    client_secret=CLIENT_SECRET,\n",
    "    redirect_uri=REDIRECT_URI,\n",
    "    scope=\"playlist-read-private user-library-read\"  # now accessing private user playlists\n",
    "))\n",
    "\n",
    "# Get the user's liked songs\n",
    "results = sp.current_user_saved_tracks()\n",
    "liked_songs = []\n",
    "\n",
    "while results:\n",
    "    for item in results['items']:\n",
    "        track = item['track']\n",
    "        features = sp1.audio_features(track['id'])[0]\n",
    "        liked_songs.append({\n",
    "            'name': track['name'],\n",
    "            'id': track['id'],\n",
    "            'acousticness': features['acousticness'],\n",
    "            'danceability': features['danceability'],\n",
    "            'duration_ms': features['duration_ms'],\n",
    "            'energy': features['energy'],\n",
    "            'instrumentalness': features['instrumentalness'],\n",
    "            'key': features['key'],\n",
    "            'liveness': features['liveness'],\n",
    "            'loudness': features['loudness'],\n",
    "            'mode': features['mode'],\n",
    "            'speechiness': features['speechiness'],\n",
    "            'tempo': features['tempo'],\n",
    "            'time_signature': features['time_signature'],\n",
    "            'valence': features['valence']\n",
    "        })\n",
    "\n",
    "    results = sp.next(results)\n",
    "\n",
    "#TODO rename the file so that it does not overwrite anyone else's\n",
    "with open('../raw/liked_songs_1.json', 'w') as json_file:\n",
    "    json.dump(liked_songs, json_file, indent=4)\n"
   ]
  },
  {
   "cell_type": "markdown",
   "id": "c247f893ef0ef462",
   "metadata": {},
   "source": [
    "### Retrieve Spotify-generated Playlists for Each Mood (happy, sad, energetic, chill)"
   ]
  },
  {
   "cell_type": "code",
   "execution_count": null,
   "id": "b1f23a2ac322a2e6",
   "metadata": {
    "ExecuteTime": {
     "end_time": "2024-11-03T23:34:58.288054Z",
     "start_time": "2024-11-03T23:34:58.086520Z"
    }
   },
   "outputs": [],
   "source": [
    "### Steps to get playlists ready to pull\n",
    "# 1.) Find your mix playlists for each mood (happy, sad, energetic, chill)\n",
    "# 2.) Click on the \"...\" and add to another playlist and create a new one. Spotify will create a default name \"<mood> Mix (2)\"\n",
    "# 3.) Once you repeat this for all the moods, you are ready to use this script\n",
    "\n",
    "import json\n",
    "import spotipy\n",
    "from spotipy.oauth2 import SpotifyOAuth\n",
    "\n",
    "# TODO insert info same as library.py...\n",
    "CLIENT_ID = ''\n",
    "CLIENT_SECRET = ''\n",
    "REDIRECT_URI = 'http://localhost:8888/callback'\n",
    "\n",
    "moods = {\n",
    "    'HAPPY': '37i9dQZF1EVJSvZp5AOML2',\n",
    "    'SAD': '37i9dQZF1EIh4v230xvJvd',\n",
    "    'CHILL': '37i9dQZF1EIdNTvkcjcOzJ',\n",
    "    'ENERGETIC': '37i9dQZF1EIcVD7Tg8a0MY'\n",
    "}\n",
    "\n",
    "sp = spotipy.Spotify(auth_manager=SpotifyOAuth(\n",
    "    client_id=CLIENT_ID,\n",
    "    client_secret=CLIENT_SECRET,\n",
    "    redirect_uri=REDIRECT_URI,\n",
    "    scope=\"playlist-read-private\"  # now accessing private user playlists\n",
    "))\n",
    "\n",
    "sp1 = spotipy.Spotify(auth_manager=SpotifyOAuth(\n",
    "    client_id=CLIENT_ID,\n",
    "    client_secret=CLIENT_SECRET,\n",
    "    redirect_uri=REDIRECT_URI,\n",
    "    scope=\"playlist-read-private\"  # now accessing private user playlists\n",
    "))\n",
    "\n",
    "for mood, p_id in moods.items():\n",
    "    results = sp.playlist_items(p_id)\n",
    "    tracks = []\n",
    "\n",
    "    while results:\n",
    "        for item in results['items']:\n",
    "            track = item['track']\n",
    "            features = sp1.audio_features(track['id'])[0]\n",
    "\n",
    "            if features is None:\n",
    "                continue\n",
    "\n",
    "            tracks.append({\n",
    "                'name': track['name'],\n",
    "                'id': track['id'],\n",
    "                'acousticness': features['acousticness'],\n",
    "                'danceability': features['danceability'],\n",
    "                'duration_ms': features['duration_ms'],\n",
    "                'energy': features['energy'],\n",
    "                'instrumentalness': features['instrumentalness'],\n",
    "                'key': features['key'],\n",
    "                'liveness': features['liveness'],\n",
    "                'loudness': features['loudness'],\n",
    "                'mode': features['mode'],\n",
    "                'speechiness': features['speechiness'],\n",
    "                'tempo': features['tempo'],\n",
    "                'time_signature': features['time_signature'],\n",
    "                'valence': features['valence']\n",
    "            })\n",
    "        print(\"mood complete\")\n",
    "        # get next set of tracks\n",
    "        results = sp.next(results)\n",
    "\n",
    "    #TODO make sure to enter the number corresponding to your data\n",
    "    num = 1\n",
    "    with open(f'spotify_{mood.lower()}_{num}.json', 'w') as file:\n",
    "        json.dump(tracks, file, indent=4)\n",
    "\n",
    "    file.close()\n"
   ]
  },
  {
   "cell_type": "markdown",
   "id": "bc5cd210",
   "metadata": {},
   "source": [
    "### Import into Pandas Dataframe"
   ]
  },
  {
   "cell_type": "code",
   "execution_count": 2,
   "id": "205beb0a893ba524",
   "metadata": {},
   "outputs": [
    {
     "name": "stdout",
     "output_type": "stream",
     "text": [
      "Intel MKL WARNING: Support of Intel(R) Streaming SIMD Extensions 4.2 (Intel(R) SSE4.2) enabled only processors has been deprecated. Intel oneAPI Math Kernel Library 2025.0 will require Intel(R) Advanced Vector Extensions (Intel(R) AVX) instructions.\n",
      "Intel MKL WARNING: Support of Intel(R) Streaming SIMD Extensions 4.2 (Intel(R) SSE4.2) enabled only processors has been deprecated. Intel oneAPI Math Kernel Library 2025.0 will require Intel(R) Advanced Vector Extensions (Intel(R) AVX) instructions.\n"
     ]
    },
    {
     "ename": "FileNotFoundError",
     "evalue": "[Errno 2] No such file or directory: '../raw/spotify_happy_1.json'",
     "output_type": "error",
     "traceback": [
      "\u001b[0;31m---------------------------------------------------------------------------\u001b[0m",
      "\u001b[0;31mFileNotFoundError\u001b[0m                         Traceback (most recent call last)",
      "Cell \u001b[0;32mIn[2], line 17\u001b[0m\n\u001b[1;32m      7\u001b[0m files \u001b[38;5;241m=\u001b[39m [\n\u001b[1;32m      8\u001b[0m     \u001b[38;5;124mf\u001b[39m\u001b[38;5;124m'\u001b[39m\u001b[38;5;124m../raw/spotify_\u001b[39m\u001b[38;5;132;01m{\u001b[39;00mmood\u001b[38;5;132;01m}\u001b[39;00m\u001b[38;5;124m_1.json\u001b[39m\u001b[38;5;124m'\u001b[39m,\n\u001b[1;32m      9\u001b[0m     \u001b[38;5;66;03m# f'../raw/spotify_{mood}_2.json',\u001b[39;00m\n\u001b[0;32m   (...)\u001b[0m\n\u001b[1;32m     13\u001b[0m     \u001b[38;5;66;03m# f'../raw/spotify_{mood}_6.json',\u001b[39;00m\n\u001b[1;32m     14\u001b[0m ]\n\u001b[1;32m     16\u001b[0m \u001b[38;5;28;01mfor\u001b[39;00m file \u001b[38;5;129;01min\u001b[39;00m files:\n\u001b[0;32m---> 17\u001b[0m     \u001b[38;5;28;01mwith\u001b[39;00m \u001b[38;5;28;43mopen\u001b[39;49m\u001b[43m(\u001b[49m\u001b[43mfile\u001b[49m\u001b[43m,\u001b[49m\u001b[43m \u001b[49m\u001b[38;5;124;43m'\u001b[39;49m\u001b[38;5;124;43mr\u001b[39;49m\u001b[38;5;124;43m'\u001b[39;49m\u001b[43m)\u001b[49m \u001b[38;5;28;01mas\u001b[39;00m fileio:\n\u001b[1;32m     18\u001b[0m         df \u001b[38;5;241m=\u001b[39m pd\u001b[38;5;241m.\u001b[39mDataFrame(json\u001b[38;5;241m.\u001b[39mload(fileio))\n\u001b[1;32m     19\u001b[0m         df[\u001b[38;5;124m'\u001b[39m\u001b[38;5;124mmood\u001b[39m\u001b[38;5;124m'\u001b[39m] \u001b[38;5;241m=\u001b[39m mood\n",
      "File \u001b[0;32m~/opt/anaconda3/envs/spotifyproject/lib/python3.12/site-packages/IPython/core/interactiveshell.py:324\u001b[0m, in \u001b[0;36m_modified_open\u001b[0;34m(file, *args, **kwargs)\u001b[0m\n\u001b[1;32m    317\u001b[0m \u001b[38;5;28;01mif\u001b[39;00m file \u001b[38;5;129;01min\u001b[39;00m {\u001b[38;5;241m0\u001b[39m, \u001b[38;5;241m1\u001b[39m, \u001b[38;5;241m2\u001b[39m}:\n\u001b[1;32m    318\u001b[0m     \u001b[38;5;28;01mraise\u001b[39;00m \u001b[38;5;167;01mValueError\u001b[39;00m(\n\u001b[1;32m    319\u001b[0m         \u001b[38;5;124mf\u001b[39m\u001b[38;5;124m\"\u001b[39m\u001b[38;5;124mIPython won\u001b[39m\u001b[38;5;124m'\u001b[39m\u001b[38;5;124mt let you open fd=\u001b[39m\u001b[38;5;132;01m{\u001b[39;00mfile\u001b[38;5;132;01m}\u001b[39;00m\u001b[38;5;124m by default \u001b[39m\u001b[38;5;124m\"\u001b[39m\n\u001b[1;32m    320\u001b[0m         \u001b[38;5;124m\"\u001b[39m\u001b[38;5;124mas it is likely to crash IPython. If you know what you are doing, \u001b[39m\u001b[38;5;124m\"\u001b[39m\n\u001b[1;32m    321\u001b[0m         \u001b[38;5;124m\"\u001b[39m\u001b[38;5;124myou can use builtins\u001b[39m\u001b[38;5;124m'\u001b[39m\u001b[38;5;124m open.\u001b[39m\u001b[38;5;124m\"\u001b[39m\n\u001b[1;32m    322\u001b[0m     )\n\u001b[0;32m--> 324\u001b[0m \u001b[38;5;28;01mreturn\u001b[39;00m \u001b[43mio_open\u001b[49m\u001b[43m(\u001b[49m\u001b[43mfile\u001b[49m\u001b[43m,\u001b[49m\u001b[43m \u001b[49m\u001b[38;5;241;43m*\u001b[39;49m\u001b[43margs\u001b[49m\u001b[43m,\u001b[49m\u001b[43m \u001b[49m\u001b[38;5;241;43m*\u001b[39;49m\u001b[38;5;241;43m*\u001b[39;49m\u001b[43mkwargs\u001b[49m\u001b[43m)\u001b[49m\n",
      "\u001b[0;31mFileNotFoundError\u001b[0m: [Errno 2] No such file or directory: '../raw/spotify_happy_1.json'"
     ]
    }
   ],
   "source": [
    "import json\n",
    "import pandas as pd\n",
    "\n",
    "moods = ['happy', 'sad', 'chill', 'energetic']\n",
    "dfs = []\n",
    "for mood in moods:\n",
    "    files = [\n",
    "        f'../raw/spotify_{mood}_1.json',\n",
    "        # f'../raw/spotify_{mood}_2.json',\n",
    "        f'../raw/spotify_{mood}_3.json',\n",
    "        f'../raw/spotify_{mood}_4.json',\n",
    "        # f'../raw/spotify_{mood}_5.json',\n",
    "        # f'../raw/spotify_{mood}_6.json',\n",
    "    ]\n",
    "\n",
    "    for file in files:\n",
    "        with open(file, 'r') as fileio:\n",
    "            df = pd.DataFrame(json.load(fileio))\n",
    "            df['mood'] = mood\n",
    "            dfs.append(df)\n",
    "\n",
    "\n",
    "final_df = pd.concat(dfs, ignore_index=True)\n",
    "\n",
    "#processing\n",
    "drop = ['name', 'id']\n",
    "final_df = final_df.drop(columns=drop)"
   ]
  },
  {
   "cell_type": "markdown",
   "id": "77d29b75d07a2bbf",
   "metadata": {},
   "source": [
    "## Data Exploration\n",
    "explain what your data looks like (words are fine, but visualizations are often better). Include any interesting issues or preliminary conclusions you have about your data."
   ]
  },
  {
   "cell_type": "markdown",
   "id": "fa44861d03b6a706",
   "metadata": {},
   "source": [
    "## Data Visualization\n",
    "that tests an interesting hypothesis, along with an explanation about why you thought this was an interesting hypothesis to investigate."
   ]
  },
  {
   "cell_type": "markdown",
   "id": "c8d59dad1a0ae28f",
   "metadata": {},
   "source": [
    "## ML Data Analysis\n",
    " along with a baseline comparison and an interpretation of the result that you obtain.\n"
   ]
  },
  {
   "cell_type": "markdown",
   "id": "37d3175763845b83",
   "metadata": {},
   "source": [
    "## Progress reflection\n",
    "○\tWhat is the hardest part of the project that you’ve encountered so far?\n",
    "○\tWhat are your initial insights?\n",
    "○\tAre there any concrete results you can show at this point? If not, why not?\n",
    "○\tGoing forward, what are the current biggest problems you’re facing?\n",
    "○\tDo you think you are on track with your project? If not, what parts do you need to dedicate more time to?\n",
    "○\tGiven your initial exploration of the data, is it worth proceeding with your project, why? If not, how are you going to change your project and why do you think it’s better than your current results?\n"
   ]
  },
  {
   "cell_type": "markdown",
   "id": "51352f7fb9f3c215",
   "metadata": {},
   "source": [
    "## Roles and Coordination\n",
    "Finding data sources and cleaning:\n",
    "\n",
    "\n",
    "Statistical analysis: \n",
    "\n",
    "\n",
    "Visualization: \n",
    "\n",
    "\n",
    "Machine Learning Applications: \n",
    "\n",
    " \n",
    "What deadlines should various components of the project be completed by?"
   ]
  },
  {
   "cell_type": "markdown",
   "id": "5cb4b7709d22a901",
   "metadata": {},
   "source": [
    "## Next Steps\n",
    "What you plan to accomplish in the next month and how you plan to evaluate whether your project achieved the goals you set for it."
   ]
  }
 ],
 "metadata": {
  "kernelspec": {
   "display_name": "spotifyproject",
   "language": "python",
   "name": "python3"
  },
  "language_info": {
   "codemirror_mode": {
    "name": "ipython",
    "version": 3
   },
   "file_extension": ".py",
   "mimetype": "text/x-python",
   "name": "python",
   "nbconvert_exporter": "python",
   "pygments_lexer": "ipython3",
   "version": "3.12.7"
  }
 },
 "nbformat": 4,
 "nbformat_minor": 5
}
