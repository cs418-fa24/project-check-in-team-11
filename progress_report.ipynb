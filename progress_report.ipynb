{
 "cells": [
  {
   "cell_type": "markdown",
   "id": "c5589c084a8a5e79",
   "metadata": {},
   "source": [
    "## Github Classroom\n",
    "Github project repository: https://github.com/cs418-fa24/project-check-in-team-11"
   ]
  },
  {
   "cell_type": "markdown",
   "id": "c646f864235fa003",
   "metadata": {},
   "source": [
    "## Project Introduction\n",
    "Our project aims to understand the spotify song classification/reccomendation algorithm and to see if it can be accurately recreated. Through gathering songs and their respective specific statistics from Spotify, we will determine what aspects of songs does Spotify use the most to determine the mood classification of songs. In turn, we will then evaluate whether or not an overall mood can be determined accurately from a user's liked songs library."
   ]
  },
  {
   "cell_type": "markdown",
   "id": "a4707fdc8d0f579d",
   "metadata": {},
   "source": [
    "## Scope Adjustments\n",
    "We wanted to try and recreate the Spotify wrapped, however that was a large scope and more tailored towards recreating a listening profile based on other non-song related data such as listening history, time of day, and artist preference. We pivoted the scope to focus on song related data such as track features revolving around tempo, loudness, energy, danceability, etc."
   ]
  },
  {
   "cell_type": "markdown",
   "id": "dcd0c8ed824550d5",
   "metadata": {},
   "source": [
    "## Data Collection and Cleaning"
   ]
  },
  {
   "cell_type": "markdown",
   "id": "31a5fb787d672b60",
   "metadata": {},
   "source": [
    "### Retrieve Liked Songs"
   ]
  },
  {
   "cell_type": "code",
   "execution_count": null,
   "id": "388e00de5a99bc18",
   "metadata": {
    "ExecuteTime": {
     "end_time": "2024-11-05T01:59:51.253239Z",
     "start_time": "2024-11-05T01:59:51.112421Z"
    }
   },
   "outputs": [
    {
     "name": "stderr",
     "output_type": "stream",
     "text": [
      "Max Retries reached\n"
     ]
    },
    {
     "ename": "SpotifyException",
     "evalue": "http status: 429, code:-1 - /v1/audio-features/?ids=21hsqOOUfdSjHi3SVz8oyv:\n Max Retries, reason: too many 429 error responses",
     "output_type": "error",
     "traceback": [
      "\u001b[0;31m---------------------------------------------------------------------------\u001b[0m",
      "\u001b[0;31mResponseError\u001b[0m                             Traceback (most recent call last)",
      "\u001b[0;31mResponseError\u001b[0m: too many 429 error responses",
      "\nThe above exception was the direct cause of the following exception:\n",
      "\u001b[0;31mMaxRetryError\u001b[0m                             Traceback (most recent call last)",
      "File \u001b[0;32m/opt/anaconda3/envs/new-env/lib/python3.10/site-packages/requests/adapters.py:667\u001b[0m, in \u001b[0;36mHTTPAdapter.send\u001b[0;34m(self, request, stream, timeout, verify, cert, proxies)\u001b[0m\n\u001b[1;32m    666\u001b[0m \u001b[38;5;28;01mtry\u001b[39;00m:\n\u001b[0;32m--> 667\u001b[0m     resp \u001b[38;5;241m=\u001b[39m \u001b[43mconn\u001b[49m\u001b[38;5;241;43m.\u001b[39;49m\u001b[43murlopen\u001b[49m\u001b[43m(\u001b[49m\n\u001b[1;32m    668\u001b[0m \u001b[43m        \u001b[49m\u001b[43mmethod\u001b[49m\u001b[38;5;241;43m=\u001b[39;49m\u001b[43mrequest\u001b[49m\u001b[38;5;241;43m.\u001b[39;49m\u001b[43mmethod\u001b[49m\u001b[43m,\u001b[49m\n\u001b[1;32m    669\u001b[0m \u001b[43m        \u001b[49m\u001b[43murl\u001b[49m\u001b[38;5;241;43m=\u001b[39;49m\u001b[43murl\u001b[49m\u001b[43m,\u001b[49m\n\u001b[1;32m    670\u001b[0m \u001b[43m        \u001b[49m\u001b[43mbody\u001b[49m\u001b[38;5;241;43m=\u001b[39;49m\u001b[43mrequest\u001b[49m\u001b[38;5;241;43m.\u001b[39;49m\u001b[43mbody\u001b[49m\u001b[43m,\u001b[49m\n\u001b[1;32m    671\u001b[0m \u001b[43m        \u001b[49m\u001b[43mheaders\u001b[49m\u001b[38;5;241;43m=\u001b[39;49m\u001b[43mrequest\u001b[49m\u001b[38;5;241;43m.\u001b[39;49m\u001b[43mheaders\u001b[49m\u001b[43m,\u001b[49m\n\u001b[1;32m    672\u001b[0m \u001b[43m        \u001b[49m\u001b[43mredirect\u001b[49m\u001b[38;5;241;43m=\u001b[39;49m\u001b[38;5;28;43;01mFalse\u001b[39;49;00m\u001b[43m,\u001b[49m\n\u001b[1;32m    673\u001b[0m \u001b[43m        \u001b[49m\u001b[43massert_same_host\u001b[49m\u001b[38;5;241;43m=\u001b[39;49m\u001b[38;5;28;43;01mFalse\u001b[39;49;00m\u001b[43m,\u001b[49m\n\u001b[1;32m    674\u001b[0m \u001b[43m        \u001b[49m\u001b[43mpreload_content\u001b[49m\u001b[38;5;241;43m=\u001b[39;49m\u001b[38;5;28;43;01mFalse\u001b[39;49;00m\u001b[43m,\u001b[49m\n\u001b[1;32m    675\u001b[0m \u001b[43m        \u001b[49m\u001b[43mdecode_content\u001b[49m\u001b[38;5;241;43m=\u001b[39;49m\u001b[38;5;28;43;01mFalse\u001b[39;49;00m\u001b[43m,\u001b[49m\n\u001b[1;32m    676\u001b[0m \u001b[43m        \u001b[49m\u001b[43mretries\u001b[49m\u001b[38;5;241;43m=\u001b[39;49m\u001b[38;5;28;43mself\u001b[39;49m\u001b[38;5;241;43m.\u001b[39;49m\u001b[43mmax_retries\u001b[49m\u001b[43m,\u001b[49m\n\u001b[1;32m    677\u001b[0m \u001b[43m        \u001b[49m\u001b[43mtimeout\u001b[49m\u001b[38;5;241;43m=\u001b[39;49m\u001b[43mtimeout\u001b[49m\u001b[43m,\u001b[49m\n\u001b[1;32m    678\u001b[0m \u001b[43m        \u001b[49m\u001b[43mchunked\u001b[49m\u001b[38;5;241;43m=\u001b[39;49m\u001b[43mchunked\u001b[49m\u001b[43m,\u001b[49m\n\u001b[1;32m    679\u001b[0m \u001b[43m    \u001b[49m\u001b[43m)\u001b[49m\n\u001b[1;32m    681\u001b[0m \u001b[38;5;28;01mexcept\u001b[39;00m (ProtocolError, \u001b[38;5;167;01mOSError\u001b[39;00m) \u001b[38;5;28;01mas\u001b[39;00m err:\n",
      "File \u001b[0;32m/opt/anaconda3/envs/new-env/lib/python3.10/site-packages/urllib3/connectionpool.py:944\u001b[0m, in \u001b[0;36mHTTPConnectionPool.urlopen\u001b[0;34m(self, method, url, body, headers, retries, redirect, assert_same_host, timeout, pool_timeout, release_conn, chunked, body_pos, preload_content, decode_content, **response_kw)\u001b[0m\n\u001b[1;32m    943\u001b[0m     log\u001b[38;5;241m.\u001b[39mdebug(\u001b[38;5;124m\"\u001b[39m\u001b[38;5;124mRetry: \u001b[39m\u001b[38;5;132;01m%s\u001b[39;00m\u001b[38;5;124m\"\u001b[39m, url)\n\u001b[0;32m--> 944\u001b[0m     \u001b[38;5;28;01mreturn\u001b[39;00m \u001b[38;5;28;43mself\u001b[39;49m\u001b[38;5;241;43m.\u001b[39;49m\u001b[43murlopen\u001b[49m\u001b[43m(\u001b[49m\n\u001b[1;32m    945\u001b[0m \u001b[43m        \u001b[49m\u001b[43mmethod\u001b[49m\u001b[43m,\u001b[49m\n\u001b[1;32m    946\u001b[0m \u001b[43m        \u001b[49m\u001b[43murl\u001b[49m\u001b[43m,\u001b[49m\n\u001b[1;32m    947\u001b[0m \u001b[43m        \u001b[49m\u001b[43mbody\u001b[49m\u001b[43m,\u001b[49m\n\u001b[1;32m    948\u001b[0m \u001b[43m        \u001b[49m\u001b[43mheaders\u001b[49m\u001b[43m,\u001b[49m\n\u001b[1;32m    949\u001b[0m \u001b[43m        \u001b[49m\u001b[43mretries\u001b[49m\u001b[38;5;241;43m=\u001b[39;49m\u001b[43mretries\u001b[49m\u001b[43m,\u001b[49m\n\u001b[1;32m    950\u001b[0m \u001b[43m        \u001b[49m\u001b[43mredirect\u001b[49m\u001b[38;5;241;43m=\u001b[39;49m\u001b[43mredirect\u001b[49m\u001b[43m,\u001b[49m\n\u001b[1;32m    951\u001b[0m \u001b[43m        \u001b[49m\u001b[43massert_same_host\u001b[49m\u001b[38;5;241;43m=\u001b[39;49m\u001b[43massert_same_host\u001b[49m\u001b[43m,\u001b[49m\n\u001b[1;32m    952\u001b[0m \u001b[43m        \u001b[49m\u001b[43mtimeout\u001b[49m\u001b[38;5;241;43m=\u001b[39;49m\u001b[43mtimeout\u001b[49m\u001b[43m,\u001b[49m\n\u001b[1;32m    953\u001b[0m \u001b[43m        \u001b[49m\u001b[43mpool_timeout\u001b[49m\u001b[38;5;241;43m=\u001b[39;49m\u001b[43mpool_timeout\u001b[49m\u001b[43m,\u001b[49m\n\u001b[1;32m    954\u001b[0m \u001b[43m        \u001b[49m\u001b[43mrelease_conn\u001b[49m\u001b[38;5;241;43m=\u001b[39;49m\u001b[43mrelease_conn\u001b[49m\u001b[43m,\u001b[49m\n\u001b[1;32m    955\u001b[0m \u001b[43m        \u001b[49m\u001b[43mchunked\u001b[49m\u001b[38;5;241;43m=\u001b[39;49m\u001b[43mchunked\u001b[49m\u001b[43m,\u001b[49m\n\u001b[1;32m    956\u001b[0m \u001b[43m        \u001b[49m\u001b[43mbody_pos\u001b[49m\u001b[38;5;241;43m=\u001b[39;49m\u001b[43mbody_pos\u001b[49m\u001b[43m,\u001b[49m\n\u001b[1;32m    957\u001b[0m \u001b[43m        \u001b[49m\u001b[43mpreload_content\u001b[49m\u001b[38;5;241;43m=\u001b[39;49m\u001b[43mpreload_content\u001b[49m\u001b[43m,\u001b[49m\n\u001b[1;32m    958\u001b[0m \u001b[43m        \u001b[49m\u001b[43mdecode_content\u001b[49m\u001b[38;5;241;43m=\u001b[39;49m\u001b[43mdecode_content\u001b[49m\u001b[43m,\u001b[49m\n\u001b[1;32m    959\u001b[0m \u001b[43m        \u001b[49m\u001b[38;5;241;43m*\u001b[39;49m\u001b[38;5;241;43m*\u001b[39;49m\u001b[43mresponse_kw\u001b[49m\u001b[43m,\u001b[49m\n\u001b[1;32m    960\u001b[0m \u001b[43m    \u001b[49m\u001b[43m)\u001b[49m\n\u001b[1;32m    962\u001b[0m \u001b[38;5;28;01mreturn\u001b[39;00m response\n",
      "File \u001b[0;32m/opt/anaconda3/envs/new-env/lib/python3.10/site-packages/urllib3/connectionpool.py:944\u001b[0m, in \u001b[0;36mHTTPConnectionPool.urlopen\u001b[0;34m(self, method, url, body, headers, retries, redirect, assert_same_host, timeout, pool_timeout, release_conn, chunked, body_pos, preload_content, decode_content, **response_kw)\u001b[0m\n\u001b[1;32m    943\u001b[0m     log\u001b[38;5;241m.\u001b[39mdebug(\u001b[38;5;124m\"\u001b[39m\u001b[38;5;124mRetry: \u001b[39m\u001b[38;5;132;01m%s\u001b[39;00m\u001b[38;5;124m\"\u001b[39m, url)\n\u001b[0;32m--> 944\u001b[0m     \u001b[38;5;28;01mreturn\u001b[39;00m \u001b[38;5;28;43mself\u001b[39;49m\u001b[38;5;241;43m.\u001b[39;49m\u001b[43murlopen\u001b[49m\u001b[43m(\u001b[49m\n\u001b[1;32m    945\u001b[0m \u001b[43m        \u001b[49m\u001b[43mmethod\u001b[49m\u001b[43m,\u001b[49m\n\u001b[1;32m    946\u001b[0m \u001b[43m        \u001b[49m\u001b[43murl\u001b[49m\u001b[43m,\u001b[49m\n\u001b[1;32m    947\u001b[0m \u001b[43m        \u001b[49m\u001b[43mbody\u001b[49m\u001b[43m,\u001b[49m\n\u001b[1;32m    948\u001b[0m \u001b[43m        \u001b[49m\u001b[43mheaders\u001b[49m\u001b[43m,\u001b[49m\n\u001b[1;32m    949\u001b[0m \u001b[43m        \u001b[49m\u001b[43mretries\u001b[49m\u001b[38;5;241;43m=\u001b[39;49m\u001b[43mretries\u001b[49m\u001b[43m,\u001b[49m\n\u001b[1;32m    950\u001b[0m \u001b[43m        \u001b[49m\u001b[43mredirect\u001b[49m\u001b[38;5;241;43m=\u001b[39;49m\u001b[43mredirect\u001b[49m\u001b[43m,\u001b[49m\n\u001b[1;32m    951\u001b[0m \u001b[43m        \u001b[49m\u001b[43massert_same_host\u001b[49m\u001b[38;5;241;43m=\u001b[39;49m\u001b[43massert_same_host\u001b[49m\u001b[43m,\u001b[49m\n\u001b[1;32m    952\u001b[0m \u001b[43m        \u001b[49m\u001b[43mtimeout\u001b[49m\u001b[38;5;241;43m=\u001b[39;49m\u001b[43mtimeout\u001b[49m\u001b[43m,\u001b[49m\n\u001b[1;32m    953\u001b[0m \u001b[43m        \u001b[49m\u001b[43mpool_timeout\u001b[49m\u001b[38;5;241;43m=\u001b[39;49m\u001b[43mpool_timeout\u001b[49m\u001b[43m,\u001b[49m\n\u001b[1;32m    954\u001b[0m \u001b[43m        \u001b[49m\u001b[43mrelease_conn\u001b[49m\u001b[38;5;241;43m=\u001b[39;49m\u001b[43mrelease_conn\u001b[49m\u001b[43m,\u001b[49m\n\u001b[1;32m    955\u001b[0m \u001b[43m        \u001b[49m\u001b[43mchunked\u001b[49m\u001b[38;5;241;43m=\u001b[39;49m\u001b[43mchunked\u001b[49m\u001b[43m,\u001b[49m\n\u001b[1;32m    956\u001b[0m \u001b[43m        \u001b[49m\u001b[43mbody_pos\u001b[49m\u001b[38;5;241;43m=\u001b[39;49m\u001b[43mbody_pos\u001b[49m\u001b[43m,\u001b[49m\n\u001b[1;32m    957\u001b[0m \u001b[43m        \u001b[49m\u001b[43mpreload_content\u001b[49m\u001b[38;5;241;43m=\u001b[39;49m\u001b[43mpreload_content\u001b[49m\u001b[43m,\u001b[49m\n\u001b[1;32m    958\u001b[0m \u001b[43m        \u001b[49m\u001b[43mdecode_content\u001b[49m\u001b[38;5;241;43m=\u001b[39;49m\u001b[43mdecode_content\u001b[49m\u001b[43m,\u001b[49m\n\u001b[1;32m    959\u001b[0m \u001b[43m        \u001b[49m\u001b[38;5;241;43m*\u001b[39;49m\u001b[38;5;241;43m*\u001b[39;49m\u001b[43mresponse_kw\u001b[49m\u001b[43m,\u001b[49m\n\u001b[1;32m    960\u001b[0m \u001b[43m    \u001b[49m\u001b[43m)\u001b[49m\n\u001b[1;32m    962\u001b[0m \u001b[38;5;28;01mreturn\u001b[39;00m response\n",
      "File \u001b[0;32m/opt/anaconda3/envs/new-env/lib/python3.10/site-packages/urllib3/connectionpool.py:944\u001b[0m, in \u001b[0;36mHTTPConnectionPool.urlopen\u001b[0;34m(self, method, url, body, headers, retries, redirect, assert_same_host, timeout, pool_timeout, release_conn, chunked, body_pos, preload_content, decode_content, **response_kw)\u001b[0m\n\u001b[1;32m    943\u001b[0m     log\u001b[38;5;241m.\u001b[39mdebug(\u001b[38;5;124m\"\u001b[39m\u001b[38;5;124mRetry: \u001b[39m\u001b[38;5;132;01m%s\u001b[39;00m\u001b[38;5;124m\"\u001b[39m, url)\n\u001b[0;32m--> 944\u001b[0m     \u001b[38;5;28;01mreturn\u001b[39;00m \u001b[38;5;28;43mself\u001b[39;49m\u001b[38;5;241;43m.\u001b[39;49m\u001b[43murlopen\u001b[49m\u001b[43m(\u001b[49m\n\u001b[1;32m    945\u001b[0m \u001b[43m        \u001b[49m\u001b[43mmethod\u001b[49m\u001b[43m,\u001b[49m\n\u001b[1;32m    946\u001b[0m \u001b[43m        \u001b[49m\u001b[43murl\u001b[49m\u001b[43m,\u001b[49m\n\u001b[1;32m    947\u001b[0m \u001b[43m        \u001b[49m\u001b[43mbody\u001b[49m\u001b[43m,\u001b[49m\n\u001b[1;32m    948\u001b[0m \u001b[43m        \u001b[49m\u001b[43mheaders\u001b[49m\u001b[43m,\u001b[49m\n\u001b[1;32m    949\u001b[0m \u001b[43m        \u001b[49m\u001b[43mretries\u001b[49m\u001b[38;5;241;43m=\u001b[39;49m\u001b[43mretries\u001b[49m\u001b[43m,\u001b[49m\n\u001b[1;32m    950\u001b[0m \u001b[43m        \u001b[49m\u001b[43mredirect\u001b[49m\u001b[38;5;241;43m=\u001b[39;49m\u001b[43mredirect\u001b[49m\u001b[43m,\u001b[49m\n\u001b[1;32m    951\u001b[0m \u001b[43m        \u001b[49m\u001b[43massert_same_host\u001b[49m\u001b[38;5;241;43m=\u001b[39;49m\u001b[43massert_same_host\u001b[49m\u001b[43m,\u001b[49m\n\u001b[1;32m    952\u001b[0m \u001b[43m        \u001b[49m\u001b[43mtimeout\u001b[49m\u001b[38;5;241;43m=\u001b[39;49m\u001b[43mtimeout\u001b[49m\u001b[43m,\u001b[49m\n\u001b[1;32m    953\u001b[0m \u001b[43m        \u001b[49m\u001b[43mpool_timeout\u001b[49m\u001b[38;5;241;43m=\u001b[39;49m\u001b[43mpool_timeout\u001b[49m\u001b[43m,\u001b[49m\n\u001b[1;32m    954\u001b[0m \u001b[43m        \u001b[49m\u001b[43mrelease_conn\u001b[49m\u001b[38;5;241;43m=\u001b[39;49m\u001b[43mrelease_conn\u001b[49m\u001b[43m,\u001b[49m\n\u001b[1;32m    955\u001b[0m \u001b[43m        \u001b[49m\u001b[43mchunked\u001b[49m\u001b[38;5;241;43m=\u001b[39;49m\u001b[43mchunked\u001b[49m\u001b[43m,\u001b[49m\n\u001b[1;32m    956\u001b[0m \u001b[43m        \u001b[49m\u001b[43mbody_pos\u001b[49m\u001b[38;5;241;43m=\u001b[39;49m\u001b[43mbody_pos\u001b[49m\u001b[43m,\u001b[49m\n\u001b[1;32m    957\u001b[0m \u001b[43m        \u001b[49m\u001b[43mpreload_content\u001b[49m\u001b[38;5;241;43m=\u001b[39;49m\u001b[43mpreload_content\u001b[49m\u001b[43m,\u001b[49m\n\u001b[1;32m    958\u001b[0m \u001b[43m        \u001b[49m\u001b[43mdecode_content\u001b[49m\u001b[38;5;241;43m=\u001b[39;49m\u001b[43mdecode_content\u001b[49m\u001b[43m,\u001b[49m\n\u001b[1;32m    959\u001b[0m \u001b[43m        \u001b[49m\u001b[38;5;241;43m*\u001b[39;49m\u001b[38;5;241;43m*\u001b[39;49m\u001b[43mresponse_kw\u001b[49m\u001b[43m,\u001b[49m\n\u001b[1;32m    960\u001b[0m \u001b[43m    \u001b[49m\u001b[43m)\u001b[49m\n\u001b[1;32m    962\u001b[0m \u001b[38;5;28;01mreturn\u001b[39;00m response\n",
      "File \u001b[0;32m/opt/anaconda3/envs/new-env/lib/python3.10/site-packages/urllib3/connectionpool.py:934\u001b[0m, in \u001b[0;36mHTTPConnectionPool.urlopen\u001b[0;34m(self, method, url, body, headers, retries, redirect, assert_same_host, timeout, pool_timeout, release_conn, chunked, body_pos, preload_content, decode_content, **response_kw)\u001b[0m\n\u001b[1;32m    933\u001b[0m \u001b[38;5;28;01mtry\u001b[39;00m:\n\u001b[0;32m--> 934\u001b[0m     retries \u001b[38;5;241m=\u001b[39m \u001b[43mretries\u001b[49m\u001b[38;5;241;43m.\u001b[39;49m\u001b[43mincrement\u001b[49m\u001b[43m(\u001b[49m\u001b[43mmethod\u001b[49m\u001b[43m,\u001b[49m\u001b[43m \u001b[49m\u001b[43murl\u001b[49m\u001b[43m,\u001b[49m\u001b[43m \u001b[49m\u001b[43mresponse\u001b[49m\u001b[38;5;241;43m=\u001b[39;49m\u001b[43mresponse\u001b[49m\u001b[43m,\u001b[49m\u001b[43m \u001b[49m\u001b[43m_pool\u001b[49m\u001b[38;5;241;43m=\u001b[39;49m\u001b[38;5;28;43mself\u001b[39;49m\u001b[43m)\u001b[49m\n\u001b[1;32m    935\u001b[0m \u001b[38;5;28;01mexcept\u001b[39;00m MaxRetryError:\n",
      "File \u001b[0;32m/opt/anaconda3/envs/new-env/lib/python3.10/site-packages/urllib3/util/retry.py:519\u001b[0m, in \u001b[0;36mRetry.increment\u001b[0;34m(self, method, url, response, error, _pool, _stacktrace)\u001b[0m\n\u001b[1;32m    518\u001b[0m     reason \u001b[38;5;241m=\u001b[39m error \u001b[38;5;129;01mor\u001b[39;00m ResponseError(cause)\n\u001b[0;32m--> 519\u001b[0m     \u001b[38;5;28;01mraise\u001b[39;00m MaxRetryError(_pool, url, reason) \u001b[38;5;28;01mfrom\u001b[39;00m \u001b[38;5;21;01mreason\u001b[39;00m  \u001b[38;5;66;03m# type: ignore[arg-type]\u001b[39;00m\n\u001b[1;32m    521\u001b[0m log\u001b[38;5;241m.\u001b[39mdebug(\u001b[38;5;124m\"\u001b[39m\u001b[38;5;124mIncremented Retry for (url=\u001b[39m\u001b[38;5;124m'\u001b[39m\u001b[38;5;132;01m%s\u001b[39;00m\u001b[38;5;124m'\u001b[39m\u001b[38;5;124m): \u001b[39m\u001b[38;5;132;01m%r\u001b[39;00m\u001b[38;5;124m\"\u001b[39m, url, new_retry)\n",
      "\u001b[0;31mMaxRetryError\u001b[0m: HTTPSConnectionPool(host='api.spotify.com', port=443): Max retries exceeded with url: /v1/audio-features/?ids=21hsqOOUfdSjHi3SVz8oyv (Caused by ResponseError('too many 429 error responses'))",
      "\nDuring handling of the above exception, another exception occurred:\n",
      "\u001b[0;31mRetryError\u001b[0m                                Traceback (most recent call last)",
      "File \u001b[0;32m/opt/anaconda3/envs/new-env/lib/python3.10/site-packages/spotipy/client.py:270\u001b[0m, in \u001b[0;36mSpotify._internal_call\u001b[0;34m(self, method, url, payload, params)\u001b[0m\n\u001b[1;32m    269\u001b[0m \u001b[38;5;28;01mtry\u001b[39;00m:\n\u001b[0;32m--> 270\u001b[0m     response \u001b[38;5;241m=\u001b[39m \u001b[38;5;28;43mself\u001b[39;49m\u001b[38;5;241;43m.\u001b[39;49m\u001b[43m_session\u001b[49m\u001b[38;5;241;43m.\u001b[39;49m\u001b[43mrequest\u001b[49m\u001b[43m(\u001b[49m\n\u001b[1;32m    271\u001b[0m \u001b[43m        \u001b[49m\u001b[43mmethod\u001b[49m\u001b[43m,\u001b[49m\u001b[43m \u001b[49m\u001b[43murl\u001b[49m\u001b[43m,\u001b[49m\u001b[43m \u001b[49m\u001b[43mheaders\u001b[49m\u001b[38;5;241;43m=\u001b[39;49m\u001b[43mheaders\u001b[49m\u001b[43m,\u001b[49m\u001b[43m \u001b[49m\u001b[43mproxies\u001b[49m\u001b[38;5;241;43m=\u001b[39;49m\u001b[38;5;28;43mself\u001b[39;49m\u001b[38;5;241;43m.\u001b[39;49m\u001b[43mproxies\u001b[49m\u001b[43m,\u001b[49m\n\u001b[1;32m    272\u001b[0m \u001b[43m        \u001b[49m\u001b[43mtimeout\u001b[49m\u001b[38;5;241;43m=\u001b[39;49m\u001b[38;5;28;43mself\u001b[39;49m\u001b[38;5;241;43m.\u001b[39;49m\u001b[43mrequests_timeout\u001b[49m\u001b[43m,\u001b[49m\u001b[43m \u001b[49m\u001b[38;5;241;43m*\u001b[39;49m\u001b[38;5;241;43m*\u001b[39;49m\u001b[43margs\u001b[49m\n\u001b[1;32m    273\u001b[0m \u001b[43m    \u001b[49m\u001b[43m)\u001b[49m\n\u001b[1;32m    275\u001b[0m     response\u001b[38;5;241m.\u001b[39mraise_for_status()\n",
      "File \u001b[0;32m/opt/anaconda3/envs/new-env/lib/python3.10/site-packages/requests/sessions.py:589\u001b[0m, in \u001b[0;36mSession.request\u001b[0;34m(self, method, url, params, data, headers, cookies, files, auth, timeout, allow_redirects, proxies, hooks, stream, verify, cert, json)\u001b[0m\n\u001b[1;32m    588\u001b[0m send_kwargs\u001b[38;5;241m.\u001b[39mupdate(settings)\n\u001b[0;32m--> 589\u001b[0m resp \u001b[38;5;241m=\u001b[39m \u001b[38;5;28;43mself\u001b[39;49m\u001b[38;5;241;43m.\u001b[39;49m\u001b[43msend\u001b[49m\u001b[43m(\u001b[49m\u001b[43mprep\u001b[49m\u001b[43m,\u001b[49m\u001b[43m \u001b[49m\u001b[38;5;241;43m*\u001b[39;49m\u001b[38;5;241;43m*\u001b[39;49m\u001b[43msend_kwargs\u001b[49m\u001b[43m)\u001b[49m\n\u001b[1;32m    591\u001b[0m \u001b[38;5;28;01mreturn\u001b[39;00m resp\n",
      "File \u001b[0;32m/opt/anaconda3/envs/new-env/lib/python3.10/site-packages/requests/sessions.py:703\u001b[0m, in \u001b[0;36mSession.send\u001b[0;34m(self, request, **kwargs)\u001b[0m\n\u001b[1;32m    702\u001b[0m \u001b[38;5;66;03m# Send the request\u001b[39;00m\n\u001b[0;32m--> 703\u001b[0m r \u001b[38;5;241m=\u001b[39m \u001b[43madapter\u001b[49m\u001b[38;5;241;43m.\u001b[39;49m\u001b[43msend\u001b[49m\u001b[43m(\u001b[49m\u001b[43mrequest\u001b[49m\u001b[43m,\u001b[49m\u001b[43m \u001b[49m\u001b[38;5;241;43m*\u001b[39;49m\u001b[38;5;241;43m*\u001b[39;49m\u001b[43mkwargs\u001b[49m\u001b[43m)\u001b[49m\n\u001b[1;32m    705\u001b[0m \u001b[38;5;66;03m# Total elapsed time of the request (approximately)\u001b[39;00m\n",
      "File \u001b[0;32m/opt/anaconda3/envs/new-env/lib/python3.10/site-packages/requests/adapters.py:691\u001b[0m, in \u001b[0;36mHTTPAdapter.send\u001b[0;34m(self, request, stream, timeout, verify, cert, proxies)\u001b[0m\n\u001b[1;32m    690\u001b[0m \u001b[38;5;28;01mif\u001b[39;00m \u001b[38;5;28misinstance\u001b[39m(e\u001b[38;5;241m.\u001b[39mreason, ResponseError):\n\u001b[0;32m--> 691\u001b[0m     \u001b[38;5;28;01mraise\u001b[39;00m RetryError(e, request\u001b[38;5;241m=\u001b[39mrequest)\n\u001b[1;32m    693\u001b[0m \u001b[38;5;28;01mif\u001b[39;00m \u001b[38;5;28misinstance\u001b[39m(e\u001b[38;5;241m.\u001b[39mreason, _ProxyError):\n",
      "\u001b[0;31mRetryError\u001b[0m: HTTPSConnectionPool(host='api.spotify.com', port=443): Max retries exceeded with url: /v1/audio-features/?ids=21hsqOOUfdSjHi3SVz8oyv (Caused by ResponseError('too many 429 error responses'))",
      "\nDuring handling of the above exception, another exception occurred:\n",
      "\u001b[0;31mSpotifyException\u001b[0m                          Traceback (most recent call last)",
      "Cell \u001b[0;32mIn[1], line 38\u001b[0m\n\u001b[1;32m     36\u001b[0m \u001b[38;5;28;01mfor\u001b[39;00m item \u001b[38;5;129;01min\u001b[39;00m results[\u001b[38;5;124m'\u001b[39m\u001b[38;5;124mitems\u001b[39m\u001b[38;5;124m'\u001b[39m]:\n\u001b[1;32m     37\u001b[0m     track \u001b[38;5;241m=\u001b[39m item[\u001b[38;5;124m'\u001b[39m\u001b[38;5;124mtrack\u001b[39m\u001b[38;5;124m'\u001b[39m]\n\u001b[0;32m---> 38\u001b[0m     features \u001b[38;5;241m=\u001b[39m \u001b[43msp1\u001b[49m\u001b[38;5;241;43m.\u001b[39;49m\u001b[43maudio_features\u001b[49m\u001b[43m(\u001b[49m\u001b[43mtrack\u001b[49m\u001b[43m[\u001b[49m\u001b[38;5;124;43m'\u001b[39;49m\u001b[38;5;124;43mid\u001b[39;49m\u001b[38;5;124;43m'\u001b[39;49m\u001b[43m]\u001b[49m\u001b[43m)\u001b[49m[\u001b[38;5;241m0\u001b[39m]\n\u001b[1;32m     39\u001b[0m     liked_songs\u001b[38;5;241m.\u001b[39mappend({\n\u001b[1;32m     40\u001b[0m         \u001b[38;5;124m'\u001b[39m\u001b[38;5;124mname\u001b[39m\u001b[38;5;124m'\u001b[39m: track[\u001b[38;5;124m'\u001b[39m\u001b[38;5;124mname\u001b[39m\u001b[38;5;124m'\u001b[39m],\n\u001b[1;32m     41\u001b[0m         \u001b[38;5;124m'\u001b[39m\u001b[38;5;124mid\u001b[39m\u001b[38;5;124m'\u001b[39m: track[\u001b[38;5;124m'\u001b[39m\u001b[38;5;124mid\u001b[39m\u001b[38;5;124m'\u001b[39m],\n\u001b[0;32m   (...)\u001b[0m\n\u001b[1;32m     54\u001b[0m         \u001b[38;5;124m'\u001b[39m\u001b[38;5;124mvalence\u001b[39m\u001b[38;5;124m'\u001b[39m: features[\u001b[38;5;124m'\u001b[39m\u001b[38;5;124mvalence\u001b[39m\u001b[38;5;124m'\u001b[39m]\n\u001b[1;32m     55\u001b[0m     })\n\u001b[1;32m     57\u001b[0m results \u001b[38;5;241m=\u001b[39m sp\u001b[38;5;241m.\u001b[39mnext(results)\n",
      "File \u001b[0;32m/opt/anaconda3/envs/new-env/lib/python3.10/site-packages/spotipy/client.py:1750\u001b[0m, in \u001b[0;36mSpotify.audio_features\u001b[0;34m(self, tracks)\u001b[0m\n\u001b[1;32m   1748\u001b[0m \u001b[38;5;28;01mif\u001b[39;00m \u001b[38;5;28misinstance\u001b[39m(tracks, \u001b[38;5;28mstr\u001b[39m):\n\u001b[1;32m   1749\u001b[0m     trackid \u001b[38;5;241m=\u001b[39m \u001b[38;5;28mself\u001b[39m\u001b[38;5;241m.\u001b[39m_get_id(\u001b[38;5;124m\"\u001b[39m\u001b[38;5;124mtrack\u001b[39m\u001b[38;5;124m\"\u001b[39m, tracks)\n\u001b[0;32m-> 1750\u001b[0m     results \u001b[38;5;241m=\u001b[39m \u001b[38;5;28;43mself\u001b[39;49m\u001b[38;5;241;43m.\u001b[39;49m\u001b[43m_get\u001b[49m\u001b[43m(\u001b[49m\u001b[38;5;124;43m\"\u001b[39;49m\u001b[38;5;124;43maudio-features/?ids=\u001b[39;49m\u001b[38;5;124;43m\"\u001b[39;49m\u001b[43m \u001b[49m\u001b[38;5;241;43m+\u001b[39;49m\u001b[43m \u001b[49m\u001b[43mtrackid\u001b[49m\u001b[43m)\u001b[49m\n\u001b[1;32m   1751\u001b[0m \u001b[38;5;28;01melse\u001b[39;00m:\n\u001b[1;32m   1752\u001b[0m     tlist \u001b[38;5;241m=\u001b[39m [\u001b[38;5;28mself\u001b[39m\u001b[38;5;241m.\u001b[39m_get_id(\u001b[38;5;124m\"\u001b[39m\u001b[38;5;124mtrack\u001b[39m\u001b[38;5;124m\"\u001b[39m, t) \u001b[38;5;28;01mfor\u001b[39;00m t \u001b[38;5;129;01min\u001b[39;00m tracks]\n",
      "File \u001b[0;32m/opt/anaconda3/envs/new-env/lib/python3.10/site-packages/spotipy/client.py:327\u001b[0m, in \u001b[0;36mSpotify._get\u001b[0;34m(self, url, args, payload, **kwargs)\u001b[0m\n\u001b[1;32m    324\u001b[0m \u001b[38;5;28;01mif\u001b[39;00m args:\n\u001b[1;32m    325\u001b[0m     kwargs\u001b[38;5;241m.\u001b[39mupdate(args)\n\u001b[0;32m--> 327\u001b[0m \u001b[38;5;28;01mreturn\u001b[39;00m \u001b[38;5;28;43mself\u001b[39;49m\u001b[38;5;241;43m.\u001b[39;49m\u001b[43m_internal_call\u001b[49m\u001b[43m(\u001b[49m\u001b[38;5;124;43m\"\u001b[39;49m\u001b[38;5;124;43mGET\u001b[39;49m\u001b[38;5;124;43m\"\u001b[39;49m\u001b[43m,\u001b[49m\u001b[43m \u001b[49m\u001b[43murl\u001b[49m\u001b[43m,\u001b[49m\u001b[43m \u001b[49m\u001b[43mpayload\u001b[49m\u001b[43m,\u001b[49m\u001b[43m \u001b[49m\u001b[43mkwargs\u001b[49m\u001b[43m)\u001b[49m\n",
      "File \u001b[0;32m/opt/anaconda3/envs/new-env/lib/python3.10/site-packages/spotipy/client.py:311\u001b[0m, in \u001b[0;36mSpotify._internal_call\u001b[0;34m(self, method, url, payload, params)\u001b[0m\n\u001b[1;32m    309\u001b[0m     \u001b[38;5;28;01mexcept\u001b[39;00m (\u001b[38;5;167;01mIndexError\u001b[39;00m, \u001b[38;5;167;01mAttributeError\u001b[39;00m):\n\u001b[1;32m    310\u001b[0m         reason \u001b[38;5;241m=\u001b[39m \u001b[38;5;28;01mNone\u001b[39;00m\n\u001b[0;32m--> 311\u001b[0m     \u001b[38;5;28;01mraise\u001b[39;00m SpotifyException(\n\u001b[1;32m    312\u001b[0m         \u001b[38;5;241m429\u001b[39m,\n\u001b[1;32m    313\u001b[0m         \u001b[38;5;241m-\u001b[39m\u001b[38;5;241m1\u001b[39m,\n\u001b[1;32m    314\u001b[0m         \u001b[38;5;124mf\u001b[39m\u001b[38;5;124m\"\u001b[39m\u001b[38;5;132;01m{\u001b[39;00mrequest\u001b[38;5;241m.\u001b[39mpath_url\u001b[38;5;132;01m}\u001b[39;00m\u001b[38;5;124m:\u001b[39m\u001b[38;5;130;01m\\n\u001b[39;00m\u001b[38;5;124m Max Retries\u001b[39m\u001b[38;5;124m\"\u001b[39m,\n\u001b[1;32m    315\u001b[0m         reason\u001b[38;5;241m=\u001b[39mreason\n\u001b[1;32m    316\u001b[0m     )\n\u001b[1;32m    317\u001b[0m \u001b[38;5;28;01mexcept\u001b[39;00m \u001b[38;5;167;01mValueError\u001b[39;00m:\n\u001b[1;32m    318\u001b[0m     results \u001b[38;5;241m=\u001b[39m \u001b[38;5;28;01mNone\u001b[39;00m\n",
      "\u001b[0;31mSpotifyException\u001b[0m: http status: 429, code:-1 - /v1/audio-features/?ids=21hsqOOUfdSjHi3SVz8oyv:\n Max Retries, reason: too many 429 error responses"
     ]
    }
   ],
   "source": [
    "import json\n",
    "\n",
    "import spotipy\n",
    "from spotipy.oauth2 import SpotifyOAuth\n",
    "\n",
    "CLIENT_ID = ''\n",
    "CLIENT_SECRET = ''\n",
    "REDIRECT_URI = 'http://localhost:8888/callback'\n",
    "\n",
    "moods = {\n",
    "    'HAPPY': '37i9dQZF1EVJSvZp5AOML2',\n",
    "    'SAD': '37i9dQZF1EIh4v230xvJvd',\n",
    "    'CHILL': '37i9dQZF1EIdNTvkcjcOzJ',\n",
    "    'ENERGETIC': '37i9dQZF1EIcVD7Tg8a0MY'\n",
    "}\n",
    "\n",
    "sp = spotipy.Spotify(auth_manager=SpotifyOAuth(\n",
    "    client_id=CLIENT_ID,\n",
    "    client_secret=CLIENT_SECRET,\n",
    "    redirect_uri=REDIRECT_URI,\n",
    "    scope=\"playlist-read-private user-library-read\"  # now accessing private user playlists\n",
    "))\n",
    "\n",
    "sp1 = spotipy.Spotify(auth_manager=SpotifyOAuth(\n",
    "    client_id=CLIENT_ID,\n",
    "    client_secret=CLIENT_SECRET,\n",
    "    redirect_uri=REDIRECT_URI,\n",
    "    scope=\"playlist-read-private user-library-read\"  # now accessing private user playlists\n",
    "))\n",
    "\n",
    "# Get the user's liked songs\n",
    "results = sp.current_user_saved_tracks()\n",
    "liked_songs = []\n",
    "\n",
    "while results:\n",
    "    for item in results['items']:\n",
    "        track = item['track']\n",
    "        features = sp1.audio_features(track['id'])[0]\n",
    "        liked_songs.append({\n",
    "            'name': track['name'],\n",
    "            'id': track['id'],\n",
    "            'acousticness': features['acousticness'],\n",
    "            'danceability': features['danceability'],\n",
    "            'duration_ms': features['duration_ms'],\n",
    "            'energy': features['energy'],\n",
    "            'instrumentalness': features['instrumentalness'],\n",
    "            'key': features['key'],\n",
    "            'liveness': features['liveness'],\n",
    "            'loudness': features['loudness'],\n",
    "            'mode': features['mode'],\n",
    "            'speechiness': features['speechiness'],\n",
    "            'tempo': features['tempo'],\n",
    "            'time_signature': features['time_signature'],\n",
    "            'valence': features['valence']\n",
    "        })\n",
    "\n",
    "    results = sp.next(results)\n",
    "\n",
    "#TODO rename the file so that it does not overwrite anyone else's\n",
    "with open('/Users/conrad/dev-school/418/final-project/raw/liked_songs_1.json', 'w') as json_file:\n",
    "    json.dump(liked_songs, json_file, indent=4)\n"
   ]
  },
  {
   "cell_type": "markdown",
   "id": "c247f893ef0ef462",
   "metadata": {},
   "source": [
    "### Retrieve Spotify-generated Playlists for Each Mood (happy, sad, energetic, chill)"
   ]
  },
  {
   "cell_type": "code",
   "execution_count": null,
   "id": "b1f23a2ac322a2e6",
   "metadata": {
    "ExecuteTime": {
     "end_time": "2024-11-03T23:34:58.288054Z",
     "start_time": "2024-11-03T23:34:58.086520Z"
    }
   },
   "outputs": [],
   "source": [
    "### Steps to get playlists ready to pull\n",
    "# 1.) Find your mix playlists for each mood (happy, sad, energetic, chill)\n",
    "# 2.) Click on the \"...\" and add to another playlist and create a new one. Spotify will create a default name \"<mood> Mix (2)\"\n",
    "# 3.) Once you repeat this for all the moods, you are ready to use this script\n",
    "\n",
    "import json\n",
    "import spotipy\n",
    "from spotipy.oauth2 import SpotifyOAuth\n",
    "\n",
    "# TODO insert info same as library.py...\n",
    "CLIENT_ID = ''\n",
    "CLIENT_SECRET = ''\n",
    "REDIRECT_URI = 'http://localhost:8888/callback'\n",
    "\n",
    "moods = {\n",
    "    'HAPPY': '37i9dQZF1EVJSvZp5AOML2',\n",
    "    'SAD': '37i9dQZF1EIh4v230xvJvd',\n",
    "    'CHILL': '37i9dQZF1EIdNTvkcjcOzJ',\n",
    "    'ENERGETIC': '37i9dQZF1EIcVD7Tg8a0MY'\n",
    "}\n",
    "\n",
    "sp = spotipy.Spotify(auth_manager=SpotifyOAuth(\n",
    "    client_id=CLIENT_ID,\n",
    "    client_secret=CLIENT_SECRET,\n",
    "    redirect_uri=REDIRECT_URI,\n",
    "    scope=\"playlist-read-private\"  # now accessing private user playlists\n",
    "))\n",
    "\n",
    "sp1 = spotipy.Spotify(auth_manager=SpotifyOAuth(\n",
    "    client_id=CLIENT_ID,\n",
    "    client_secret=CLIENT_SECRET,\n",
    "    redirect_uri=REDIRECT_URI,\n",
    "    scope=\"playlist-read-private\"  # now accessing private user playlists\n",
    "))\n",
    "\n",
    "for mood, p_id in moods.items():\n",
    "    results = sp.playlist_items(p_id)\n",
    "    tracks = []\n",
    "\n",
    "    while results:\n",
    "        for item in results['items']:\n",
    "            track = item['track']\n",
    "            features = sp1.audio_features(track['id'])[0]\n",
    "\n",
    "            if features is None:\n",
    "                continue\n",
    "\n",
    "            tracks.append({\n",
    "                'name': track['name'],\n",
    "                'id': track['id'],\n",
    "                'acousticness': features['acousticness'],\n",
    "                'danceability': features['danceability'],\n",
    "                'duration_ms': features['duration_ms'],\n",
    "                'energy': features['energy'],\n",
    "                'instrumentalness': features['instrumentalness'],\n",
    "                'key': features['key'],\n",
    "                'liveness': features['liveness'],\n",
    "                'loudness': features['loudness'],\n",
    "                'mode': features['mode'],\n",
    "                'speechiness': features['speechiness'],\n",
    "                'tempo': features['tempo'],\n",
    "                'time_signature': features['time_signature'],\n",
    "                'valence': features['valence']\n",
    "            })\n",
    "        print(\"mood complete\")\n",
    "        # get next set of tracks\n",
    "        results = sp.next(results)\n",
    "\n",
    "    #TODO make sure to enter the number corresponding to your data\n",
    "    num = 1\n",
    "    with open(f'spotify_{mood.lower()}_{num}.json', 'w') as file:\n",
    "        json.dump(tracks, file, indent=4)\n",
    "\n",
    "    file.close()\n"
   ]
  },
  {
   "cell_type": "markdown",
   "id": "bc5cd210",
   "metadata": {},
   "source": [
    "### Import into Pandas Dataframe"
   ]
  },
  {
   "cell_type": "code",
   "execution_count": 2,
   "id": "205beb0a893ba524",
   "metadata": {},
   "outputs": [
    {
     "name": "stdout",
     "output_type": "stream",
     "text": [
      "Intel MKL WARNING: Support of Intel(R) Streaming SIMD Extensions 4.2 (Intel(R) SSE4.2) enabled only processors has been deprecated. Intel oneAPI Math Kernel Library 2025.0 will require Intel(R) Advanced Vector Extensions (Intel(R) AVX) instructions.\n",
      "Intel MKL WARNING: Support of Intel(R) Streaming SIMD Extensions 4.2 (Intel(R) SSE4.2) enabled only processors has been deprecated. Intel oneAPI Math Kernel Library 2025.0 will require Intel(R) Advanced Vector Extensions (Intel(R) AVX) instructions.\n"
     ]
    },
    {
     "ename": "FileNotFoundError",
     "evalue": "[Errno 2] No such file or directory: '../raw/spotify_happy_1.json'",
     "output_type": "error",
     "traceback": [
      "\u001b[0;31m---------------------------------------------------------------------------\u001b[0m",
      "\u001b[0;31mFileNotFoundError\u001b[0m                         Traceback (most recent call last)",
      "Cell \u001b[0;32mIn[2], line 17\u001b[0m\n\u001b[1;32m      7\u001b[0m files \u001b[38;5;241m=\u001b[39m [\n\u001b[1;32m      8\u001b[0m     \u001b[38;5;124mf\u001b[39m\u001b[38;5;124m'\u001b[39m\u001b[38;5;124m../raw/spotify_\u001b[39m\u001b[38;5;132;01m{\u001b[39;00mmood\u001b[38;5;132;01m}\u001b[39;00m\u001b[38;5;124m_1.json\u001b[39m\u001b[38;5;124m'\u001b[39m,\n\u001b[1;32m      9\u001b[0m     \u001b[38;5;66;03m# f'../raw/spotify_{mood}_2.json',\u001b[39;00m\n\u001b[0;32m   (...)\u001b[0m\n\u001b[1;32m     13\u001b[0m     \u001b[38;5;66;03m# f'../raw/spotify_{mood}_6.json',\u001b[39;00m\n\u001b[1;32m     14\u001b[0m ]\n\u001b[1;32m     16\u001b[0m \u001b[38;5;28;01mfor\u001b[39;00m file \u001b[38;5;129;01min\u001b[39;00m files:\n\u001b[0;32m---> 17\u001b[0m     \u001b[38;5;28;01mwith\u001b[39;00m \u001b[38;5;28;43mopen\u001b[39;49m\u001b[43m(\u001b[49m\u001b[43mfile\u001b[49m\u001b[43m,\u001b[49m\u001b[43m \u001b[49m\u001b[38;5;124;43m'\u001b[39;49m\u001b[38;5;124;43mr\u001b[39;49m\u001b[38;5;124;43m'\u001b[39;49m\u001b[43m)\u001b[49m \u001b[38;5;28;01mas\u001b[39;00m fileio:\n\u001b[1;32m     18\u001b[0m         df \u001b[38;5;241m=\u001b[39m pd\u001b[38;5;241m.\u001b[39mDataFrame(json\u001b[38;5;241m.\u001b[39mload(fileio))\n\u001b[1;32m     19\u001b[0m         df[\u001b[38;5;124m'\u001b[39m\u001b[38;5;124mmood\u001b[39m\u001b[38;5;124m'\u001b[39m] \u001b[38;5;241m=\u001b[39m mood\n",
      "File \u001b[0;32m~/opt/anaconda3/envs/spotifyproject/lib/python3.12/site-packages/IPython/core/interactiveshell.py:324\u001b[0m, in \u001b[0;36m_modified_open\u001b[0;34m(file, *args, **kwargs)\u001b[0m\n\u001b[1;32m    317\u001b[0m \u001b[38;5;28;01mif\u001b[39;00m file \u001b[38;5;129;01min\u001b[39;00m {\u001b[38;5;241m0\u001b[39m, \u001b[38;5;241m1\u001b[39m, \u001b[38;5;241m2\u001b[39m}:\n\u001b[1;32m    318\u001b[0m     \u001b[38;5;28;01mraise\u001b[39;00m \u001b[38;5;167;01mValueError\u001b[39;00m(\n\u001b[1;32m    319\u001b[0m         \u001b[38;5;124mf\u001b[39m\u001b[38;5;124m\"\u001b[39m\u001b[38;5;124mIPython won\u001b[39m\u001b[38;5;124m'\u001b[39m\u001b[38;5;124mt let you open fd=\u001b[39m\u001b[38;5;132;01m{\u001b[39;00mfile\u001b[38;5;132;01m}\u001b[39;00m\u001b[38;5;124m by default \u001b[39m\u001b[38;5;124m\"\u001b[39m\n\u001b[1;32m    320\u001b[0m         \u001b[38;5;124m\"\u001b[39m\u001b[38;5;124mas it is likely to crash IPython. If you know what you are doing, \u001b[39m\u001b[38;5;124m\"\u001b[39m\n\u001b[1;32m    321\u001b[0m         \u001b[38;5;124m\"\u001b[39m\u001b[38;5;124myou can use builtins\u001b[39m\u001b[38;5;124m'\u001b[39m\u001b[38;5;124m open.\u001b[39m\u001b[38;5;124m\"\u001b[39m\n\u001b[1;32m    322\u001b[0m     )\n\u001b[0;32m--> 324\u001b[0m \u001b[38;5;28;01mreturn\u001b[39;00m \u001b[43mio_open\u001b[49m\u001b[43m(\u001b[49m\u001b[43mfile\u001b[49m\u001b[43m,\u001b[49m\u001b[43m \u001b[49m\u001b[38;5;241;43m*\u001b[39;49m\u001b[43margs\u001b[49m\u001b[43m,\u001b[49m\u001b[43m \u001b[49m\u001b[38;5;241;43m*\u001b[39;49m\u001b[38;5;241;43m*\u001b[39;49m\u001b[43mkwargs\u001b[49m\u001b[43m)\u001b[49m\n",
      "\u001b[0;31mFileNotFoundError\u001b[0m: [Errno 2] No such file or directory: '../raw/spotify_happy_1.json'"
     ]
    }
   ],
   "source": [
    "import json\n",
    "import pandas as pd\n",
    "\n",
    "moods = ['happy', 'sad', 'chill', 'energetic']\n",
    "dfs = []\n",
    "for mood in moods:\n",
    "    files = [\n",
    "        f'./raw/spotify_{mood}_1.json',\n",
    "        f'./raw/spotify_{mood}_2.json',\n",
    "        f'./raw/spotify_{mood}_3.json',\n",
    "        f'./raw/spotify_{mood}_4.json',\n",
    "        f'./raw/spotify_{mood}_5.json',\n",
    "        f'./raw/spotify_{mood}_6.json',\n",
    "    ]\n",
    "\n",
    "    for file in files:\n",
    "        with open(file, 'r') as fileio:\n",
    "            df = pd.DataFrame(json.load(fileio))\n",
    "            df['mood'] = mood\n",
    "            dfs.append(df)\n",
    "\n",
    "\n",
    "final_df = pd.concat(dfs, ignore_index=True)\n",
    "\n",
    "#processing\n",
    "drop = ['name', 'id']\n",
    "final_df = final_df.drop(columns=drop)"
   ]
  },
  {
   "cell_type": "markdown",
   "id": "77d29b75d07a2bbf",
   "metadata": {},
   "source": [
    "## Data Exploration\n",
    "Our project's data consists of multiple JSON files, each representing different sets of Spotify songs categorized by moods such as chill, energetic, happy, and sad, along with a separate collection of liked songs from personal user libraries. These files contain attributes that are important in understanding song characteristics which may influence their mood classification, such as tempo, loudness, energy, danceability, and others.\n",
    "\n",
    "In our preliminary analysis, we explored how these attributes distribute across various playlists to hypothesize which features might be most influential in determining a song's mood. We encountered significant challenges due to the size of the data files and API rate limits.\n",
    "\n",
    "Interestingly, initial visualizations suggest clear distinctions in certain attributes among different mood-based playlists; for instance, songs in the happy playlist tend to have higher valence and tempo compared to those in the sad playlist. This aligns with our objective to differentiate between the patterns that could potentially recreate Spotify's mood classification logic. Moving forward, we plan to apply statistical tests to confirm these observations and refine our models accordingly, aiming to predict mood classifications with high accuracy."
   ]
  },
  {
   "cell_type": "code",
   "execution_count": 20,
   "id": "470a3c8e977a5a9a",
   "metadata": {
    "ExecuteTime": {
     "end_time": "2024-11-07T09:43:21.442535Z",
     "start_time": "2024-11-07T09:43:21.388504Z"
    }
   },
   "outputs": [
    {
     "data": {
      "text/html": [
       "<div>\n",
       "<style scoped>\n",
       "    .dataframe tbody tr th:only-of-type {\n",
       "        vertical-align: middle;\n",
       "    }\n",
       "\n",
       "    .dataframe tbody tr th {\n",
       "        vertical-align: top;\n",
       "    }\n",
       "\n",
       "    .dataframe thead th {\n",
       "        text-align: right;\n",
       "    }\n",
       "</style>\n",
       "<table border=\"1\" class=\"dataframe\">\n",
       "  <thead>\n",
       "    <tr style=\"text-align: right;\">\n",
       "      <th></th>\n",
       "      <th>acousticness</th>\n",
       "      <th>danceability</th>\n",
       "      <th>duration_ms</th>\n",
       "      <th>energy</th>\n",
       "      <th>instrumentalness</th>\n",
       "      <th>key</th>\n",
       "      <th>liveness</th>\n",
       "      <th>loudness</th>\n",
       "      <th>mode</th>\n",
       "      <th>speechiness</th>\n",
       "      <th>tempo</th>\n",
       "      <th>time_signature</th>\n",
       "      <th>valence</th>\n",
       "    </tr>\n",
       "  </thead>\n",
       "  <tbody>\n",
       "    <tr>\n",
       "      <th>count</th>\n",
       "      <td>2784.000000</td>\n",
       "      <td>2784.000000</td>\n",
       "      <td>2784.00000</td>\n",
       "      <td>2784.000000</td>\n",
       "      <td>2784.000000</td>\n",
       "      <td>2784.000000</td>\n",
       "      <td>2784.000000</td>\n",
       "      <td>2784.000000</td>\n",
       "      <td>2784.000000</td>\n",
       "      <td>2784.000000</td>\n",
       "      <td>2784.000000</td>\n",
       "      <td>2784.000000</td>\n",
       "      <td>2784.000000</td>\n",
       "    </tr>\n",
       "    <tr>\n",
       "      <th>mean</th>\n",
       "      <td>0.264226</td>\n",
       "      <td>0.673031</td>\n",
       "      <td>216885.16056</td>\n",
       "      <td>0.602474</td>\n",
       "      <td>0.181876</td>\n",
       "      <td>5.345905</td>\n",
       "      <td>0.179052</td>\n",
       "      <td>-8.239840</td>\n",
       "      <td>0.544181</td>\n",
       "      <td>0.126167</td>\n",
       "      <td>118.323834</td>\n",
       "      <td>3.953305</td>\n",
       "      <td>0.527378</td>\n",
       "    </tr>\n",
       "    <tr>\n",
       "      <th>std</th>\n",
       "      <td>0.272244</td>\n",
       "      <td>0.159629</td>\n",
       "      <td>78603.04152</td>\n",
       "      <td>0.187366</td>\n",
       "      <td>0.321257</td>\n",
       "      <td>3.696630</td>\n",
       "      <td>0.137154</td>\n",
       "      <td>3.638828</td>\n",
       "      <td>0.498134</td>\n",
       "      <td>0.122564</td>\n",
       "      <td>27.905911</td>\n",
       "      <td>0.334789</td>\n",
       "      <td>0.240315</td>\n",
       "    </tr>\n",
       "    <tr>\n",
       "      <th>min</th>\n",
       "      <td>0.000003</td>\n",
       "      <td>0.000000</td>\n",
       "      <td>15967.00000</td>\n",
       "      <td>0.008580</td>\n",
       "      <td>0.000000</td>\n",
       "      <td>0.000000</td>\n",
       "      <td>0.019000</td>\n",
       "      <td>-36.856000</td>\n",
       "      <td>0.000000</td>\n",
       "      <td>0.000000</td>\n",
       "      <td>0.000000</td>\n",
       "      <td>0.000000</td>\n",
       "      <td>0.000000</td>\n",
       "    </tr>\n",
       "    <tr>\n",
       "      <th>25%</th>\n",
       "      <td>0.043000</td>\n",
       "      <td>0.580000</td>\n",
       "      <td>167217.75000</td>\n",
       "      <td>0.483000</td>\n",
       "      <td>0.000000</td>\n",
       "      <td>2.000000</td>\n",
       "      <td>0.096400</td>\n",
       "      <td>-9.776250</td>\n",
       "      <td>0.000000</td>\n",
       "      <td>0.040400</td>\n",
       "      <td>96.051000</td>\n",
       "      <td>4.000000</td>\n",
       "      <td>0.344750</td>\n",
       "    </tr>\n",
       "    <tr>\n",
       "      <th>50%</th>\n",
       "      <td>0.160500</td>\n",
       "      <td>0.700000</td>\n",
       "      <td>206033.50000</td>\n",
       "      <td>0.616000</td>\n",
       "      <td>0.000096</td>\n",
       "      <td>5.000000</td>\n",
       "      <td>0.124000</td>\n",
       "      <td>-7.587000</td>\n",
       "      <td>1.000000</td>\n",
       "      <td>0.068300</td>\n",
       "      <td>117.046000</td>\n",
       "      <td>4.000000</td>\n",
       "      <td>0.533000</td>\n",
       "    </tr>\n",
       "    <tr>\n",
       "      <th>75%</th>\n",
       "      <td>0.428000</td>\n",
       "      <td>0.787250</td>\n",
       "      <td>253346.50000</td>\n",
       "      <td>0.738000</td>\n",
       "      <td>0.194000</td>\n",
       "      <td>9.000000</td>\n",
       "      <td>0.217250</td>\n",
       "      <td>-5.858500</td>\n",
       "      <td>1.000000</td>\n",
       "      <td>0.182000</td>\n",
       "      <td>136.008750</td>\n",
       "      <td>4.000000</td>\n",
       "      <td>0.724000</td>\n",
       "    </tr>\n",
       "    <tr>\n",
       "      <th>max</th>\n",
       "      <td>0.996000</td>\n",
       "      <td>0.978000</td>\n",
       "      <td>828560.00000</td>\n",
       "      <td>0.996000</td>\n",
       "      <td>0.973000</td>\n",
       "      <td>11.000000</td>\n",
       "      <td>0.983000</td>\n",
       "      <td>3.025000</td>\n",
       "      <td>1.000000</td>\n",
       "      <td>0.918000</td>\n",
       "      <td>215.449000</td>\n",
       "      <td>5.000000</td>\n",
       "      <td>0.981000</td>\n",
       "    </tr>\n",
       "  </tbody>\n",
       "</table>\n",
       "</div>"
      ],
      "text/plain": [
       "       acousticness  danceability   duration_ms       energy  \\\n",
       "count   2784.000000   2784.000000    2784.00000  2784.000000   \n",
       "mean       0.264226      0.673031  216885.16056     0.602474   \n",
       "std        0.272244      0.159629   78603.04152     0.187366   \n",
       "min        0.000003      0.000000   15967.00000     0.008580   \n",
       "25%        0.043000      0.580000  167217.75000     0.483000   \n",
       "50%        0.160500      0.700000  206033.50000     0.616000   \n",
       "75%        0.428000      0.787250  253346.50000     0.738000   \n",
       "max        0.996000      0.978000  828560.00000     0.996000   \n",
       "\n",
       "       instrumentalness          key     liveness     loudness         mode  \\\n",
       "count       2784.000000  2784.000000  2784.000000  2784.000000  2784.000000   \n",
       "mean           0.181876     5.345905     0.179052    -8.239840     0.544181   \n",
       "std            0.321257     3.696630     0.137154     3.638828     0.498134   \n",
       "min            0.000000     0.000000     0.019000   -36.856000     0.000000   \n",
       "25%            0.000000     2.000000     0.096400    -9.776250     0.000000   \n",
       "50%            0.000096     5.000000     0.124000    -7.587000     1.000000   \n",
       "75%            0.194000     9.000000     0.217250    -5.858500     1.000000   \n",
       "max            0.973000    11.000000     0.983000     3.025000     1.000000   \n",
       "\n",
       "       speechiness        tempo  time_signature      valence  \n",
       "count  2784.000000  2784.000000     2784.000000  2784.000000  \n",
       "mean      0.126167   118.323834        3.953305     0.527378  \n",
       "std       0.122564    27.905911        0.334789     0.240315  \n",
       "min       0.000000     0.000000        0.000000     0.000000  \n",
       "25%       0.040400    96.051000        4.000000     0.344750  \n",
       "50%       0.068300   117.046000        4.000000     0.533000  \n",
       "75%       0.182000   136.008750        4.000000     0.724000  \n",
       "max       0.918000   215.449000        5.000000     0.981000  "
      ]
     },
     "execution_count": 20,
     "metadata": {},
     "output_type": "execute_result"
    }
   ],
   "source": [
    "import pandas as pd\n",
    "import json\n",
    "import numpy as np\n",
    "\n",
    "dfs = []\n",
    "\n",
    "files = [\n",
    "    f'./raw/liked_songs_1.json',\n",
    "    f'./raw/liked_songs_2.json',\n",
    "    f'./raw/liked_songs_3.json',\n",
    "    f'./raw/liked_songs_4.json',\n",
    "    f'./raw/liked_songs_5.json',\n",
    "    f'./raw/liked_songs_6.json',\n",
    "]\n",
    "\n",
    "for file in files:\n",
    "    with open(file, 'r') as fileio:\n",
    "        df = pd.DataFrame(json.load(fileio))\n",
    "        dfs.append(df)\n",
    "\n",
    "liked_songs_df = pd.concat(dfs, ignore_index=True)\n",
    "\n",
    "#processing\n",
    "drop = ['name', 'id']\n",
    "liked_songs_df = liked_songs_df.drop(columns=drop)\n",
    "\n",
    "#liked_songs_df.head(5)\n",
    "liked_songs_df.describe()"
   ]
  },
  {
   "cell_type": "code",
   "execution_count": 37,
   "id": "459f8435744293f4",
   "metadata": {
    "ExecuteTime": {
     "end_time": "2024-11-07T11:06:53.155228Z",
     "start_time": "2024-11-07T11:06:53.042723Z"
    }
   },
   "outputs": [
    {
     "data": {
      "image/png": "[encoded data removed]",
      "text/plain": [
       "<Figure size 600x600 with 1 Axes>"
      ]
     },
     "metadata": {},
     "output_type": "display_data"
    }
   ],
   "source": [
    "import matplotlib.pyplot as plt\n",
    "\n",
    "moods = ['happy', 'sad', 'chill', 'energetic']\n",
    "dfs = []\n",
    "for mood in moods:\n",
    "    files = [\n",
    "        f'./raw/spotify_{mood}_1.json',\n",
    "        f'./raw/spotify_{mood}_2.json',\n",
    "        f'./raw/spotify_{mood}_3.json',\n",
    "        f'./raw/spotify_{mood}_4.json',\n",
    "        f'./raw/spotify_{mood}_5.json',\n",
    "        f'./raw/spotify_{mood}_6.json',\n",
    "    ]\n",
    "\n",
    "    for file in files:\n",
    "        with open(file, 'r') as fileio:\n",
    "            df = pd.DataFrame(json.load(fileio))\n",
    "            df['mood'] = mood\n",
    "            dfs.append(df)\n",
    "\n",
    "moods_df = pd.concat(dfs, ignore_index=True)\n",
    "\n",
    "#processing\n",
    "drop = ['name', 'id']\n",
    "moods_df = moods_df.drop(columns=drop)\n",
    "\n",
    "#moods_df.head(5)\n",
    "#moods_df.describe()\n",
    "\n",
    "moods_mean_df = moods_df.groupby('mood').mean()\n",
    "\n",
    "#moods_mean_df.head(4)\n",
    "\n",
    "factors = ['acousticness', 'danceability', 'energy', 'instrumentalness', 'liveness', 'loudness', 'speechiness', 'valence', 'tempo']\n",
    "\n",
    "new_max = 100\n",
    "new_min = 20\n",
    "new_range = new_max - new_min\n",
    "\n",
    "for factor in factors:\n",
    "    max_val = moods_mean_df[factor].max()\n",
    "    min_val = moods_mean_df[factor].min()\n",
    "    val_range = max_val - min_val\n",
    "    moods_mean_df[factor + '_Adj'] = moods_mean_df[factor].apply(\n",
    "        lambda x: (((x - min_val) * new_range) / val_range) + new_min)\n",
    "    \n",
    "moods_mean_df = moods_mean_df.reset_index()\n",
    "#moods_mean_df.head(4)\n",
    " \n",
    "dft = moods_mean_df.loc[:, ['mood', 'acousticness_Adj', 'danceability_Adj', 'energy_Adj',\n",
    "                             'instrumentalness_Adj', 'liveness_Adj', 'loudness_Adj', 'speechiness_Adj',\n",
    "                             'valence_Adj', 'tempo_Adj']]\n",
    "dft.rename(columns={\n",
    "    'acousticness_Adj': 'acousticness',\n",
    "    'danceability_Adj': 'danceability',\n",
    "    'energy_Adj': 'energy',\n",
    "    'instrumentalness_Adj': 'instrumentalness',\n",
    "    'liveness_Adj': 'liveness',\n",
    "    'loudness_Adj': 'loudness',\n",
    "    'speechiness_Adj': 'speechiness',\n",
    "    'valence_Adj': 'valence',\n",
    "    'tempo_Adj': 'tempo'\n",
    "}, inplace=True)\n",
    "\n",
    "dft.set_index('mood', inplace=True)\n",
    "\n",
    "labels = ['acousticness', 'danceability', 'energy', 'instrumentalness', 'liveness', 'loudness', 'speechiness', 'valence', 'tempo']\n",
    "num_vars = len(labels)\n",
    "angles = np.linspace(0, 2 * np.pi, num_vars, endpoint=False).tolist()\n",
    "fig, ax = plt.subplots(figsize=(6, 6), subplot_kw=dict(polar=True))\n",
    "\n",
    "def add_to_radar(mood, color):\n",
    "    values = dft.loc[mood].tolist()\n",
    "    ax.plot(angles, values, color=color, linewidth=1, label=mood)\n",
    "    ax.fill(angles, values, color=color, alpha=0.25)\n",
    "\n",
    "add_to_radar('happy', '#1aaf6c')\n",
    "add_to_radar('sad', '#429bf4')\n",
    "add_to_radar('chill', '#d42cea')\n",
    "add_to_radar('energetic', '#f4b41a')\n",
    "\n",
    "ax.set_theta_offset(np.pi / 2)\n",
    "ax.set_theta_direction(-1)\n",
    "ax.set_thetagrids(np.degrees(angles), labels)\n",
    "\n",
    "for label, angle in zip(ax.get_xticklabels(), angles):\n",
    "    if angle in (0, np.pi):\n",
    "        label.set_horizontalalignment('center')\n",
    "    elif 0 < angle < np.pi:\n",
    "        label.set_horizontalalignment('left')\n",
    "    else:\n",
    "        label.set_horizontalalignment('right')\n",
    "\n",
    "ax.set_ylim(0, 100)\n",
    "ax.set_rlabel_position(180 / num_vars)\n",
    "\n",
    "ax.tick_params(colors='#222222')\n",
    "ax.tick_params(axis='y', labelsize=8)\n",
    "ax.grid(color='#AAAAAA')\n",
    "ax.spines['polar'].set_color('#222222')\n",
    "ax.set_facecolor('#FAFAFA')\n",
    "\n",
    "ax.set_title('Comparing moods across features', y=1.08)\n",
    "ax.legend(loc='upper right', bbox_to_anchor=(1.3, 1.1))\n",
    "\n",
    "plt.show()\n"
   ]
  },
  {
   "cell_type": "code",
   "execution_count": 10,
   "id": "c67f5f799aad1620",
   "metadata": {
    "ExecuteTime": {
     "end_time": "2024-11-06T19:46:52.461297Z",
     "start_time": "2024-11-06T19:46:52.448402Z"
    }
   },
   "outputs": [
    {
     "data": {
      "text/html": [
       "<div>\n",
       "<style scoped>\n",
       "    .dataframe tbody tr th:only-of-type {\n",
       "        vertical-align: middle;\n",
       "    }\n",
       "\n",
       "    .dataframe tbody tr th {\n",
       "        vertical-align: top;\n",
       "    }\n",
       "\n",
       "    .dataframe thead th {\n",
       "        text-align: right;\n",
       "    }\n",
       "</style>\n",
       "<table border=\"1\" class=\"dataframe\">\n",
       "  <thead>\n",
       "    <tr style=\"text-align: right;\">\n",
       "      <th></th>\n",
       "      <th>acousticness</th>\n",
       "      <th>danceability</th>\n",
       "      <th>duration_ms</th>\n",
       "      <th>energy</th>\n",
       "      <th>instrumentalness</th>\n",
       "      <th>key</th>\n",
       "      <th>liveness</th>\n",
       "      <th>loudness</th>\n",
       "      <th>mode</th>\n",
       "      <th>speechiness</th>\n",
       "      <th>tempo</th>\n",
       "      <th>time_signature</th>\n",
       "      <th>valence</th>\n",
       "    </tr>\n",
       "  </thead>\n",
       "  <tbody>\n",
       "    <tr>\n",
       "      <th>count</th>\n",
       "      <td>300.000000</td>\n",
       "      <td>300.000000</td>\n",
       "      <td>300.000000</td>\n",
       "      <td>300.000000</td>\n",
       "      <td>300.000000</td>\n",
       "      <td>300.000000</td>\n",
       "      <td>300.000000</td>\n",
       "      <td>300.000000</td>\n",
       "      <td>300.000000</td>\n",
       "      <td>300.000000</td>\n",
       "      <td>300.000000</td>\n",
       "      <td>300.000000</td>\n",
       "      <td>300.000000</td>\n",
       "    </tr>\n",
       "    <tr>\n",
       "      <th>mean</th>\n",
       "      <td>0.228003</td>\n",
       "      <td>0.699980</td>\n",
       "      <td>194467.153333</td>\n",
       "      <td>0.675430</td>\n",
       "      <td>0.050095</td>\n",
       "      <td>5.266667</td>\n",
       "      <td>0.173191</td>\n",
       "      <td>-6.669817</td>\n",
       "      <td>0.650000</td>\n",
       "      <td>0.076948</td>\n",
       "      <td>119.553113</td>\n",
       "      <td>3.980000</td>\n",
       "      <td>0.703342</td>\n",
       "    </tr>\n",
       "    <tr>\n",
       "      <th>std</th>\n",
       "      <td>0.221277</td>\n",
       "      <td>0.115443</td>\n",
       "      <td>45106.245635</td>\n",
       "      <td>0.147835</td>\n",
       "      <td>0.169320</td>\n",
       "      <td>3.488474</td>\n",
       "      <td>0.147277</td>\n",
       "      <td>2.635357</td>\n",
       "      <td>0.477767</td>\n",
       "      <td>0.086437</td>\n",
       "      <td>24.054849</td>\n",
       "      <td>0.230457</td>\n",
       "      <td>0.191693</td>\n",
       "    </tr>\n",
       "    <tr>\n",
       "      <th>min</th>\n",
       "      <td>0.000038</td>\n",
       "      <td>0.197000</td>\n",
       "      <td>60942.000000</td>\n",
       "      <td>0.166000</td>\n",
       "      <td>0.000000</td>\n",
       "      <td>0.000000</td>\n",
       "      <td>0.024600</td>\n",
       "      <td>-22.602000</td>\n",
       "      <td>0.000000</td>\n",
       "      <td>0.026300</td>\n",
       "      <td>68.837000</td>\n",
       "      <td>1.000000</td>\n",
       "      <td>0.064600</td>\n",
       "    </tr>\n",
       "    <tr>\n",
       "      <th>25%</th>\n",
       "      <td>0.042775</td>\n",
       "      <td>0.633000</td>\n",
       "      <td>169783.000000</td>\n",
       "      <td>0.567000</td>\n",
       "      <td>0.000000</td>\n",
       "      <td>2.000000</td>\n",
       "      <td>0.085575</td>\n",
       "      <td>-7.986250</td>\n",
       "      <td>0.000000</td>\n",
       "      <td>0.036675</td>\n",
       "      <td>103.655750</td>\n",
       "      <td>4.000000</td>\n",
       "      <td>0.550750</td>\n",
       "    </tr>\n",
       "    <tr>\n",
       "      <th>50%</th>\n",
       "      <td>0.165000</td>\n",
       "      <td>0.712000</td>\n",
       "      <td>197575.000000</td>\n",
       "      <td>0.683000</td>\n",
       "      <td>0.000007</td>\n",
       "      <td>5.000000</td>\n",
       "      <td>0.113000</td>\n",
       "      <td>-6.220500</td>\n",
       "      <td>1.000000</td>\n",
       "      <td>0.045950</td>\n",
       "      <td>117.684000</td>\n",
       "      <td>4.000000</td>\n",
       "      <td>0.738000</td>\n",
       "    </tr>\n",
       "    <tr>\n",
       "      <th>75%</th>\n",
       "      <td>0.352750</td>\n",
       "      <td>0.780250</td>\n",
       "      <td>218013.000000</td>\n",
       "      <td>0.791000</td>\n",
       "      <td>0.001670</td>\n",
       "      <td>8.250000</td>\n",
       "      <td>0.209500</td>\n",
       "      <td>-4.873250</td>\n",
       "      <td>1.000000</td>\n",
       "      <td>0.077675</td>\n",
       "      <td>129.292500</td>\n",
       "      <td>4.000000</td>\n",
       "      <td>0.860000</td>\n",
       "    </tr>\n",
       "    <tr>\n",
       "      <th>max</th>\n",
       "      <td>0.972000</td>\n",
       "      <td>0.935000</td>\n",
       "      <td>473013.000000</td>\n",
       "      <td>0.991000</td>\n",
       "      <td>0.978000</td>\n",
       "      <td>11.000000</td>\n",
       "      <td>0.955000</td>\n",
       "      <td>-1.931000</td>\n",
       "      <td>1.000000</td>\n",
       "      <td>0.711000</td>\n",
       "      <td>209.688000</td>\n",
       "      <td>5.000000</td>\n",
       "      <td>0.981000</td>\n",
       "    </tr>\n",
       "  </tbody>\n",
       "</table>\n",
       "</div>"
      ],
      "text/plain": [
       "       acousticness  danceability    duration_ms      energy  \\\n",
       "count    300.000000    300.000000     300.000000  300.000000   \n",
       "mean       0.228003      0.699980  194467.153333    0.675430   \n",
       "std        0.221277      0.115443   45106.245635    0.147835   \n",
       "min        0.000038      0.197000   60942.000000    0.166000   \n",
       "25%        0.042775      0.633000  169783.000000    0.567000   \n",
       "50%        0.165000      0.712000  197575.000000    0.683000   \n",
       "75%        0.352750      0.780250  218013.000000    0.791000   \n",
       "max        0.972000      0.935000  473013.000000    0.991000   \n",
       "\n",
       "       instrumentalness         key    liveness    loudness        mode  \\\n",
       "count        300.000000  300.000000  300.000000  300.000000  300.000000   \n",
       "mean           0.050095    5.266667    0.173191   -6.669817    0.650000   \n",
       "std            0.169320    3.488474    0.147277    2.635357    0.477767   \n",
       "min            0.000000    0.000000    0.024600  -22.602000    0.000000   \n",
       "25%            0.000000    2.000000    0.085575   -7.986250    0.000000   \n",
       "50%            0.000007    5.000000    0.113000   -6.220500    1.000000   \n",
       "75%            0.001670    8.250000    0.209500   -4.873250    1.000000   \n",
       "max            0.978000   11.000000    0.955000   -1.931000    1.000000   \n",
       "\n",
       "       speechiness       tempo  time_signature     valence  \n",
       "count   300.000000  300.000000      300.000000  300.000000  \n",
       "mean      0.076948  119.553113        3.980000    0.703342  \n",
       "std       0.086437   24.054849        0.230457    0.191693  \n",
       "min       0.026300   68.837000        1.000000    0.064600  \n",
       "25%       0.036675  103.655750        4.000000    0.550750  \n",
       "50%       0.045950  117.684000        4.000000    0.738000  \n",
       "75%       0.077675  129.292500        4.000000    0.860000  \n",
       "max       0.711000  209.688000        5.000000    0.981000  "
      ]
     },
     "execution_count": 10,
     "metadata": {},
     "output_type": "execute_result"
    }
   ],
   "source": [
    "happy_df = moods_df[moods_df['mood'] == 'happy']\n",
    "# happy_df.head(5)\n",
    "happy_df.describe()"
   ]
  },
  {
   "cell_type": "code",
   "execution_count": 11,
   "id": "21a6415434a271ed",
   "metadata": {
    "ExecuteTime": {
     "end_time": "2024-11-06T19:47:01.042077Z",
     "start_time": "2024-11-06T19:47:01.029923Z"
    }
   },
   "outputs": [
    {
     "data": {
      "text/html": [
       "<div>\n",
       "<style scoped>\n",
       "    .dataframe tbody tr th:only-of-type {\n",
       "        vertical-align: middle;\n",
       "    }\n",
       "\n",
       "    .dataframe tbody tr th {\n",
       "        vertical-align: top;\n",
       "    }\n",
       "\n",
       "    .dataframe thead th {\n",
       "        text-align: right;\n",
       "    }\n",
       "</style>\n",
       "<table border=\"1\" class=\"dataframe\">\n",
       "  <thead>\n",
       "    <tr style=\"text-align: right;\">\n",
       "      <th></th>\n",
       "      <th>acousticness</th>\n",
       "      <th>danceability</th>\n",
       "      <th>duration_ms</th>\n",
       "      <th>energy</th>\n",
       "      <th>instrumentalness</th>\n",
       "      <th>key</th>\n",
       "      <th>liveness</th>\n",
       "      <th>loudness</th>\n",
       "      <th>mode</th>\n",
       "      <th>speechiness</th>\n",
       "      <th>tempo</th>\n",
       "      <th>time_signature</th>\n",
       "      <th>valence</th>\n",
       "    </tr>\n",
       "  </thead>\n",
       "  <tbody>\n",
       "    <tr>\n",
       "      <th>count</th>\n",
       "      <td>300.000000</td>\n",
       "      <td>300.000000</td>\n",
       "      <td>300.000000</td>\n",
       "      <td>300.000000</td>\n",
       "      <td>300.000000</td>\n",
       "      <td>300.000000</td>\n",
       "      <td>300.000000</td>\n",
       "      <td>300.000000</td>\n",
       "      <td>300.000000</td>\n",
       "      <td>300.000000</td>\n",
       "      <td>300.000000</td>\n",
       "      <td>300.000000</td>\n",
       "      <td>300.000000</td>\n",
       "    </tr>\n",
       "    <tr>\n",
       "      <th>mean</th>\n",
       "      <td>0.522723</td>\n",
       "      <td>0.558353</td>\n",
       "      <td>199938.663333</td>\n",
       "      <td>0.432511</td>\n",
       "      <td>0.131883</td>\n",
       "      <td>5.366667</td>\n",
       "      <td>0.161904</td>\n",
       "      <td>-9.853107</td>\n",
       "      <td>0.690000</td>\n",
       "      <td>0.071891</td>\n",
       "      <td>114.860097</td>\n",
       "      <td>3.860000</td>\n",
       "      <td>0.324138</td>\n",
       "    </tr>\n",
       "    <tr>\n",
       "      <th>std</th>\n",
       "      <td>0.338082</td>\n",
       "      <td>0.150576</td>\n",
       "      <td>55978.912548</td>\n",
       "      <td>0.204289</td>\n",
       "      <td>0.277139</td>\n",
       "      <td>3.531827</td>\n",
       "      <td>0.119905</td>\n",
       "      <td>3.796737</td>\n",
       "      <td>0.463266</td>\n",
       "      <td>0.092606</td>\n",
       "      <td>30.075703</td>\n",
       "      <td>0.477311</td>\n",
       "      <td>0.189012</td>\n",
       "    </tr>\n",
       "    <tr>\n",
       "      <th>min</th>\n",
       "      <td>0.000008</td>\n",
       "      <td>0.174000</td>\n",
       "      <td>57370.000000</td>\n",
       "      <td>0.014800</td>\n",
       "      <td>0.000000</td>\n",
       "      <td>0.000000</td>\n",
       "      <td>0.051100</td>\n",
       "      <td>-27.117000</td>\n",
       "      <td>0.000000</td>\n",
       "      <td>0.024700</td>\n",
       "      <td>59.981000</td>\n",
       "      <td>1.000000</td>\n",
       "      <td>0.034100</td>\n",
       "    </tr>\n",
       "    <tr>\n",
       "      <th>25%</th>\n",
       "      <td>0.159000</td>\n",
       "      <td>0.457000</td>\n",
       "      <td>161423.000000</td>\n",
       "      <td>0.286750</td>\n",
       "      <td>0.000000</td>\n",
       "      <td>2.000000</td>\n",
       "      <td>0.101000</td>\n",
       "      <td>-12.072500</td>\n",
       "      <td>0.000000</td>\n",
       "      <td>0.031500</td>\n",
       "      <td>88.491750</td>\n",
       "      <td>4.000000</td>\n",
       "      <td>0.180000</td>\n",
       "    </tr>\n",
       "    <tr>\n",
       "      <th>50%</th>\n",
       "      <td>0.609500</td>\n",
       "      <td>0.556500</td>\n",
       "      <td>200738.000000</td>\n",
       "      <td>0.415000</td>\n",
       "      <td>0.000310</td>\n",
       "      <td>5.000000</td>\n",
       "      <td>0.115000</td>\n",
       "      <td>-9.313000</td>\n",
       "      <td>1.000000</td>\n",
       "      <td>0.041000</td>\n",
       "      <td>113.983000</td>\n",
       "      <td>4.000000</td>\n",
       "      <td>0.295500</td>\n",
       "    </tr>\n",
       "    <tr>\n",
       "      <th>75%</th>\n",
       "      <td>0.830000</td>\n",
       "      <td>0.669000</td>\n",
       "      <td>237807.000000</td>\n",
       "      <td>0.571250</td>\n",
       "      <td>0.038100</td>\n",
       "      <td>8.000000</td>\n",
       "      <td>0.167000</td>\n",
       "      <td>-7.115250</td>\n",
       "      <td>1.000000</td>\n",
       "      <td>0.062625</td>\n",
       "      <td>133.993500</td>\n",
       "      <td>4.000000</td>\n",
       "      <td>0.432750</td>\n",
       "    </tr>\n",
       "    <tr>\n",
       "      <th>max</th>\n",
       "      <td>0.989000</td>\n",
       "      <td>0.946000</td>\n",
       "      <td>400560.000000</td>\n",
       "      <td>0.941000</td>\n",
       "      <td>0.962000</td>\n",
       "      <td>11.000000</td>\n",
       "      <td>0.938000</td>\n",
       "      <td>-2.810000</td>\n",
       "      <td>1.000000</td>\n",
       "      <td>0.777000</td>\n",
       "      <td>220.099000</td>\n",
       "      <td>5.000000</td>\n",
       "      <td>0.961000</td>\n",
       "    </tr>\n",
       "  </tbody>\n",
       "</table>\n",
       "</div>"
      ],
      "text/plain": [
       "       acousticness  danceability    duration_ms      energy  \\\n",
       "count    300.000000    300.000000     300.000000  300.000000   \n",
       "mean       0.522723      0.558353  199938.663333    0.432511   \n",
       "std        0.338082      0.150576   55978.912548    0.204289   \n",
       "min        0.000008      0.174000   57370.000000    0.014800   \n",
       "25%        0.159000      0.457000  161423.000000    0.286750   \n",
       "50%        0.609500      0.556500  200738.000000    0.415000   \n",
       "75%        0.830000      0.669000  237807.000000    0.571250   \n",
       "max        0.989000      0.946000  400560.000000    0.941000   \n",
       "\n",
       "       instrumentalness         key    liveness    loudness        mode  \\\n",
       "count        300.000000  300.000000  300.000000  300.000000  300.000000   \n",
       "mean           0.131883    5.366667    0.161904   -9.853107    0.690000   \n",
       "std            0.277139    3.531827    0.119905    3.796737    0.463266   \n",
       "min            0.000000    0.000000    0.051100  -27.117000    0.000000   \n",
       "25%            0.000000    2.000000    0.101000  -12.072500    0.000000   \n",
       "50%            0.000310    5.000000    0.115000   -9.313000    1.000000   \n",
       "75%            0.038100    8.000000    0.167000   -7.115250    1.000000   \n",
       "max            0.962000   11.000000    0.938000   -2.810000    1.000000   \n",
       "\n",
       "       speechiness       tempo  time_signature     valence  \n",
       "count   300.000000  300.000000      300.000000  300.000000  \n",
       "mean      0.071891  114.860097        3.860000    0.324138  \n",
       "std       0.092606   30.075703        0.477311    0.189012  \n",
       "min       0.024700   59.981000        1.000000    0.034100  \n",
       "25%       0.031500   88.491750        4.000000    0.180000  \n",
       "50%       0.041000  113.983000        4.000000    0.295500  \n",
       "75%       0.062625  133.993500        4.000000    0.432750  \n",
       "max       0.777000  220.099000        5.000000    0.961000  "
      ]
     },
     "execution_count": 11,
     "metadata": {},
     "output_type": "execute_result"
    }
   ],
   "source": [
    "sad_df = moods_df[moods_df['mood'] == 'sad']\n",
    "# sad_df.head(5)\n",
    "sad_df.describe()"
   ]
  },
  {
   "cell_type": "code",
   "execution_count": 7,
   "id": "972da9e8711b380f",
   "metadata": {
    "ExecuteTime": {
     "end_time": "2024-11-06T19:45:33.418240Z",
     "start_time": "2024-11-06T19:45:33.409686Z"
    }
   },
   "outputs": [
    {
     "data": {
      "text/html": [
       "<div>\n",
       "<style scoped>\n",
       "    .dataframe tbody tr th:only-of-type {\n",
       "        vertical-align: middle;\n",
       "    }\n",
       "\n",
       "    .dataframe tbody tr th {\n",
       "        vertical-align: top;\n",
       "    }\n",
       "\n",
       "    .dataframe thead th {\n",
       "        text-align: right;\n",
       "    }\n",
       "</style>\n",
       "<table border=\"1\" class=\"dataframe\">\n",
       "  <thead>\n",
       "    <tr style=\"text-align: right;\">\n",
       "      <th></th>\n",
       "      <th>acousticness</th>\n",
       "      <th>danceability</th>\n",
       "      <th>duration_ms</th>\n",
       "      <th>energy</th>\n",
       "      <th>instrumentalness</th>\n",
       "      <th>key</th>\n",
       "      <th>liveness</th>\n",
       "      <th>loudness</th>\n",
       "      <th>mode</th>\n",
       "      <th>speechiness</th>\n",
       "      <th>tempo</th>\n",
       "      <th>time_signature</th>\n",
       "      <th>valence</th>\n",
       "      <th>mood</th>\n",
       "    </tr>\n",
       "  </thead>\n",
       "  <tbody>\n",
       "    <tr>\n",
       "      <th>600</th>\n",
       "      <td>0.0978</td>\n",
       "      <td>0.723</td>\n",
       "      <td>62216</td>\n",
       "      <td>0.801</td>\n",
       "      <td>0.8270</td>\n",
       "      <td>4</td>\n",
       "      <td>0.3860</td>\n",
       "      <td>-8.253</td>\n",
       "      <td>1</td>\n",
       "      <td>0.1130</td>\n",
       "      <td>87.950</td>\n",
       "      <td>4</td>\n",
       "      <td>0.918</td>\n",
       "      <td>chill</td>\n",
       "    </tr>\n",
       "    <tr>\n",
       "      <th>601</th>\n",
       "      <td>0.3690</td>\n",
       "      <td>0.424</td>\n",
       "      <td>246186</td>\n",
       "      <td>0.439</td>\n",
       "      <td>0.7960</td>\n",
       "      <td>4</td>\n",
       "      <td>0.1050</td>\n",
       "      <td>-15.861</td>\n",
       "      <td>0</td>\n",
       "      <td>0.0552</td>\n",
       "      <td>94.021</td>\n",
       "      <td>4</td>\n",
       "      <td>0.278</td>\n",
       "      <td>chill</td>\n",
       "    </tr>\n",
       "    <tr>\n",
       "      <th>602</th>\n",
       "      <td>0.2210</td>\n",
       "      <td>0.844</td>\n",
       "      <td>332821</td>\n",
       "      <td>0.558</td>\n",
       "      <td>0.0304</td>\n",
       "      <td>1</td>\n",
       "      <td>0.0693</td>\n",
       "      <td>-10.005</td>\n",
       "      <td>1</td>\n",
       "      <td>0.1000</td>\n",
       "      <td>116.969</td>\n",
       "      <td>4</td>\n",
       "      <td>0.818</td>\n",
       "      <td>chill</td>\n",
       "    </tr>\n",
       "    <tr>\n",
       "      <th>603</th>\n",
       "      <td>0.6770</td>\n",
       "      <td>0.646</td>\n",
       "      <td>238787</td>\n",
       "      <td>0.564</td>\n",
       "      <td>0.8690</td>\n",
       "      <td>2</td>\n",
       "      <td>0.1040</td>\n",
       "      <td>-12.531</td>\n",
       "      <td>1</td>\n",
       "      <td>0.0390</td>\n",
       "      <td>96.707</td>\n",
       "      <td>4</td>\n",
       "      <td>0.360</td>\n",
       "      <td>chill</td>\n",
       "    </tr>\n",
       "    <tr>\n",
       "      <th>604</th>\n",
       "      <td>0.8230</td>\n",
       "      <td>0.588</td>\n",
       "      <td>135276</td>\n",
       "      <td>0.302</td>\n",
       "      <td>0.8720</td>\n",
       "      <td>11</td>\n",
       "      <td>0.1070</td>\n",
       "      <td>-25.685</td>\n",
       "      <td>1</td>\n",
       "      <td>0.0456</td>\n",
       "      <td>77.990</td>\n",
       "      <td>4</td>\n",
       "      <td>0.885</td>\n",
       "      <td>chill</td>\n",
       "    </tr>\n",
       "  </tbody>\n",
       "</table>\n",
       "</div>"
      ],
      "text/plain": [
       "     acousticness  danceability  duration_ms  energy  instrumentalness  key  \\\n",
       "600        0.0978         0.723        62216   0.801            0.8270    4   \n",
       "601        0.3690         0.424       246186   0.439            0.7960    4   \n",
       "602        0.2210         0.844       332821   0.558            0.0304    1   \n",
       "603        0.6770         0.646       238787   0.564            0.8690    2   \n",
       "604        0.8230         0.588       135276   0.302            0.8720   11   \n",
       "\n",
       "     liveness  loudness  mode  speechiness    tempo  time_signature  valence  \\\n",
       "600    0.3860    -8.253     1       0.1130   87.950               4    0.918   \n",
       "601    0.1050   -15.861     0       0.0552   94.021               4    0.278   \n",
       "602    0.0693   -10.005     1       0.1000  116.969               4    0.818   \n",
       "603    0.1040   -12.531     1       0.0390   96.707               4    0.360   \n",
       "604    0.1070   -25.685     1       0.0456   77.990               4    0.885   \n",
       "\n",
       "      mood  \n",
       "600  chill  \n",
       "601  chill  \n",
       "602  chill  \n",
       "603  chill  \n",
       "604  chill  "
      ]
     },
     "execution_count": 7,
     "metadata": {},
     "output_type": "execute_result"
    }
   ],
   "source": [
    "chill_df = moods_df[moods_df['mood'] == 'chill']\n",
    "# chill_df.head(5)\n",
    "chill_df.describe()"
   ]
  },
  {
   "cell_type": "code",
   "execution_count": 8,
   "id": "ca643684b3b9d31a",
   "metadata": {
    "ExecuteTime": {
     "end_time": "2024-11-06T19:45:43.008183Z",
     "start_time": "2024-11-06T19:45:43.000956Z"
    }
   },
   "outputs": [
    {
     "data": {
      "text/html": [
       "<div>\n",
       "<style scoped>\n",
       "    .dataframe tbody tr th:only-of-type {\n",
       "        vertical-align: middle;\n",
       "    }\n",
       "\n",
       "    .dataframe tbody tr th {\n",
       "        vertical-align: top;\n",
       "    }\n",
       "\n",
       "    .dataframe thead th {\n",
       "        text-align: right;\n",
       "    }\n",
       "</style>\n",
       "<table border=\"1\" class=\"dataframe\">\n",
       "  <thead>\n",
       "    <tr style=\"text-align: right;\">\n",
       "      <th></th>\n",
       "      <th>acousticness</th>\n",
       "      <th>danceability</th>\n",
       "      <th>duration_ms</th>\n",
       "      <th>energy</th>\n",
       "      <th>instrumentalness</th>\n",
       "      <th>key</th>\n",
       "      <th>liveness</th>\n",
       "      <th>loudness</th>\n",
       "      <th>mode</th>\n",
       "      <th>speechiness</th>\n",
       "      <th>tempo</th>\n",
       "      <th>time_signature</th>\n",
       "      <th>valence</th>\n",
       "      <th>mood</th>\n",
       "    </tr>\n",
       "  </thead>\n",
       "  <tbody>\n",
       "    <tr>\n",
       "      <th>898</th>\n",
       "      <td>0.5440</td>\n",
       "      <td>0.900</td>\n",
       "      <td>111429</td>\n",
       "      <td>0.703</td>\n",
       "      <td>0.08170</td>\n",
       "      <td>0</td>\n",
       "      <td>0.2630</td>\n",
       "      <td>-5.615</td>\n",
       "      <td>1</td>\n",
       "      <td>0.1170</td>\n",
       "      <td>111.976</td>\n",
       "      <td>4</td>\n",
       "      <td>0.8100</td>\n",
       "      <td>energetic</td>\n",
       "    </tr>\n",
       "    <tr>\n",
       "      <th>899</th>\n",
       "      <td>0.2610</td>\n",
       "      <td>0.835</td>\n",
       "      <td>254125</td>\n",
       "      <td>0.655</td>\n",
       "      <td>0.77600</td>\n",
       "      <td>7</td>\n",
       "      <td>0.1850</td>\n",
       "      <td>-9.309</td>\n",
       "      <td>0</td>\n",
       "      <td>0.0838</td>\n",
       "      <td>114.963</td>\n",
       "      <td>4</td>\n",
       "      <td>0.1930</td>\n",
       "      <td>energetic</td>\n",
       "    </tr>\n",
       "    <tr>\n",
       "      <th>900</th>\n",
       "      <td>0.0367</td>\n",
       "      <td>0.694</td>\n",
       "      <td>182040</td>\n",
       "      <td>0.874</td>\n",
       "      <td>0.09630</td>\n",
       "      <td>5</td>\n",
       "      <td>0.9550</td>\n",
       "      <td>-5.988</td>\n",
       "      <td>0</td>\n",
       "      <td>0.0413</td>\n",
       "      <td>130.007</td>\n",
       "      <td>4</td>\n",
       "      <td>0.8770</td>\n",
       "      <td>energetic</td>\n",
       "    </tr>\n",
       "    <tr>\n",
       "      <th>901</th>\n",
       "      <td>0.0464</td>\n",
       "      <td>0.872</td>\n",
       "      <td>263036</td>\n",
       "      <td>0.454</td>\n",
       "      <td>0.82500</td>\n",
       "      <td>11</td>\n",
       "      <td>0.0930</td>\n",
       "      <td>-11.462</td>\n",
       "      <td>1</td>\n",
       "      <td>0.0541</td>\n",
       "      <td>118.022</td>\n",
       "      <td>4</td>\n",
       "      <td>0.0877</td>\n",
       "      <td>energetic</td>\n",
       "    </tr>\n",
       "    <tr>\n",
       "      <th>902</th>\n",
       "      <td>0.2500</td>\n",
       "      <td>0.641</td>\n",
       "      <td>272933</td>\n",
       "      <td>0.764</td>\n",
       "      <td>0.00173</td>\n",
       "      <td>5</td>\n",
       "      <td>0.0687</td>\n",
       "      <td>-6.862</td>\n",
       "      <td>0</td>\n",
       "      <td>0.0349</td>\n",
       "      <td>124.054</td>\n",
       "      <td>4</td>\n",
       "      <td>0.7860</td>\n",
       "      <td>energetic</td>\n",
       "    </tr>\n",
       "  </tbody>\n",
       "</table>\n",
       "</div>"
      ],
      "text/plain": [
       "     acousticness  danceability  duration_ms  energy  instrumentalness  key  \\\n",
       "898        0.5440         0.900       111429   0.703           0.08170    0   \n",
       "899        0.2610         0.835       254125   0.655           0.77600    7   \n",
       "900        0.0367         0.694       182040   0.874           0.09630    5   \n",
       "901        0.0464         0.872       263036   0.454           0.82500   11   \n",
       "902        0.2500         0.641       272933   0.764           0.00173    5   \n",
       "\n",
       "     liveness  loudness  mode  speechiness    tempo  time_signature  valence  \\\n",
       "898    0.2630    -5.615     1       0.1170  111.976               4   0.8100   \n",
       "899    0.1850    -9.309     0       0.0838  114.963               4   0.1930   \n",
       "900    0.9550    -5.988     0       0.0413  130.007               4   0.8770   \n",
       "901    0.0930   -11.462     1       0.0541  118.022               4   0.0877   \n",
       "902    0.0687    -6.862     0       0.0349  124.054               4   0.7860   \n",
       "\n",
       "          mood  \n",
       "898  energetic  \n",
       "899  energetic  \n",
       "900  energetic  \n",
       "901  energetic  \n",
       "902  energetic  "
      ]
     },
     "execution_count": 8,
     "metadata": {},
     "output_type": "execute_result"
    }
   ],
   "source": [
    "energetic_df = moods_df[moods_df['mood'] == 'energetic']\n",
    "# energetic_df.head(5)\n",
    "energetic_df.describe()"
   ]
  },
  {
   "cell_type": "markdown",
   "id": "fa44861d03b6a706",
   "metadata": {},
   "source": [
    "## Data Visualization\n",
    "Our hypothesis is that certain song attributes are more prevalent in specific moods. To test this hypothesis, we visualized the distribution of song attributes across different moods. We focused on the following attributes: acousticness, danceability, energy, instrumentalness, liveness, loudness, speechiness, valence and tempo."
   ]
  },
  {
   "cell_type": "code",
   "execution_count": 36,
   "id": "496c9d26bb10a37e",
   "metadata": {
    "ExecuteTime": {
     "end_time": "2024-11-07T10:35:50.438735Z",
     "start_time": "2024-11-07T10:35:50.381914Z"
    }
   },
   "outputs": [
    {
     "data": {
      "text/plain": [
       "<Axes: xlabel='instrumentalness', ylabel='mood'>"
      ]
     },
     "execution_count": 36,
     "metadata": {},
     "output_type": "execute_result"
    },
    {
     "data": {
      "image/png": "[encoded data removed]",
      "text/plain": [
       "<Figure size 640x480 with 1 Axes>"
      ]
     },
     "metadata": {},
     "output_type": "display_data"
    }
   ],
   "source": [
    "import seaborn as sns\n",
    "\n",
    "moods_mean_df = moods_df.groupby('mood').mean()\n",
    "\n",
    "sns.barplot(moods_mean_df, x=\"instrumentalness\", y=\"mood\", hue=\"mood\", legend=False)\n",
    "\n"
   ]
  },
  {
   "cell_type": "code",
   "execution_count": 22,
   "id": "4e8970d8bf00d3f9",
   "metadata": {
    "ExecuteTime": {
     "end_time": "2024-11-07T10:16:10.996473Z",
     "start_time": "2024-11-07T10:16:10.939986Z"
    }
   },
   "outputs": [
    {
     "data": {
      "text/plain": [
       "<Axes: xlabel='valence', ylabel='mood'>"
      ]
     },
     "execution_count": 22,
     "metadata": {},
     "output_type": "execute_result"
    },
    {
     "data": {
      "image/png": "[encoded data removed]",
      "text/plain": [
       "<Figure size 640x480 with 1 Axes>"
      ]
     },
     "metadata": {},
     "output_type": "display_data"
    }
   ],
   "source": [
    "sns.barplot(moods_mean_df, x=\"valence\", y=\"mood\", hue=\"mood\", legend=False)"
   ]
  },
  {
   "cell_type": "code",
   "execution_count": 23,
   "id": "2f56a8df133039b1",
   "metadata": {
    "ExecuteTime": {
     "end_time": "2024-11-07T10:16:33.941765Z",
     "start_time": "2024-11-07T10:16:33.878468Z"
    }
   },
   "outputs": [
    {
     "data": {
      "text/plain": [
       "<Axes: xlabel='speechiness', ylabel='mood'>"
      ]
     },
     "execution_count": 23,
     "metadata": {},
     "output_type": "execute_result"
    },
    {
     "data": {
      "image/png": "[encoded data removed]",
      "text/plain": [
       "<Figure size 640x480 with 1 Axes>"
      ]
     },
     "metadata": {},
     "output_type": "display_data"
    }
   ],
   "source": [
    "sns.barplot(moods_mean_df, x=\"speechiness\", y=\"mood\", hue=\"mood\", legend=False)"
   ]
  },
  {
   "cell_type": "code",
   "execution_count": 24,
   "id": "eb72f77787192826",
   "metadata": {
    "ExecuteTime": {
     "end_time": "2024-11-07T10:16:50.058900Z",
     "start_time": "2024-11-07T10:16:49.998245Z"
    }
   },
   "outputs": [
    {
     "data": {
      "text/plain": [
       "<Axes: xlabel='danceability', ylabel='mood'>"
      ]
     },
     "execution_count": 24,
     "metadata": {},
     "output_type": "execute_result"
    },
    {
     "data": {
      "image/png": "[encoded data removed]",
      "text/plain": [
       "<Figure size 640x480 with 1 Axes>"
      ]
     },
     "metadata": {},
     "output_type": "display_data"
    }
   ],
   "source": [
    "sns.barplot(moods_mean_df, x=\"danceability\", y=\"mood\", hue=\"mood\", legend=False)"
   ]
  },
  {
   "cell_type": "code",
   "execution_count": 38,
   "id": "e287f3192350888f",
   "metadata": {
    "ExecuteTime": {
     "end_time": "2024-11-07T11:11:52.658557Z",
     "start_time": "2024-11-07T11:11:52.577755Z"
    }
   },
   "outputs": [
    {
     "data": {
      "text/plain": [
       "<Axes: xlabel='energy', ylabel='mood'>"
      ]
     },
     "execution_count": 38,
     "metadata": {},
     "output_type": "execute_result"
    },
    {
     "data": {
      "image/png": "[encoded data removed]",
      "text/plain": [
       "<Figure size 640x480 with 1 Axes>"
      ]
     },
     "metadata": {},
     "output_type": "display_data"
    }
   ],
   "source": [
    "sns.barplot(moods_mean_df, x=\"energy\", y=\"mood\", hue=\"mood\", legend=False)"
   ]
  },
  {
   "cell_type": "code",
   "execution_count": 39,
   "id": "f46dac57cb3d99d9",
   "metadata": {
    "ExecuteTime": {
     "end_time": "2024-11-07T11:12:32.703019Z",
     "start_time": "2024-11-07T11:12:32.645831Z"
    }
   },
   "outputs": [
    {
     "data": {
      "text/plain": [
       "<Axes: xlabel='tempo', ylabel='mood'>"
      ]
     },
     "execution_count": 39,
     "metadata": {},
     "output_type": "execute_result"
    },
    {
     "data": {
      "image/png": "[encoded data removed]",
      "text/plain": [
       "<Figure size 640x480 with 1 Axes>"
      ]
     },
     "metadata": {},
     "output_type": "display_data"
    }
   ],
   "source": [
    "sns.barplot(moods_mean_df, x=\"tempo\", y=\"mood\", hue=\"mood\", legend=False)"
   ]
  },
  {
   "cell_type": "code",
   "execution_count": 40,
   "id": "ae001f86cf180720",
   "metadata": {
    "ExecuteTime": {
     "end_time": "2024-11-07T11:12:39.270572Z",
     "start_time": "2024-11-07T11:12:39.211080Z"
    }
   },
   "outputs": [
    {
     "data": {
      "text/plain": [
       "<Axes: xlabel='loudness', ylabel='mood'>"
      ]
     },
     "execution_count": 40,
     "metadata": {},
     "output_type": "execute_result"
    },
    {
     "data": {
      "image/png": "[encoded data removed]",
      "text/plain": [
       "<Figure size 640x480 with 1 Axes>"
      ]
     },
     "metadata": {},
     "output_type": "display_data"
    }
   ],
   "source": [
    "sns.barplot(moods_mean_df, x=\"loudness\", y=\"mood\", hue=\"mood\", legend=False)"
   ]
  },
  {
   "cell_type": "code",
   "execution_count": 41,
   "id": "e2e256b87200cef3",
   "metadata": {
    "ExecuteTime": {
     "end_time": "2024-11-07T11:13:20.068646Z",
     "start_time": "2024-11-07T11:13:20.013348Z"
    }
   },
   "outputs": [
    {
     "data": {
      "text/plain": [
       "<Axes: xlabel='liveness', ylabel='mood'>"
      ]
     },
     "execution_count": 41,
     "metadata": {},
     "output_type": "execute_result"
    },
    {
     "data": {
      "image/png": "[encoded data removed]",
      "text/plain": [
       "<Figure size 640x480 with 1 Axes>"
      ]
     },
     "metadata": {},
     "output_type": "display_data"
    }
   ],
   "source": [
    "sns.barplot(moods_mean_df, x=\"liveness\", y=\"mood\", hue=\"mood\", legend=False)"
   ]
  },
  {
   "cell_type": "code",
   "execution_count": 42,
   "id": "ace9ae5b3a504c81",
   "metadata": {
    "ExecuteTime": {
     "end_time": "2024-11-07T11:13:28.051440Z",
     "start_time": "2024-11-07T11:13:27.989412Z"
    }
   },
   "outputs": [
    {
     "data": {
      "text/plain": [
       "<Axes: xlabel='acousticness', ylabel='mood'>"
      ]
     },
     "execution_count": 42,
     "metadata": {},
     "output_type": "execute_result"
    },
    {
     "data": {
      "image/png": "[encoded data removed]",
      "text/plain": [
       "<Figure size 640x480 with 1 Axes>"
      ]
     },
     "metadata": {},
     "output_type": "display_data"
    }
   ],
   "source": [
    "sns.barplot(moods_mean_df, x=\"acousticness\", y=\"mood\", hue=\"mood\", legend=False)"
   ]
  },
  {
   "cell_type": "markdown",
   "id": "13e67110af9dd0bd",
   "metadata": {},
   "source": [
    "### Chill\n",
    "This mood seems to be characterized by higher values of acousticness and instrumentalness.\n",
    "\n",
    "### Happy\n",
    "This mood seems to be characterized by higher values of valence and lower values of instrumentalness.\n",
    "\n",
    "### Energetic\n",
    "This mood seems to be characterized by higher values of tempo, speechiness and liveness.\n",
    "\n",
    "### Sad\n",
    "This mood seems to be characterized by higher values of acousticness and lower values of instrumentalness."
   ]
  },
  {
   "cell_type": "markdown",
   "id": "c8d59dad1a0ae28f",
   "metadata": {},
   "source": [
    "## ML Data Analysis\n",
    "\n",
    "### Model Training\n",
    "\n"
   ]
  },
  {
   "cell_type": "code",
   "execution_count": 7,
   "id": "bd3eb27ad7525a1d",
   "metadata": {
    "ExecuteTime": {
     "end_time": "2024-11-05T02:00:54.702382Z",
     "start_time": "2024-11-05T02:00:53.607407Z"
    }
   },
   "outputs": [
    {
     "name": "stdout",
     "output_type": "stream",
     "text": [
      "CV scores [0.65625    0.796875   0.65625    0.734375   0.609375   0.859375\n",
      " 0.609375   0.65625    0.66666667 0.66666667]\n",
      "Mean CV scores 0.6911458333333333\n",
      "Fit Score 0.7125\n"
     ]
    }
   ],
   "source": [
    "from sklearn.linear_model import (\n",
    "    LinearRegression, LogisticRegression, Ridge, Lasso, ElasticNet,\n",
    "    BayesianRidge, SGDRegressor, SGDClassifier, Perceptron, PassiveAggressiveRegressor,\n",
    "    PassiveAggressiveClassifier, RidgeClassifier, RidgeCV, LassoCV, ElasticNetCV\n",
    ")\n",
    "\n",
    "from sklearn.tree import DecisionTreeClassifier, DecisionTreeRegressor\n",
    "from sklearn.ensemble import (\n",
    "    RandomForestClassifier, RandomForestRegressor, GradientBoostingClassifier,\n",
    "    GradientBoostingRegressor, AdaBoostClassifier, AdaBoostRegressor,\n",
    "    BaggingClassifier, BaggingRegressor, ExtraTreesClassifier, ExtraTreesRegressor,\n",
    "    VotingClassifier, VotingRegressor, StackingClassifier, StackingRegressor\n",
    ")\n",
    "\n",
    "from sklearn.svm import SVC, SVR, LinearSVC, LinearSVR\n",
    "from sklearn.neighbors import KNeighborsClassifier, KNeighborsRegressor\n",
    "from sklearn.naive_bayes import GaussianNB, MultinomialNB, BernoulliNB, CategoricalNB\n",
    "from sklearn.discriminant_analysis import LinearDiscriminantAnalysis, QuadraticDiscriminantAnalysis\n",
    "from sklearn.neural_network import MLPClassifier, MLPRegressor\n",
    "from sklearn.gaussian_process import GaussianProcessClassifier, GaussianProcessRegressor\n",
    "from sklearn.isotonic import IsotonicRegression\n",
    "from sklearn.semi_supervised import LabelPropagation, LabelSpreading\n",
    "from sklearn.mixture import GaussianMixture, BayesianGaussianMixture\n",
    "from sklearn.cluster import (\n",
    "    KMeans, MiniBatchKMeans, MeanShift, SpectralClustering, AgglomerativeClustering,\n",
    "    DBSCAN, OPTICS, Birch, AffinityPropagation\n",
    ")\n",
    "\n",
    "from sklearn.model_selection import train_test_split, cross_val_score\n",
    "from sklearn.metrics import mean_squared_error, mean_absolute_error, r2_score\n",
    "import json\n",
    "import pandas as pd\n",
    "import json\n",
    "import numpy as np\n",
    "from sklearn.preprocessing import LabelEncoder\n",
    "\n",
    "moods = ['happy', 'sad', 'chill', 'energetic']\n",
    "dfs = []\n",
    "for mood in moods:\n",
    "    files = [\n",
    "        f'/Users/conrad/dev-school/418/final-project/raw/spotify_{mood}_1.json',\n",
    "        f'/Users/conrad/dev-school/418/final-project/raw/spotify_{mood}_2.json',\n",
    "        f'/Users/conrad/dev-school/418/final-project/raw/spotify_{mood}_3.json',\n",
    "        f'/Users/conrad/dev-school/418/final-project/raw/spotify_{mood}_4.json',\n",
    "        f'/Users/conrad/dev-school/418/final-project/raw/spotify_{mood}_5.json',\n",
    "        f'/Users/conrad/dev-school/418/final-project/raw/spotify_{mood}_6.json',\n",
    "    ]\n",
    "\n",
    "    for file in files:\n",
    "        with open(file, 'r') as fileio:\n",
    "            df = pd.DataFrame(json.load(fileio))\n",
    "            df['mood'] = mood\n",
    "            dfs.append(df)\n",
    "\n",
    "final_df = pd.concat(dfs, ignore_index=True)\n",
    "\n",
    "#processing\n",
    "drop = ['name', 'id']\n",
    "final_df = final_df.drop(columns=drop)\n",
    "\n",
    "final_df.to_csv('training.csv')\n",
    "\n",
    "#splitting\n",
    "X = final_df.iloc[:, 0:13]\n",
    "Y = final_df.iloc[:, 13]\n",
    "# encoder = LabelEncoder()\n",
    "# y = encoder.fit_transform(Y)\n",
    "xtrain, xtest, ytrain, ytest = train_test_split(X, Y, test_size=.2, random_state=1)\n",
    "\n",
    "# k-fold\n",
    "k = 10\n",
    "forest = RandomForestClassifier(random_state=2)\n",
    "scores = cross_val_score(forest, xtrain, ytrain, cv=k)\n",
    "print('CV scores', scores)\n",
    "print('Mean CV scores', np.mean(scores))\n",
    "\n",
    "# single\n",
    "forest.fit(xtrain, ytrain)\n",
    "print('Fit Score', forest.score(xtest, ytest))\n"
   ]
  },
  {
   "cell_type": "markdown",
   "id": "a24b55c09fc73940",
   "metadata": {},
   "source": [
    "## Analysis\n",
    "\n",
    "Based on the output below, we can see the percentage of tracks classified as a certain mood. \n",
    "Talk a little bit more about the individual outputs."
   ]
  },
  {
   "cell_type": "code",
   "execution_count": 8,
   "id": "fb4fa98c4e4701c0",
   "metadata": {
    "ExecuteTime": {
     "end_time": "2024-11-05T02:01:17.037711Z",
     "start_time": "2024-11-05T02:01:17.002355Z"
    }
   },
   "outputs": [
    {
     "name": "stdout",
     "output_type": "stream",
     "text": [
      "Person 1\n",
      "Happy 26.87007874015748\n",
      "Sad 13.385826771653544\n",
      "Chill 37.99212598425197\n",
      "Energetic 21.751968503937007\n",
      "\n",
      "Person 2\n",
      "Happy 38.88888888888889\n",
      "Sad 12.962962962962962\n",
      "Chill 7.4074074074074066\n",
      "Energetic 40.74074074074074\n",
      "\n",
      "Person 3\n",
      "Happy 14.583333333333334\n",
      "Sad 62.5\n",
      "Chill 2.083333333333333\n",
      "Energetic 20.833333333333336\n",
      "\n"
     ]
    }
   ],
   "source": [
    "#analysis\n",
    "\n",
    "import json\n",
    "import pandas as pd\n",
    "\n",
    "dfs = []\n",
    "\n",
    "files = [\n",
    "    f'/Users/conrad/dev-school/418/final-project/raw/liked_songs_1.json',\n",
    "    f'/Users/conrad/dev-school/418/final-project/raw/liked_songs_2.json',\n",
    "    f'/Users/conrad/dev-school/418/final-project/raw/liked_songs_3.json',\n",
    "    f'/Users/conrad/dev-school/418/final-project/raw/liked_songs_4.json',\n",
    "    f'/Users/conrad/dev-school/418/final-project/raw/liked_songs_5.json',\n",
    "    f'/Users/conrad/dev-school/418/final-project/raw/liked_songs_6.json',\n",
    "]\n",
    "\n",
    "for file in files:\n",
    "    with open(file, 'r') as fileio:\n",
    "        df = pd.DataFrame(json.load(fileio))\n",
    "        dfs.append(df)\n",
    "\n",
    "#processing\n",
    "drop = ['name', 'id']\n",
    "for i in range(0, 3):\n",
    "    dfs[i] = dfs[i].drop(columns=drop)\n",
    "\n",
    "predictions = []\n",
    "\n",
    "for df in dfs:\n",
    "    predictions.append(forest.predict(df.iloc[:, :]))\n",
    "\n",
    "person = 1\n",
    "for prediction in predictions:\n",
    "    print(f'Person {person}')\n",
    "    print('Happy', (prediction.tolist().count('happy')/len(prediction.tolist()))*100)\n",
    "    print('Sad', (prediction.tolist().count('sad')/len(prediction.tolist()))*100)\n",
    "    print('Chill', (prediction.tolist().count('chill')/len(prediction.tolist()))*100)\n",
    "    print('Energetic', (prediction.tolist().count('energetic')/len(prediction.tolist()))*100)\n",
    "    print()\n",
    "    person += 1"
   ]
  },
  {
   "cell_type": "markdown",
   "id": "37d3175763845b83",
   "metadata": {},
   "source": [
    "## Progress reflection\n",
    "#### Hardest Part of the Project:\n",
    "The most challenging aspect has been handling the large data sets and managing the Spotify API rate limits, which restricted our ability to retrieve data efficiently. These technical issues required a reevaluation of our data collection strategies, including implementing caching and batching requests to better manage API usage.\n",
    "\n",
    "#### Initial Insights:\n",
    "Our exploratory data analysis revealed that certain song attributes like tempo, valence, and energy significantly vary across different moods. For instance, 'happy' songs generally exhibit higher tempo and energy levels than 'sad' songs, which tend to feature lower valence scores.\n",
    "\n",
    "#### Concrete Results:\n",
    "While we have not yet applied machine learning models to predict song moods, our preliminary visualizations and statistical analyses confirm that the attributes we are studying do correlate with the categorizations provided by Spotify.\n",
    "\n",
    "#### Current Problems and Adjustments:\n",
    "Given the limitations in data acquisition, we need to allocate more time towards enhancing our data processing capabilities to handle large volumes of data more effectively by possibly using different data querying tools. \n",
    "\n",
    "#### On Track:\n",
    "We are on track in terms of understanding the data and setting up the necessary infrastructure for analysis. However, we are being delayed by API limit constraints.\n",
    "\n",
    "#### Change in Project Direction:\n",
    "Based on initial findings, focusing more on implementing the different features of this model could be beneficial. Enhancing our feature set by integrating additional data such as user listening habits might improve our model's accuracy and align better with Spotify's algorithm.\n",
    "\n",
    "\n"
   ]
  },
  {
   "cell_type": "markdown",
   "id": "51352f7fb9f3c215",
   "metadata": {},
   "source": [
    "## Roles and Coordination\n",
    "\n",
    "Finding data sources and cleaning (By 11/7): Conrad Domagala, Tyler Strach\n",
    "\n",
    "\n",
    "Data Exploration (By 11/15): Ceasar Attar, Andrea Carbonati\n",
    "\n",
    "\n",
    "Statistical analysis (By 11/15): \n",
    "\n",
    "\n",
    "Data Visualization (By 11/23): Ceasar Attar, Andrea Carbonati\n",
    "\n",
    "\n",
    "Machine Learning Applications (By 11/29): Conrad Domagala, Tyler Strach"
   ]
  },
  {
   "cell_type": "markdown",
   "id": "5cb4b7709d22a901",
   "metadata": {},
   "source": [
    "## Next Steps\n",
    "### Optimize Data Collection:\n",
    "Implement more efficient data handling to manage larger datasets without hitting API limits.\n",
    "### Expand Feature Analysis:\n",
    "Incorporate additional features from user profiles to enrich our predictive models.\n",
    "### Model Development:\n",
    "Start training preliminary machine learning models using the cleaned and processed data.\n",
    "### Evaluate Progress:\n",
    "We will assess our model's performance based on its accuracy in classifying song moods and adjust our strategies accordingly. This evaluation will help us determine if our approach aligns with the project's goals and Spotify's classification standards."
   ]
  }
 ],
 "metadata": {
  "kernelspec": {
   "display_name": "spotifyproject",
   "language": "python",
   "name": "python3"
  },
  "language_info": {
   "codemirror_mode": {
    "name": "ipython",
    "version": 3
   },
   "file_extension": ".py",
   "mimetype": "text/x-python",
   "name": "python",
   "nbconvert_exporter": "python",
   "pygments_lexer": "ipython3",
   "version": "3.12.7"
  }
 },
 "nbformat": 4,
 "nbformat_minor": 5
}
