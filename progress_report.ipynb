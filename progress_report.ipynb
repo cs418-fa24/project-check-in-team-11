{
 "cells": [
  {
   "cell_type": "markdown",
   "id": "c5589c084a8a5e79",
   "metadata": {},
   "source": [
    "## Github Classroom\n",
    "Github project repository: https://github.com/cs418-fa24/project-check-in-team-11"
   ]
  },
  {
   "cell_type": "markdown",
   "id": "c646f864235fa003",
   "metadata": {},
   "source": [
    "## Project Introduction\n",
    "Our project aims to understand the spotify song classification/reccomendation algorithm and to see if it can be accurately recreated. Through gathering songs and their respective specific statistics from Spotify, we will determine what aspects of songs does Spotify use the most to determine the mood classification of songs. In turn, we will then evaluate whether or not an overall mood can be determined accurately from a user's liked songs library."
   ]
  },
  {
   "cell_type": "markdown",
   "id": "a4707fdc8d0f579d",
   "metadata": {},
   "source": [
    "## Scope Adjustments\n",
    "We wanted to try and recreate the Spotify wrapped, however that was a large scope and more tailored towards recreating a listening profile based on other non-song related data such as listening history, time of day, and artist preference. We pivoted the scope to focus on song related data such as track features revolving around tempo, loudness, energy, danceability, etc."
   ]
  },
  {
   "cell_type": "markdown",
   "id": "dcd0c8ed824550d5",
   "metadata": {},
   "source": [
    "## Data Collection and Cleaning"
   ]
  },
  {
   "cell_type": "markdown",
   "id": "31a5fb787d672b60",
   "metadata": {},
   "source": [
    "### Retrieve Liked Songs"
   ]
  },
  {
   "cell_type": "code",
   "id": "388e00de5a99bc18",
   "metadata": {
    "ExecuteTime": {
     "end_time": "2024-11-05T01:59:51.253239Z",
     "start_time": "2024-11-05T01:59:51.112421Z"
    }
   },
   "source": [
    "import json\n",
    "\n",
    "import spotipy\n",
    "from spotipy.oauth2 import SpotifyOAuth\n",
    "\n",
    "CLIENT_ID = '5136eebddeac4d10b82bb55a64dcf00e'\n",
    "CLIENT_SECRET = 'a165c457e8e34acd97afa9e2cb812234'\n",
    "REDIRECT_URI = 'http://localhost:8888/callback'\n",
    "\n",
    "moods = {\n",
    "    'HAPPY': '37i9dQZF1EVJSvZp5AOML2',\n",
    "    'SAD': '37i9dQZF1EIh4v230xvJvd',\n",
    "    'CHILL': '37i9dQZF1EIdNTvkcjcOzJ',\n",
    "    'ENERGETIC': '37i9dQZF1EIcVD7Tg8a0MY'\n",
    "}\n",
    "\n",
    "sp = spotipy.Spotify(auth_manager=SpotifyOAuth(\n",
    "    client_id=CLIENT_ID,\n",
    "    client_secret=CLIENT_SECRET,\n",
    "    redirect_uri=REDIRECT_URI,\n",
    "    scope=\"playlist-read-private user-library-read\"  # now accessing private user playlists\n",
    "))\n",
    "\n",
    "sp1 = spotipy.Spotify(auth_manager=SpotifyOAuth(\n",
    "    client_id=CLIENT_ID,\n",
    "    client_secret=CLIENT_SECRET,\n",
    "    redirect_uri=REDIRECT_URI,\n",
    "    scope=\"playlist-read-private user-library-read\"  # now accessing private user playlists\n",
    "))\n",
    "\n",
    "# Get the user's liked songs\n",
    "results = sp.current_user_saved_tracks()\n",
    "liked_songs = []\n",
    "\n",
    "while results:\n",
    "    for item in results['items']:\n",
    "        track = item['track']\n",
    "        features = sp1.audio_features(track['id'])[0]\n",
    "        liked_songs.append({\n",
    "            'name': track['name'],\n",
    "            'id': track['id'],\n",
    "            'acousticness': features['acousticness'],\n",
    "            'danceability': features['danceability'],\n",
    "            'duration_ms': features['duration_ms'],\n",
    "            'energy': features['energy'],\n",
    "            'instrumentalness': features['instrumentalness'],\n",
    "            'key': features['key'],\n",
    "            'liveness': features['liveness'],\n",
    "            'loudness': features['loudness'],\n",
    "            'mode': features['mode'],\n",
    "            'speechiness': features['speechiness'],\n",
    "            'tempo': features['tempo'],\n",
    "            'time_signature': features['time_signature'],\n",
    "            'valence': features['valence']\n",
    "        })\n",
    "\n",
    "    results = sp.next(results)\n",
    "\n",
    "#TODO rename the file so that it does not overwrite anyone else's\n",
    "with open('/Users/conrad/dev-school/418/final-project/raw/liked_songs_1.json', 'w') as json_file:\n",
    "    json.dump(liked_songs, json_file, indent=4)\n"
   ],
   "outputs": [
    {
     "ename": "OSError",
     "evalue": "[Errno 48] Address already in use",
     "output_type": "error",
     "traceback": [
      "\u001B[0;31m---------------------------------------------------------------------------\u001B[0m",
      "\u001B[0;31mOSError\u001B[0m                                   Traceback (most recent call last)",
      "Cell \u001B[0;32mIn[5], line 32\u001B[0m\n\u001B[1;32m     24\u001B[0m sp1 \u001B[38;5;241m=\u001B[39m spotipy\u001B[38;5;241m.\u001B[39mSpotify(auth_manager\u001B[38;5;241m=\u001B[39mSpotifyOAuth(\n\u001B[1;32m     25\u001B[0m     client_id\u001B[38;5;241m=\u001B[39mCLIENT_ID,\n\u001B[1;32m     26\u001B[0m     client_secret\u001B[38;5;241m=\u001B[39mCLIENT_SECRET,\n\u001B[1;32m     27\u001B[0m     redirect_uri\u001B[38;5;241m=\u001B[39mREDIRECT_URI,\n\u001B[1;32m     28\u001B[0m     scope\u001B[38;5;241m=\u001B[39m\u001B[38;5;124m\"\u001B[39m\u001B[38;5;124mplaylist-read-private user-library-read\u001B[39m\u001B[38;5;124m\"\u001B[39m  \u001B[38;5;66;03m# now accessing private user playlists\u001B[39;00m\n\u001B[1;32m     29\u001B[0m ))\n\u001B[1;32m     31\u001B[0m \u001B[38;5;66;03m# Get the user's liked songs\u001B[39;00m\n\u001B[0;32m---> 32\u001B[0m results \u001B[38;5;241m=\u001B[39m \u001B[43msp\u001B[49m\u001B[38;5;241;43m.\u001B[39;49m\u001B[43mcurrent_user_saved_tracks\u001B[49m\u001B[43m(\u001B[49m\u001B[43m)\u001B[49m\n\u001B[1;32m     33\u001B[0m liked_songs \u001B[38;5;241m=\u001B[39m []\n\u001B[1;32m     35\u001B[0m \u001B[38;5;28;01mwhile\u001B[39;00m results:\n",
      "File \u001B[0;32m~/dev-school/418/venv/lib/python3.11/site-packages/spotipy/client.py:1302\u001B[0m, in \u001B[0;36mSpotify.current_user_saved_tracks\u001B[0;34m(self, limit, offset, market)\u001B[0m\n\u001B[1;32m   1292\u001B[0m \u001B[38;5;28;01mdef\u001B[39;00m \u001B[38;5;21mcurrent_user_saved_tracks\u001B[39m(\u001B[38;5;28mself\u001B[39m, limit\u001B[38;5;241m=\u001B[39m\u001B[38;5;241m20\u001B[39m, offset\u001B[38;5;241m=\u001B[39m\u001B[38;5;241m0\u001B[39m, market\u001B[38;5;241m=\u001B[39m\u001B[38;5;28;01mNone\u001B[39;00m):\n\u001B[1;32m   1293\u001B[0m \u001B[38;5;250m    \u001B[39m\u001B[38;5;124;03m\"\"\" Gets a list of the tracks saved in the current authorized user's\u001B[39;00m\n\u001B[1;32m   1294\u001B[0m \u001B[38;5;124;03m        \"Your Music\" library\u001B[39;00m\n\u001B[1;32m   1295\u001B[0m \n\u001B[0;32m   (...)\u001B[0m\n\u001B[1;32m   1300\u001B[0m \n\u001B[1;32m   1301\u001B[0m \u001B[38;5;124;03m    \"\"\"\u001B[39;00m\n\u001B[0;32m-> 1302\u001B[0m     \u001B[38;5;28;01mreturn\u001B[39;00m \u001B[38;5;28;43mself\u001B[39;49m\u001B[38;5;241;43m.\u001B[39;49m\u001B[43m_get\u001B[49m\u001B[43m(\u001B[49m\u001B[38;5;124;43m\"\u001B[39;49m\u001B[38;5;124;43mme/tracks\u001B[39;49m\u001B[38;5;124;43m\"\u001B[39;49m\u001B[43m,\u001B[49m\u001B[43m \u001B[49m\u001B[43mlimit\u001B[49m\u001B[38;5;241;43m=\u001B[39;49m\u001B[43mlimit\u001B[49m\u001B[43m,\u001B[49m\u001B[43m \u001B[49m\u001B[43moffset\u001B[49m\u001B[38;5;241;43m=\u001B[39;49m\u001B[43moffset\u001B[49m\u001B[43m,\u001B[49m\u001B[43m \u001B[49m\u001B[43mmarket\u001B[49m\u001B[38;5;241;43m=\u001B[39;49m\u001B[43mmarket\u001B[49m\u001B[43m)\u001B[49m\n",
      "File \u001B[0;32m~/dev-school/418/venv/lib/python3.11/site-packages/spotipy/client.py:327\u001B[0m, in \u001B[0;36mSpotify._get\u001B[0;34m(self, url, args, payload, **kwargs)\u001B[0m\n\u001B[1;32m    324\u001B[0m \u001B[38;5;28;01mif\u001B[39;00m args:\n\u001B[1;32m    325\u001B[0m     kwargs\u001B[38;5;241m.\u001B[39mupdate(args)\n\u001B[0;32m--> 327\u001B[0m \u001B[38;5;28;01mreturn\u001B[39;00m \u001B[38;5;28;43mself\u001B[39;49m\u001B[38;5;241;43m.\u001B[39;49m\u001B[43m_internal_call\u001B[49m\u001B[43m(\u001B[49m\u001B[38;5;124;43m\"\u001B[39;49m\u001B[38;5;124;43mGET\u001B[39;49m\u001B[38;5;124;43m\"\u001B[39;49m\u001B[43m,\u001B[49m\u001B[43m \u001B[49m\u001B[43murl\u001B[49m\u001B[43m,\u001B[49m\u001B[43m \u001B[49m\u001B[43mpayload\u001B[49m\u001B[43m,\u001B[49m\u001B[43m \u001B[49m\u001B[43mkwargs\u001B[49m\u001B[43m)\u001B[49m\n",
      "File \u001B[0;32m~/dev-school/418/venv/lib/python3.11/site-packages/spotipy/client.py:251\u001B[0m, in \u001B[0;36mSpotify._internal_call\u001B[0;34m(self, method, url, payload, params)\u001B[0m\n\u001B[1;32m    249\u001B[0m \u001B[38;5;28;01mif\u001B[39;00m \u001B[38;5;129;01mnot\u001B[39;00m url\u001B[38;5;241m.\u001B[39mstartswith(\u001B[38;5;124m\"\u001B[39m\u001B[38;5;124mhttp\u001B[39m\u001B[38;5;124m\"\u001B[39m):\n\u001B[1;32m    250\u001B[0m     url \u001B[38;5;241m=\u001B[39m \u001B[38;5;28mself\u001B[39m\u001B[38;5;241m.\u001B[39mprefix \u001B[38;5;241m+\u001B[39m url\n\u001B[0;32m--> 251\u001B[0m headers \u001B[38;5;241m=\u001B[39m \u001B[38;5;28;43mself\u001B[39;49m\u001B[38;5;241;43m.\u001B[39;49m\u001B[43m_auth_headers\u001B[49m\u001B[43m(\u001B[49m\u001B[43m)\u001B[49m\n\u001B[1;32m    253\u001B[0m \u001B[38;5;28;01mif\u001B[39;00m \u001B[38;5;124m\"\u001B[39m\u001B[38;5;124mcontent_type\u001B[39m\u001B[38;5;124m\"\u001B[39m \u001B[38;5;129;01min\u001B[39;00m args[\u001B[38;5;124m\"\u001B[39m\u001B[38;5;124mparams\u001B[39m\u001B[38;5;124m\"\u001B[39m]:\n\u001B[1;32m    254\u001B[0m     headers[\u001B[38;5;124m\"\u001B[39m\u001B[38;5;124mContent-Type\u001B[39m\u001B[38;5;124m\"\u001B[39m] \u001B[38;5;241m=\u001B[39m args[\u001B[38;5;124m\"\u001B[39m\u001B[38;5;124mparams\u001B[39m\u001B[38;5;124m\"\u001B[39m][\u001B[38;5;124m\"\u001B[39m\u001B[38;5;124mcontent_type\u001B[39m\u001B[38;5;124m\"\u001B[39m]\n",
      "File \u001B[0;32m~/dev-school/418/venv/lib/python3.11/site-packages/spotipy/client.py:242\u001B[0m, in \u001B[0;36mSpotify._auth_headers\u001B[0;34m(self)\u001B[0m\n\u001B[1;32m    240\u001B[0m     \u001B[38;5;28;01mreturn\u001B[39;00m {}\n\u001B[1;32m    241\u001B[0m \u001B[38;5;28;01mtry\u001B[39;00m:\n\u001B[0;32m--> 242\u001B[0m     token \u001B[38;5;241m=\u001B[39m \u001B[38;5;28;43mself\u001B[39;49m\u001B[38;5;241;43m.\u001B[39;49m\u001B[43mauth_manager\u001B[49m\u001B[38;5;241;43m.\u001B[39;49m\u001B[43mget_access_token\u001B[49m\u001B[43m(\u001B[49m\u001B[43mas_dict\u001B[49m\u001B[38;5;241;43m=\u001B[39;49m\u001B[38;5;28;43;01mFalse\u001B[39;49;00m\u001B[43m)\u001B[49m\n\u001B[1;32m    243\u001B[0m \u001B[38;5;28;01mexcept\u001B[39;00m \u001B[38;5;167;01mTypeError\u001B[39;00m:\n\u001B[1;32m    244\u001B[0m     token \u001B[38;5;241m=\u001B[39m \u001B[38;5;28mself\u001B[39m\u001B[38;5;241m.\u001B[39mauth_manager\u001B[38;5;241m.\u001B[39mget_access_token()\n",
      "File \u001B[0;32m~/dev-school/418/venv/lib/python3.11/site-packages/spotipy/oauth2.py:525\u001B[0m, in \u001B[0;36mSpotifyOAuth.get_access_token\u001B[0;34m(self, code, as_dict, check_cache)\u001B[0m\n\u001B[1;32m    518\u001B[0m             token_info \u001B[38;5;241m=\u001B[39m \u001B[38;5;28mself\u001B[39m\u001B[38;5;241m.\u001B[39mrefresh_access_token(\n\u001B[1;32m    519\u001B[0m                 token_info[\u001B[38;5;124m\"\u001B[39m\u001B[38;5;124mrefresh_token\u001B[39m\u001B[38;5;124m\"\u001B[39m]\n\u001B[1;32m    520\u001B[0m             )\n\u001B[1;32m    521\u001B[0m         \u001B[38;5;28;01mreturn\u001B[39;00m token_info \u001B[38;5;28;01mif\u001B[39;00m as_dict \u001B[38;5;28;01melse\u001B[39;00m token_info[\u001B[38;5;124m\"\u001B[39m\u001B[38;5;124maccess_token\u001B[39m\u001B[38;5;124m\"\u001B[39m]\n\u001B[1;32m    523\u001B[0m payload \u001B[38;5;241m=\u001B[39m {\n\u001B[1;32m    524\u001B[0m     \u001B[38;5;124m\"\u001B[39m\u001B[38;5;124mredirect_uri\u001B[39m\u001B[38;5;124m\"\u001B[39m: \u001B[38;5;28mself\u001B[39m\u001B[38;5;241m.\u001B[39mredirect_uri,\n\u001B[0;32m--> 525\u001B[0m     \u001B[38;5;124m\"\u001B[39m\u001B[38;5;124mcode\u001B[39m\u001B[38;5;124m\"\u001B[39m: code \u001B[38;5;129;01mor\u001B[39;00m \u001B[38;5;28;43mself\u001B[39;49m\u001B[38;5;241;43m.\u001B[39;49m\u001B[43mget_auth_response\u001B[49m\u001B[43m(\u001B[49m\u001B[43m)\u001B[49m,\n\u001B[1;32m    526\u001B[0m     \u001B[38;5;124m\"\u001B[39m\u001B[38;5;124mgrant_type\u001B[39m\u001B[38;5;124m\"\u001B[39m: \u001B[38;5;124m\"\u001B[39m\u001B[38;5;124mauthorization_code\u001B[39m\u001B[38;5;124m\"\u001B[39m,\n\u001B[1;32m    527\u001B[0m }\n\u001B[1;32m    528\u001B[0m \u001B[38;5;28;01mif\u001B[39;00m \u001B[38;5;28mself\u001B[39m\u001B[38;5;241m.\u001B[39mscope:\n\u001B[1;32m    529\u001B[0m     payload[\u001B[38;5;124m\"\u001B[39m\u001B[38;5;124mscope\u001B[39m\u001B[38;5;124m\"\u001B[39m] \u001B[38;5;241m=\u001B[39m \u001B[38;5;28mself\u001B[39m\u001B[38;5;241m.\u001B[39mscope\n",
      "File \u001B[0;32m~/dev-school/418/venv/lib/python3.11/site-packages/spotipy/oauth2.py:480\u001B[0m, in \u001B[0;36mSpotifyOAuth.get_auth_response\u001B[0;34m(self, open_browser)\u001B[0m\n\u001B[1;32m    473\u001B[0m \u001B[38;5;28;01mif\u001B[39;00m (\n\u001B[1;32m    474\u001B[0m         open_browser\n\u001B[1;32m    475\u001B[0m         \u001B[38;5;129;01mand\u001B[39;00m redirect_host \u001B[38;5;129;01min\u001B[39;00m (\u001B[38;5;124m\"\u001B[39m\u001B[38;5;124m127.0.0.1\u001B[39m\u001B[38;5;124m\"\u001B[39m, \u001B[38;5;124m\"\u001B[39m\u001B[38;5;124mlocalhost\u001B[39m\u001B[38;5;124m\"\u001B[39m)\n\u001B[1;32m    476\u001B[0m         \u001B[38;5;129;01mand\u001B[39;00m redirect_info\u001B[38;5;241m.\u001B[39mscheme \u001B[38;5;241m==\u001B[39m \u001B[38;5;124m\"\u001B[39m\u001B[38;5;124mhttp\u001B[39m\u001B[38;5;124m\"\u001B[39m\n\u001B[1;32m    477\u001B[0m ):\n\u001B[1;32m    478\u001B[0m     \u001B[38;5;66;03m# Only start a local http server if a port is specified\u001B[39;00m\n\u001B[1;32m    479\u001B[0m     \u001B[38;5;28;01mif\u001B[39;00m redirect_port:\n\u001B[0;32m--> 480\u001B[0m         \u001B[38;5;28;01mreturn\u001B[39;00m \u001B[38;5;28;43mself\u001B[39;49m\u001B[38;5;241;43m.\u001B[39;49m\u001B[43m_get_auth_response_local_server\u001B[49m\u001B[43m(\u001B[49m\u001B[43mredirect_port\u001B[49m\u001B[43m)\u001B[49m\n\u001B[1;32m    481\u001B[0m     \u001B[38;5;28;01melse\u001B[39;00m:\n\u001B[1;32m    482\u001B[0m         logger\u001B[38;5;241m.\u001B[39mwarning(\u001B[38;5;124m'\u001B[39m\u001B[38;5;124mUsing `\u001B[39m\u001B[38;5;132;01m%s\u001B[39;00m\u001B[38;5;124m` as redirect URI without a port. \u001B[39m\u001B[38;5;124m'\u001B[39m\n\u001B[1;32m    483\u001B[0m                        \u001B[38;5;124m'\u001B[39m\u001B[38;5;124mSpecify a port (e.g. `\u001B[39m\u001B[38;5;132;01m%s\u001B[39;00m\u001B[38;5;124m:8080`) to allow \u001B[39m\u001B[38;5;124m'\u001B[39m\n\u001B[1;32m    484\u001B[0m                        \u001B[38;5;124m'\u001B[39m\u001B[38;5;124mautomatic retrieval of authentication code \u001B[39m\u001B[38;5;124m'\u001B[39m\n\u001B[1;32m    485\u001B[0m                        \u001B[38;5;124m'\u001B[39m\u001B[38;5;124minstead of having to copy and paste \u001B[39m\u001B[38;5;124m'\u001B[39m\n\u001B[1;32m    486\u001B[0m                        \u001B[38;5;124m'\u001B[39m\u001B[38;5;124mthe URL your browser is redirected to.\u001B[39m\u001B[38;5;124m'\u001B[39m,\n\u001B[1;32m    487\u001B[0m                        redirect_host, redirect_host)\n",
      "File \u001B[0;32m~/dev-school/418/venv/lib/python3.11/site-packages/spotipy/oauth2.py:447\u001B[0m, in \u001B[0;36mSpotifyOAuth._get_auth_response_local_server\u001B[0;34m(self, redirect_port)\u001B[0m\n\u001B[1;32m    446\u001B[0m \u001B[38;5;28;01mdef\u001B[39;00m \u001B[38;5;21m_get_auth_response_local_server\u001B[39m(\u001B[38;5;28mself\u001B[39m, redirect_port):\n\u001B[0;32m--> 447\u001B[0m     server \u001B[38;5;241m=\u001B[39m \u001B[43mstart_local_http_server\u001B[49m\u001B[43m(\u001B[49m\u001B[43mredirect_port\u001B[49m\u001B[43m)\u001B[49m\n\u001B[1;32m    448\u001B[0m     \u001B[38;5;28mself\u001B[39m\u001B[38;5;241m.\u001B[39m_open_auth_url()\n\u001B[1;32m    449\u001B[0m     server\u001B[38;5;241m.\u001B[39mhandle_request()\n",
      "File \u001B[0;32m~/dev-school/418/venv/lib/python3.11/site-packages/spotipy/oauth2.py:1285\u001B[0m, in \u001B[0;36mstart_local_http_server\u001B[0;34m(port, handler)\u001B[0m\n\u001B[1;32m   1284\u001B[0m \u001B[38;5;28;01mdef\u001B[39;00m \u001B[38;5;21mstart_local_http_server\u001B[39m(port, handler\u001B[38;5;241m=\u001B[39mRequestHandler):\n\u001B[0;32m-> 1285\u001B[0m     server \u001B[38;5;241m=\u001B[39m \u001B[43mHTTPServer\u001B[49m\u001B[43m(\u001B[49m\u001B[43m(\u001B[49m\u001B[38;5;124;43m\"\u001B[39;49m\u001B[38;5;124;43m127.0.0.1\u001B[39;49m\u001B[38;5;124;43m\"\u001B[39;49m\u001B[43m,\u001B[49m\u001B[43m \u001B[49m\u001B[43mport\u001B[49m\u001B[43m)\u001B[49m\u001B[43m,\u001B[49m\u001B[43m \u001B[49m\u001B[43mhandler\u001B[49m\u001B[43m)\u001B[49m\n\u001B[1;32m   1286\u001B[0m     server\u001B[38;5;241m.\u001B[39mallow_reuse_address \u001B[38;5;241m=\u001B[39m \u001B[38;5;28;01mTrue\u001B[39;00m\n\u001B[1;32m   1287\u001B[0m     server\u001B[38;5;241m.\u001B[39mauth_code \u001B[38;5;241m=\u001B[39m \u001B[38;5;28;01mNone\u001B[39;00m\n",
      "File \u001B[0;32m/Library/Frameworks/Python.framework/Versions/3.11/lib/python3.11/socketserver.py:456\u001B[0m, in \u001B[0;36mTCPServer.__init__\u001B[0;34m(self, server_address, RequestHandlerClass, bind_and_activate)\u001B[0m\n\u001B[1;32m    454\u001B[0m \u001B[38;5;28;01mif\u001B[39;00m bind_and_activate:\n\u001B[1;32m    455\u001B[0m     \u001B[38;5;28;01mtry\u001B[39;00m:\n\u001B[0;32m--> 456\u001B[0m         \u001B[38;5;28;43mself\u001B[39;49m\u001B[38;5;241;43m.\u001B[39;49m\u001B[43mserver_bind\u001B[49m\u001B[43m(\u001B[49m\u001B[43m)\u001B[49m\n\u001B[1;32m    457\u001B[0m         \u001B[38;5;28mself\u001B[39m\u001B[38;5;241m.\u001B[39mserver_activate()\n\u001B[1;32m    458\u001B[0m     \u001B[38;5;28;01mexcept\u001B[39;00m:\n",
      "File \u001B[0;32m/Library/Frameworks/Python.framework/Versions/3.11/lib/python3.11/http/server.py:136\u001B[0m, in \u001B[0;36mHTTPServer.server_bind\u001B[0;34m(self)\u001B[0m\n\u001B[1;32m    134\u001B[0m \u001B[38;5;28;01mdef\u001B[39;00m \u001B[38;5;21mserver_bind\u001B[39m(\u001B[38;5;28mself\u001B[39m):\n\u001B[1;32m    135\u001B[0m \u001B[38;5;250m    \u001B[39m\u001B[38;5;124;03m\"\"\"Override server_bind to store the server name.\"\"\"\u001B[39;00m\n\u001B[0;32m--> 136\u001B[0m     \u001B[43msocketserver\u001B[49m\u001B[38;5;241;43m.\u001B[39;49m\u001B[43mTCPServer\u001B[49m\u001B[38;5;241;43m.\u001B[39;49m\u001B[43mserver_bind\u001B[49m\u001B[43m(\u001B[49m\u001B[38;5;28;43mself\u001B[39;49m\u001B[43m)\u001B[49m\n\u001B[1;32m    137\u001B[0m     host, port \u001B[38;5;241m=\u001B[39m \u001B[38;5;28mself\u001B[39m\u001B[38;5;241m.\u001B[39mserver_address[:\u001B[38;5;241m2\u001B[39m]\n\u001B[1;32m    138\u001B[0m     \u001B[38;5;28mself\u001B[39m\u001B[38;5;241m.\u001B[39mserver_name \u001B[38;5;241m=\u001B[39m socket\u001B[38;5;241m.\u001B[39mgetfqdn(host)\n",
      "File \u001B[0;32m/Library/Frameworks/Python.framework/Versions/3.11/lib/python3.11/socketserver.py:472\u001B[0m, in \u001B[0;36mTCPServer.server_bind\u001B[0;34m(self)\u001B[0m\n\u001B[1;32m    470\u001B[0m \u001B[38;5;28;01mif\u001B[39;00m \u001B[38;5;28mself\u001B[39m\u001B[38;5;241m.\u001B[39mallow_reuse_port \u001B[38;5;129;01mand\u001B[39;00m \u001B[38;5;28mhasattr\u001B[39m(socket, \u001B[38;5;124m\"\u001B[39m\u001B[38;5;124mSO_REUSEPORT\u001B[39m\u001B[38;5;124m\"\u001B[39m):\n\u001B[1;32m    471\u001B[0m     \u001B[38;5;28mself\u001B[39m\u001B[38;5;241m.\u001B[39msocket\u001B[38;5;241m.\u001B[39msetsockopt(socket\u001B[38;5;241m.\u001B[39mSOL_SOCKET, socket\u001B[38;5;241m.\u001B[39mSO_REUSEPORT, \u001B[38;5;241m1\u001B[39m)\n\u001B[0;32m--> 472\u001B[0m \u001B[38;5;28;43mself\u001B[39;49m\u001B[38;5;241;43m.\u001B[39;49m\u001B[43msocket\u001B[49m\u001B[38;5;241;43m.\u001B[39;49m\u001B[43mbind\u001B[49m\u001B[43m(\u001B[49m\u001B[38;5;28;43mself\u001B[39;49m\u001B[38;5;241;43m.\u001B[39;49m\u001B[43mserver_address\u001B[49m\u001B[43m)\u001B[49m\n\u001B[1;32m    473\u001B[0m \u001B[38;5;28mself\u001B[39m\u001B[38;5;241m.\u001B[39mserver_address \u001B[38;5;241m=\u001B[39m \u001B[38;5;28mself\u001B[39m\u001B[38;5;241m.\u001B[39msocket\u001B[38;5;241m.\u001B[39mgetsockname()\n",
      "\u001B[0;31mOSError\u001B[0m: [Errno 48] Address already in use"
     ]
    }
   ],
   "execution_count": 5
  },
  {
   "cell_type": "markdown",
   "id": "c247f893ef0ef462",
   "metadata": {},
   "source": [
    "### Retrieve Spotify-generated Playlists for Each Mood (happy, sad, energetic, chill)"
   ]
  },
  {
   "cell_type": "code",
   "execution_count": null,
   "id": "b1f23a2ac322a2e6",
   "metadata": {
    "ExecuteTime": {
     "end_time": "2024-11-03T23:34:58.288054Z",
     "start_time": "2024-11-03T23:34:58.086520Z"
    }
   },
   "outputs": [],
   "source": [
    "### Steps to get playlists ready to pull\n",
    "# 1.) Find your mix playlists for each mood (happy, sad, energetic, chill)\n",
    "# 2.) Click on the \"...\" and add to another playlist and create a new one. Spotify will create a default name \"<mood> Mix (2)\"\n",
    "# 3.) Once you repeat this for all the moods, you are ready to use this script\n",
    "\n",
    "import json\n",
    "import spotipy\n",
    "from spotipy.oauth2 import SpotifyOAuth\n",
    "\n",
    "# TODO insert info same as library.py...\n",
    "CLIENT_ID = '5136eebddeac4d10b82bb55a64dcf00e'\n",
    "CLIENT_SECRET = 'a165c457e8e34acd97afa9e2cb812234'\n",
    "REDIRECT_URI = 'http://localhost:8888/callback'\n",
    "\n",
    "moods = {\n",
    "    'HAPPY': '37i9dQZF1EVJSvZp5AOML2',\n",
    "    'SAD': '37i9dQZF1EIh4v230xvJvd',\n",
    "    'CHILL': '37i9dQZF1EIdNTvkcjcOzJ',\n",
    "    'ENERGETIC': '37i9dQZF1EIcVD7Tg8a0MY'\n",
    "}\n",
    "\n",
    "sp = spotipy.Spotify(auth_manager=SpotifyOAuth(\n",
    "    client_id=CLIENT_ID,\n",
    "    client_secret=CLIENT_SECRET,\n",
    "    redirect_uri=REDIRECT_URI,\n",
    "    scope=\"playlist-read-private\"  # now accessing private user playlists\n",
    "))\n",
    "\n",
    "sp1 = spotipy.Spotify(auth_manager=SpotifyOAuth(\n",
    "    client_id=CLIENT_ID,\n",
    "    client_secret=CLIENT_SECRET,\n",
    "    redirect_uri=REDIRECT_URI,\n",
    "    scope=\"playlist-read-private\"  # now accessing private user playlists\n",
    "))\n",
    "\n",
    "for mood, p_id in moods.items():\n",
    "    results = sp.playlist_items(p_id)\n",
    "    tracks = []\n",
    "\n",
    "    while results:\n",
    "        for item in results['items']:\n",
    "            track = item['track']\n",
    "            features = sp1.audio_features(track['id'])[0]\n",
    "\n",
    "            if features is None:\n",
    "                continue\n",
    "\n",
    "            tracks.append({\n",
    "                'name': track['name'],\n",
    "                'id': track['id'],\n",
    "                'acousticness': features['acousticness'],\n",
    "                'danceability': features['danceability'],\n",
    "                'duration_ms': features['duration_ms'],\n",
    "                'energy': features['energy'],\n",
    "                'instrumentalness': features['instrumentalness'],\n",
    "                'key': features['key'],\n",
    "                'liveness': features['liveness'],\n",
    "                'loudness': features['loudness'],\n",
    "                'mode': features['mode'],\n",
    "                'speechiness': features['speechiness'],\n",
    "                'tempo': features['tempo'],\n",
    "                'time_signature': features['time_signature'],\n",
    "                'valence': features['valence']\n",
    "            })\n",
    "        print(\"mood complete\")\n",
    "        # get next set of tracks\n",
    "        results = sp.next(results)\n",
    "\n",
    "    #TODO make sure to enter the number corresponding to your data\n",
    "    num = 1\n",
    "    with open(f'spotify_{mood.lower()}_{num}.json', 'w') as file:\n",
    "        json.dump(tracks, file, indent=4)\n",
    "\n",
    "    file.close()\n"
   ]
  },
  {
   "cell_type": "markdown",
   "id": "bc5cd210",
   "metadata": {},
   "source": [
    "### Import into Pandas Dataframe"
   ]
  },
  {
   "cell_type": "code",
   "execution_count": 2,
   "id": "205beb0a893ba524",
   "metadata": {},
   "outputs": [
    {
     "name": "stdout",
     "output_type": "stream",
     "text": [
      "Intel MKL WARNING: Support of Intel(R) Streaming SIMD Extensions 4.2 (Intel(R) SSE4.2) enabled only processors has been deprecated. Intel oneAPI Math Kernel Library 2025.0 will require Intel(R) Advanced Vector Extensions (Intel(R) AVX) instructions.\n",
      "Intel MKL WARNING: Support of Intel(R) Streaming SIMD Extensions 4.2 (Intel(R) SSE4.2) enabled only processors has been deprecated. Intel oneAPI Math Kernel Library 2025.0 will require Intel(R) Advanced Vector Extensions (Intel(R) AVX) instructions.\n"
     ]
    },
    {
     "ename": "FileNotFoundError",
     "evalue": "[Errno 2] No such file or directory: '../raw/spotify_happy_1.json'",
     "output_type": "error",
     "traceback": [
      "\u001B[0;31m---------------------------------------------------------------------------\u001B[0m",
      "\u001B[0;31mFileNotFoundError\u001B[0m                         Traceback (most recent call last)",
      "Cell \u001B[0;32mIn[2], line 17\u001B[0m\n\u001B[1;32m      7\u001B[0m files \u001B[38;5;241m=\u001B[39m [\n\u001B[1;32m      8\u001B[0m     \u001B[38;5;124mf\u001B[39m\u001B[38;5;124m'\u001B[39m\u001B[38;5;124m../raw/spotify_\u001B[39m\u001B[38;5;132;01m{\u001B[39;00mmood\u001B[38;5;132;01m}\u001B[39;00m\u001B[38;5;124m_1.json\u001B[39m\u001B[38;5;124m'\u001B[39m,\n\u001B[1;32m      9\u001B[0m     \u001B[38;5;66;03m# f'../raw/spotify_{mood}_2.json',\u001B[39;00m\n\u001B[0;32m   (...)\u001B[0m\n\u001B[1;32m     13\u001B[0m     \u001B[38;5;66;03m# f'../raw/spotify_{mood}_6.json',\u001B[39;00m\n\u001B[1;32m     14\u001B[0m ]\n\u001B[1;32m     16\u001B[0m \u001B[38;5;28;01mfor\u001B[39;00m file \u001B[38;5;129;01min\u001B[39;00m files:\n\u001B[0;32m---> 17\u001B[0m     \u001B[38;5;28;01mwith\u001B[39;00m \u001B[38;5;28;43mopen\u001B[39;49m\u001B[43m(\u001B[49m\u001B[43mfile\u001B[49m\u001B[43m,\u001B[49m\u001B[43m \u001B[49m\u001B[38;5;124;43m'\u001B[39;49m\u001B[38;5;124;43mr\u001B[39;49m\u001B[38;5;124;43m'\u001B[39;49m\u001B[43m)\u001B[49m \u001B[38;5;28;01mas\u001B[39;00m fileio:\n\u001B[1;32m     18\u001B[0m         df \u001B[38;5;241m=\u001B[39m pd\u001B[38;5;241m.\u001B[39mDataFrame(json\u001B[38;5;241m.\u001B[39mload(fileio))\n\u001B[1;32m     19\u001B[0m         df[\u001B[38;5;124m'\u001B[39m\u001B[38;5;124mmood\u001B[39m\u001B[38;5;124m'\u001B[39m] \u001B[38;5;241m=\u001B[39m mood\n",
      "File \u001B[0;32m~/opt/anaconda3/envs/spotifyproject/lib/python3.12/site-packages/IPython/core/interactiveshell.py:324\u001B[0m, in \u001B[0;36m_modified_open\u001B[0;34m(file, *args, **kwargs)\u001B[0m\n\u001B[1;32m    317\u001B[0m \u001B[38;5;28;01mif\u001B[39;00m file \u001B[38;5;129;01min\u001B[39;00m {\u001B[38;5;241m0\u001B[39m, \u001B[38;5;241m1\u001B[39m, \u001B[38;5;241m2\u001B[39m}:\n\u001B[1;32m    318\u001B[0m     \u001B[38;5;28;01mraise\u001B[39;00m \u001B[38;5;167;01mValueError\u001B[39;00m(\n\u001B[1;32m    319\u001B[0m         \u001B[38;5;124mf\u001B[39m\u001B[38;5;124m\"\u001B[39m\u001B[38;5;124mIPython won\u001B[39m\u001B[38;5;124m'\u001B[39m\u001B[38;5;124mt let you open fd=\u001B[39m\u001B[38;5;132;01m{\u001B[39;00mfile\u001B[38;5;132;01m}\u001B[39;00m\u001B[38;5;124m by default \u001B[39m\u001B[38;5;124m\"\u001B[39m\n\u001B[1;32m    320\u001B[0m         \u001B[38;5;124m\"\u001B[39m\u001B[38;5;124mas it is likely to crash IPython. If you know what you are doing, \u001B[39m\u001B[38;5;124m\"\u001B[39m\n\u001B[1;32m    321\u001B[0m         \u001B[38;5;124m\"\u001B[39m\u001B[38;5;124myou can use builtins\u001B[39m\u001B[38;5;124m'\u001B[39m\u001B[38;5;124m open.\u001B[39m\u001B[38;5;124m\"\u001B[39m\n\u001B[1;32m    322\u001B[0m     )\n\u001B[0;32m--> 324\u001B[0m \u001B[38;5;28;01mreturn\u001B[39;00m \u001B[43mio_open\u001B[49m\u001B[43m(\u001B[49m\u001B[43mfile\u001B[49m\u001B[43m,\u001B[49m\u001B[43m \u001B[49m\u001B[38;5;241;43m*\u001B[39;49m\u001B[43margs\u001B[49m\u001B[43m,\u001B[49m\u001B[43m \u001B[49m\u001B[38;5;241;43m*\u001B[39;49m\u001B[38;5;241;43m*\u001B[39;49m\u001B[43mkwargs\u001B[49m\u001B[43m)\u001B[49m\n",
      "\u001B[0;31mFileNotFoundError\u001B[0m: [Errno 2] No such file or directory: '../raw/spotify_happy_1.json'"
     ]
    }
   ],
   "source": [
    "import json\n",
    "import pandas as pd\n",
    "\n",
    "moods = ['happy', 'sad', 'chill', 'energetic']\n",
    "dfs = []\n",
    "for mood in moods:\n",
    "    files = [\n",
    "        f'/Users/conrad/dev-school/418/final-project/raw/spotify_{mood}_1.json',\n",
    "        # f'/Users/conrad/dev-school/418/final-project/raw/spotify_{mood}_2.json',\n",
    "        f'/Users/conrad/dev-school/418/final-project/raw/spotify_{mood}_3.json',\n",
    "        f'/Users/conrad/dev-school/418/final-project/raw/spotify_{mood}_4.json',\n",
    "        # f'/Users/conrad/dev-school/418/final-project/raw/spotify_{mood}_5.json',\n",
    "        # f'/Users/conrad/dev-school/418/final-project/raw/spotify_{mood}_6.json',\n",
    "    ]\n",
    "\n",
    "    for file in files:\n",
    "        with open(file, 'r') as fileio:\n",
    "            df = pd.DataFrame(json.load(fileio))\n",
    "            df['mood'] = mood\n",
    "            dfs.append(df)\n",
    "\n",
    "\n",
    "final_df = pd.concat(dfs, ignore_index=True)\n",
    "\n",
    "#processing\n",
    "drop = ['name', 'id']\n",
    "final_df = final_df.drop(columns=drop)"
   ]
  },
  {
   "cell_type": "markdown",
   "id": "77d29b75d07a2bbf",
   "metadata": {},
   "source": [
    "## Data Exploration\n",
    "explain what your data looks like (words are fine, but visualizations are often better). Include any interesting issues or preliminary conclusions you have about your data."
   ]
  },
  {
   "cell_type": "markdown",
   "id": "fa44861d03b6a706",
   "metadata": {},
   "source": [
    "## Data Visualization\n",
    "that tests an interesting hypothesis, along with an explanation about why you thought this was an interesting hypothesis to investigate."
   ]
  },
  {
   "cell_type": "markdown",
   "id": "c8d59dad1a0ae28f",
   "metadata": {},
   "source": [
    "## ML Data Analysis\n",
    "\n",
    "### Model Training\n",
    "\n"
   ]
  },
  {
   "metadata": {
    "ExecuteTime": {
     "end_time": "2024-11-05T02:00:54.702382Z",
     "start_time": "2024-11-05T02:00:53.607407Z"
    }
   },
   "cell_type": "code",
   "source": [
    "from sklearn.linear_model import (\n",
    "    LinearRegression, LogisticRegression, Ridge, Lasso, ElasticNet,\n",
    "    BayesianRidge, SGDRegressor, SGDClassifier, Perceptron, PassiveAggressiveRegressor,\n",
    "    PassiveAggressiveClassifier, RidgeClassifier, RidgeCV, LassoCV, ElasticNetCV\n",
    ")\n",
    "\n",
    "from sklearn.tree import DecisionTreeClassifier, DecisionTreeRegressor\n",
    "from sklearn.ensemble import (\n",
    "    RandomForestClassifier, RandomForestRegressor, GradientBoostingClassifier,\n",
    "    GradientBoostingRegressor, AdaBoostClassifier, AdaBoostRegressor,\n",
    "    BaggingClassifier, BaggingRegressor, ExtraTreesClassifier, ExtraTreesRegressor,\n",
    "    VotingClassifier, VotingRegressor, StackingClassifier, StackingRegressor\n",
    ")\n",
    "\n",
    "from sklearn.svm import SVC, SVR, LinearSVC, LinearSVR\n",
    "from sklearn.neighbors import KNeighborsClassifier, KNeighborsRegressor\n",
    "from sklearn.naive_bayes import GaussianNB, MultinomialNB, BernoulliNB, CategoricalNB\n",
    "from sklearn.discriminant_analysis import LinearDiscriminantAnalysis, QuadraticDiscriminantAnalysis\n",
    "from sklearn.neural_network import MLPClassifier, MLPRegressor\n",
    "from sklearn.gaussian_process import GaussianProcessClassifier, GaussianProcessRegressor\n",
    "from sklearn.isotonic import IsotonicRegression\n",
    "from sklearn.semi_supervised import LabelPropagation, LabelSpreading\n",
    "from sklearn.mixture import GaussianMixture, BayesianGaussianMixture\n",
    "from sklearn.cluster import (\n",
    "    KMeans, MiniBatchKMeans, MeanShift, SpectralClustering, AgglomerativeClustering,\n",
    "    DBSCAN, OPTICS, Birch, AffinityPropagation\n",
    ")\n",
    "\n",
    "from sklearn.model_selection import train_test_split, cross_val_score\n",
    "from sklearn.metrics import mean_squared_error, mean_absolute_error, r2_score\n",
    "import json\n",
    "import pandas as pd\n",
    "import json\n",
    "import numpy as np\n",
    "from sklearn.preprocessing import LabelEncoder\n",
    "\n",
    "moods = ['happy', 'sad', 'chill', 'energetic']\n",
    "dfs = []\n",
    "for mood in moods:\n",
    "    files = [\n",
    "        f'/Users/conrad/dev-school/418/final-project/raw/spotify_{mood}_1.json',\n",
    "        # f'/Users/conrad/dev-school/418/final-project/raw/spotify_{mood}_2.json',\n",
    "        f'/Users/conrad/dev-school/418/final-project/raw/spotify_{mood}_3.json',\n",
    "        f'/Users/conrad/dev-school/418/final-project/raw/spotify_{mood}_4.json',\n",
    "        f'/Users/conrad/dev-school/418/final-project/raw/spotify_{mood}_5.json',\n",
    "        # f'/Users/conrad/dev-school/418/final-project/raw/spotify_{mood}_6.json',\n",
    "    ]\n",
    "\n",
    "    for file in files:\n",
    "        with open(file, 'r') as fileio:\n",
    "            df = pd.DataFrame(json.load(fileio))\n",
    "            df['mood'] = mood\n",
    "            dfs.append(df)\n",
    "\n",
    "final_df = pd.concat(dfs, ignore_index=True)\n",
    "\n",
    "#processing\n",
    "drop = ['name', 'id']\n",
    "final_df = final_df.drop(columns=drop)\n",
    "\n",
    "final_df.to_csv('training.csv')\n",
    "\n",
    "#splitting\n",
    "X = final_df.iloc[:, 0:13]\n",
    "Y = final_df.iloc[:, 13]\n",
    "# encoder = LabelEncoder()\n",
    "# y = encoder.fit_transform(Y)\n",
    "xtrain, xtest, ytrain, ytest = train_test_split(X, Y, test_size=.2, random_state=1)\n",
    "\n",
    "# k-fold\n",
    "k = 10\n",
    "forest = RandomForestClassifier(random_state=2)\n",
    "scores = cross_val_score(forest, xtrain, ytrain, cv=k)\n",
    "print('CV scores', scores)\n",
    "print('Mean CV scores', np.mean(scores))\n",
    "\n",
    "# single\n",
    "forest.fit(xtrain, ytrain)\n",
    "print('Fit Score', forest.score(xtest, ytest))\n"
   ],
   "id": "bd3eb27ad7525a1d",
   "outputs": [
    {
     "name": "stdout",
     "output_type": "stream",
     "text": [
      "CV scores [0.65625    0.796875   0.65625    0.734375   0.609375   0.859375\n",
      " 0.609375   0.65625    0.66666667 0.66666667]\n",
      "Mean CV scores 0.6911458333333333\n",
      "Fit Score 0.7125\n"
     ]
    }
   ],
   "execution_count": 7
  },
  {
   "metadata": {},
   "cell_type": "markdown",
   "source": [
    "## Analysis\n",
    "\n",
    "Based on the output below, we can see the percentage of tracks classified as a certain mood. \n",
    "Talk a little bit more about the individual outputs."
   ],
   "id": "a24b55c09fc73940"
  },
  {
   "metadata": {
    "ExecuteTime": {
     "end_time": "2024-11-05T02:01:17.037711Z",
     "start_time": "2024-11-05T02:01:17.002355Z"
    }
   },
   "cell_type": "code",
   "source": [
    "#analysis\n",
    "\n",
    "import json\n",
    "import pandas as pd\n",
    "\n",
    "dfs = []\n",
    "\n",
    "files = [\n",
    "    f'/Users/conrad/dev-school/418/final-project/raw/liked_songs_1.json',\n",
    "    # f'/Users/conrad/dev-school/418/final-project/raw/liked_songs_2.json',\n",
    "    f'/Users/conrad/dev-school/418/final-project/raw/liked_songs_3.json',\n",
    "    f'/Users/conrad/dev-school/418/final-project/raw/liked_songs_4.json',\n",
    "    # f'/Users/conrad/dev-school/418/final-project/raw/liked_songs_5.json',\n",
    "    # f'/Users/conrad/dev-school/418/final-project/raw/liked_songs_6.json',\n",
    "]\n",
    "\n",
    "for file in files:\n",
    "    with open(file, 'r') as fileio:\n",
    "        df = pd.DataFrame(json.load(fileio))\n",
    "        dfs.append(df)\n",
    "\n",
    "#processing\n",
    "drop = ['name', 'id']\n",
    "for i in range(0, 3):\n",
    "    dfs[i] = dfs[i].drop(columns=drop)\n",
    "\n",
    "predictions = []\n",
    "\n",
    "for df in dfs:\n",
    "    predictions.append(forest.predict(df.iloc[:, :]))\n",
    "\n",
    "person = 1\n",
    "for prediction in predictions:\n",
    "    print(f'Person {person}')\n",
    "    print('Happy', (prediction.tolist().count('happy')/len(prediction.tolist()))*100)\n",
    "    print('Sad', (prediction.tolist().count('sad')/len(prediction.tolist()))*100)\n",
    "    print('Chill', (prediction.tolist().count('chill')/len(prediction.tolist()))*100)\n",
    "    print('Energetic', (prediction.tolist().count('energetic')/len(prediction.tolist()))*100)\n",
    "    print()\n",
    "    person += 1"
   ],
   "id": "fb4fa98c4e4701c0",
   "outputs": [
    {
     "name": "stdout",
     "output_type": "stream",
     "text": [
      "Person 1\n",
      "Happy 26.87007874015748\n",
      "Sad 13.385826771653544\n",
      "Chill 37.99212598425197\n",
      "Energetic 21.751968503937007\n",
      "\n",
      "Person 2\n",
      "Happy 38.88888888888889\n",
      "Sad 12.962962962962962\n",
      "Chill 7.4074074074074066\n",
      "Energetic 40.74074074074074\n",
      "\n",
      "Person 3\n",
      "Happy 14.583333333333334\n",
      "Sad 62.5\n",
      "Chill 2.083333333333333\n",
      "Energetic 20.833333333333336\n",
      "\n"
     ]
    }
   ],
   "execution_count": 8
  },
  {
   "cell_type": "markdown",
   "id": "37d3175763845b83",
   "metadata": {},
   "source": [
    "## Progress reflection\n",
    "○\tWhat is the hardest part of the project that you’ve encountered so far?\n",
    "○\tWhat are your initial insights?\n",
    "○\tAre there any concrete results you can show at this point? If not, why not?\n",
    "○\tGoing forward, what are the current biggest problems you’re facing?\n",
    "○\tDo you think you are on track with your project? If not, what parts do you need to dedicate more time to?\n",
    "○\tGiven your initial exploration of the data, is it worth proceeding with your project, why? If not, how are you going to change your project and why do you think it’s better than your current results?\n"
   ]
  },
  {
   "cell_type": "markdown",
   "id": "51352f7fb9f3c215",
   "metadata": {},
   "source": [
    "## Roles and Coordination\n",
    "Finding data sources and cleaning:\n",
    "\n",
    "\n",
    "Statistical analysis: \n",
    "\n",
    "\n",
    "Visualization: \n",
    "\n",
    "\n",
    "Machine Learning Applications: \n",
    "\n",
    " \n",
    "What deadlines should various components of the project be completed by?"
   ]
  },
  {
   "cell_type": "markdown",
   "id": "5cb4b7709d22a901",
   "metadata": {},
   "source": [
    "## Next Steps\n",
    "What you plan to accomplish in the next month and how you plan to evaluate whether your project achieved the goals you set for it."
   ]
  }
 ],
 "metadata": {
  "kernelspec": {
   "display_name": "spotifyproject",
   "language": "python",
   "name": "python3"
  },
  "language_info": {
   "codemirror_mode": {
    "name": "ipython",
    "version": 3
   },
   "file_extension": ".py",
   "mimetype": "text/x-python",
   "name": "python",
   "nbconvert_exporter": "python",
   "pygments_lexer": "ipython3",
   "version": "3.12.7"
  }
 },
 "nbformat": 4,
 "nbformat_minor": 5
}
