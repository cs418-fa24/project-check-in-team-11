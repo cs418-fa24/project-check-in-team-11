{
 "cells": [
  {
   "metadata": {},
   "cell_type": "markdown",
   "source": [
    "## Github Classroom\n",
    "Github project repository: https://github.com/cs418-fa24/project-check-in-team-11"
   ],
   "id": "c5589c084a8a5e79"
  },
  {
   "metadata": {},
   "cell_type": "markdown",
   "source": [
    "## Project Introduction\n",
    "an introduction that discusses the data you are analyzing, and the question or questions you are investigating."
   ],
   "id": "c646f864235fa003"
  },
  {
   "metadata": {},
   "cell_type": "markdown",
   "source": [
    "## Scope Changes\n",
    "a discussion whether your scope has changed since the check-in proposal slides. What did you aim to do that you will not do and what have you added to the project?"
   ],
   "id": "a4707fdc8d0f579d"
  },
  {
   "metadata": {},
   "cell_type": "markdown",
   "source": [
    "## Data Collection and Cleaning\n",
    "show clearly how you cleaned your data."
   ],
   "id": "dcd0c8ed824550d5"
  },
  {
   "metadata": {},
   "cell_type": "markdown",
   "source": "### Get Liked Songs",
   "id": "31a5fb787d672b60"
  },
  {
   "metadata": {},
   "cell_type": "code",
   "outputs": [],
   "execution_count": null,
   "source": [
    "import json\n",
    "\n",
    "import spotipy\n",
    "from spotipy.oauth2 import SpotifyOAuth\n",
    "\n",
    "CLIENT_ID = ''\n",
    "CLIENT_SECRET = ''\n",
    "REDIRECT_URI = 'http://localhost:8888/callback'\n",
    "\n",
    "moods = {\n",
    "    'HAPPY': '37i9dQZF1EVJSvZp5AOML2',\n",
    "    'SAD': '37i9dQZF1EIh4v230xvJvd',\n",
    "    'CHILL': '37i9dQZF1EIdNTvkcjcOzJ',\n",
    "    'ENERGETIC': '37i9dQZF1EIcVD7Tg8a0MY'\n",
    "}\n",
    "\n",
    "sp = spotipy.Spotify(auth_manager=SpotifyOAuth(\n",
    "    client_id=CLIENT_ID,\n",
    "    client_secret=CLIENT_SECRET,\n",
    "    redirect_uri=REDIRECT_URI,\n",
    "    scope=\"playlist-read-private user-library-read\"  # now accessing private user playlists\n",
    "))\n",
    "\n",
    "sp1 = spotipy.Spotify(auth_manager=SpotifyOAuth(\n",
    "    client_id=CLIENT_ID,\n",
    "    client_secret=CLIENT_SECRET,\n",
    "    redirect_uri=REDIRECT_URI,\n",
    "    scope=\"playlist-read-private user-library-read\"  # now accessing private user playlists\n",
    "))\n",
    "\n",
    "\n",
    "# Get the user's liked songs\n",
    "results = sp.current_user_saved_tracks()\n",
    "liked_songs = []\n",
    "\n",
    "while results:\n",
    "    for item in results['items']:\n",
    "        track = item['track']\n",
    "        features = sp1.audio_features(track['id'])[0]\n",
    "        liked_songs.append({\n",
    "            'name': track['name'],\n",
    "            'id': track['id'],\n",
    "            'acousticness': features['acousticness'],\n",
    "            'danceability': features['danceability'],\n",
    "            'duration_ms': features['duration_ms'],\n",
    "            'energy': features['energy'],\n",
    "            'instrumentalness': features['instrumentalness'],\n",
    "            'key': features['key'],\n",
    "            'liveness': features['liveness'],\n",
    "            'loudness': features['loudness'],\n",
    "            'mode': features['mode'],\n",
    "            'speechiness': features['speechiness'],\n",
    "            'tempo': features['tempo'],\n",
    "            'time_signature': features['time_signature'],\n",
    "            'valence': features['valence']\n",
    "        })\n",
    "\n",
    "    results = sp.next(results)\n",
    "\n",
    "#TODO rename the file so that it does not overwrite anyone else's\n",
    "with open('../raw/liked_songs_1.json', 'w') as json_file:\n",
    "    json.dump(liked_songs, json_file, indent=4)\n"
   ],
   "id": "388e00de5a99bc18"
  },
  {
   "metadata": {},
   "cell_type": "markdown",
   "source": "### Get Playlists for each mood (happy, sad, energetic, chill)",
   "id": "c247f893ef0ef462"
  },
  {
   "metadata": {
    "ExecuteTime": {
     "end_time": "2024-11-03T23:34:58.288054Z",
     "start_time": "2024-11-03T23:34:58.086520Z"
    }
   },
   "cell_type": "code",
   "source": [
    "### Steps to get playlists ready to pull\n",
    "# 1.) Find your mix playlists for each mood (happy, sad, energetic, chill)\n",
    "# 2.) Click on the \"...\" and add to another playlist and create a new one. Spotify will create a default name \"<mood> Mix (2)\"\n",
    "# 3.) Once you repeat this for all the moods, you are ready to use this script\n",
    "\n",
    "import json\n",
    "import spotipy\n",
    "from spotipy.oauth2 import SpotifyOAuth\n",
    "\n",
    "# TODO insert info same as library.py...\n",
    "CLIENT_ID = ''\n",
    "CLIENT_SECRET = ''\n",
    "REDIRECT_URI = 'http://localhost:8888/callback'\n",
    "\n",
    "moods = {\n",
    "    'HAPPY': '37i9dQZF1EVJSvZp5AOML2',\n",
    "    'SAD': '37i9dQZF1EIh4v230xvJvd',\n",
    "    'CHILL': '37i9dQZF1EIdNTvkcjcOzJ',\n",
    "    'ENERGETIC': '37i9dQZF1EIcVD7Tg8a0MY'\n",
    "}\n",
    "\n",
    "sp = spotipy.Spotify(auth_manager=SpotifyOAuth(\n",
    "    client_id=CLIENT_ID,\n",
    "    client_secret=CLIENT_SECRET,\n",
    "    redirect_uri=REDIRECT_URI,\n",
    "    scope=\"playlist-read-private\"  # now accessing private user playlists\n",
    "))\n",
    "\n",
    "sp1 = spotipy.Spotify(auth_manager=SpotifyOAuth(\n",
    "    client_id=CLIENT_ID,\n",
    "    client_secret=CLIENT_SECRET,\n",
    "    redirect_uri=REDIRECT_URI,\n",
    "    scope=\"playlist-read-private\"  # now accessing private user playlists\n",
    "))\n",
    "\n",
    "for mood, p_id in moods.items():\n",
    "    results = sp.playlist_items(p_id)\n",
    "    tracks = []\n",
    "\n",
    "    while results:\n",
    "        for item in results['items']:\n",
    "            track = item['track']\n",
    "            features = sp1.audio_features(track['id'])[0]\n",
    "\n",
    "            if features is None:\n",
    "                continue\n",
    "\n",
    "            tracks.append({\n",
    "                'name': track['name'],\n",
    "                'id': track['id'],\n",
    "                'acousticness': features['acousticness'],\n",
    "                'danceability': features['danceability'],\n",
    "                'duration_ms': features['duration_ms'],\n",
    "                'energy': features['energy'],\n",
    "                'instrumentalness': features['instrumentalness'],\n",
    "                'key': features['key'],\n",
    "                'liveness': features['liveness'],\n",
    "                'loudness': features['loudness'],\n",
    "                'mode': features['mode'],\n",
    "                'speechiness': features['speechiness'],\n",
    "                'tempo': features['tempo'],\n",
    "                'time_signature': features['time_signature'],\n",
    "                'valence': features['valence']\n",
    "            })\n",
    "        print(\"mood complete\")\n",
    "        # get next set of tracks\n",
    "        results = sp.next(results)\n",
    "\n",
    "    #TODO make sure to enter the number corresponding to your data\n",
    "    num = 1\n",
    "    with open(f'spotify_{mood.lower()}_{num}.json', 'w') as file:\n",
    "        json.dump(tracks, file, indent=4)\n",
    "\n",
    "    file.close()\n"
   ],
   "id": "b1f23a2ac322a2e6",
   "outputs": [
    {
     "ename": "SpotifyOauthError",
     "evalue": "No client_id. Pass it or set a SPOTIPY_CLIENT_ID environment variable.",
     "output_type": "error",
     "traceback": [
      "\u001B[0;31m---------------------------------------------------------------------------\u001B[0m",
      "\u001B[0;31mSpotifyOauthError\u001B[0m                         Traceback (most recent call last)",
      "Cell \u001B[0;32mIn[1], line 22\u001B[0m\n\u001B[1;32m     13\u001B[0m REDIRECT_URI \u001B[38;5;241m=\u001B[39m \u001B[38;5;124m'\u001B[39m\u001B[38;5;124mhttp://localhost:8888/callback\u001B[39m\u001B[38;5;124m'\u001B[39m\n\u001B[1;32m     15\u001B[0m moods \u001B[38;5;241m=\u001B[39m {\n\u001B[1;32m     16\u001B[0m     \u001B[38;5;124m'\u001B[39m\u001B[38;5;124mHAPPY\u001B[39m\u001B[38;5;124m'\u001B[39m: \u001B[38;5;124m'\u001B[39m\u001B[38;5;124m37i9dQZF1EVJSvZp5AOML2\u001B[39m\u001B[38;5;124m'\u001B[39m,\n\u001B[1;32m     17\u001B[0m     \u001B[38;5;124m'\u001B[39m\u001B[38;5;124mSAD\u001B[39m\u001B[38;5;124m'\u001B[39m: \u001B[38;5;124m'\u001B[39m\u001B[38;5;124m37i9dQZF1EIh4v230xvJvd\u001B[39m\u001B[38;5;124m'\u001B[39m,\n\u001B[1;32m     18\u001B[0m     \u001B[38;5;124m'\u001B[39m\u001B[38;5;124mCHILL\u001B[39m\u001B[38;5;124m'\u001B[39m: \u001B[38;5;124m'\u001B[39m\u001B[38;5;124m37i9dQZF1EIdNTvkcjcOzJ\u001B[39m\u001B[38;5;124m'\u001B[39m,\n\u001B[1;32m     19\u001B[0m     \u001B[38;5;124m'\u001B[39m\u001B[38;5;124mENERGETIC\u001B[39m\u001B[38;5;124m'\u001B[39m: \u001B[38;5;124m'\u001B[39m\u001B[38;5;124m37i9dQZF1EIcVD7Tg8a0MY\u001B[39m\u001B[38;5;124m'\u001B[39m\n\u001B[1;32m     20\u001B[0m }\n\u001B[0;32m---> 22\u001B[0m sp \u001B[38;5;241m=\u001B[39m spotipy\u001B[38;5;241m.\u001B[39mSpotify(auth_manager\u001B[38;5;241m=\u001B[39m\u001B[43mSpotifyOAuth\u001B[49m\u001B[43m(\u001B[49m\n\u001B[1;32m     23\u001B[0m \u001B[43m    \u001B[49m\u001B[43mclient_id\u001B[49m\u001B[38;5;241;43m=\u001B[39;49m\u001B[43mCLIENT_ID\u001B[49m\u001B[43m,\u001B[49m\n\u001B[1;32m     24\u001B[0m \u001B[43m    \u001B[49m\u001B[43mclient_secret\u001B[49m\u001B[38;5;241;43m=\u001B[39;49m\u001B[43mCLIENT_SECRET\u001B[49m\u001B[43m,\u001B[49m\n\u001B[1;32m     25\u001B[0m \u001B[43m    \u001B[49m\u001B[43mredirect_uri\u001B[49m\u001B[38;5;241;43m=\u001B[39;49m\u001B[43mREDIRECT_URI\u001B[49m\u001B[43m,\u001B[49m\n\u001B[1;32m     26\u001B[0m \u001B[43m    \u001B[49m\u001B[43mscope\u001B[49m\u001B[38;5;241;43m=\u001B[39;49m\u001B[38;5;124;43m\"\u001B[39;49m\u001B[38;5;124;43mplaylist-read-private\u001B[39;49m\u001B[38;5;124;43m\"\u001B[39;49m\u001B[43m  \u001B[49m\u001B[38;5;66;43;03m# now accessing private user playlists\u001B[39;49;00m\n\u001B[1;32m     27\u001B[0m \u001B[43m)\u001B[49m)\n\u001B[1;32m     29\u001B[0m sp1 \u001B[38;5;241m=\u001B[39m spotipy\u001B[38;5;241m.\u001B[39mSpotify(auth_manager\u001B[38;5;241m=\u001B[39mSpotifyOAuth(\n\u001B[1;32m     30\u001B[0m     client_id\u001B[38;5;241m=\u001B[39mCLIENT_ID,\n\u001B[1;32m     31\u001B[0m     client_secret\u001B[38;5;241m=\u001B[39mCLIENT_SECRET,\n\u001B[1;32m     32\u001B[0m     redirect_uri\u001B[38;5;241m=\u001B[39mREDIRECT_URI,\n\u001B[1;32m     33\u001B[0m     scope\u001B[38;5;241m=\u001B[39m\u001B[38;5;124m\"\u001B[39m\u001B[38;5;124mplaylist-read-private\u001B[39m\u001B[38;5;124m\"\u001B[39m  \u001B[38;5;66;03m# now accessing private user playlists\u001B[39;00m\n\u001B[1;32m     34\u001B[0m ))\n\u001B[1;32m     36\u001B[0m \u001B[38;5;28;01mfor\u001B[39;00m mood, p_id \u001B[38;5;129;01min\u001B[39;00m moods\u001B[38;5;241m.\u001B[39mitems():\n",
      "File \u001B[0;32m~/dev-school/418/venv/lib/python3.11/site-packages/spotipy/oauth2.py:323\u001B[0m, in \u001B[0;36mSpotifyOAuth.__init__\u001B[0;34m(self, client_id, client_secret, redirect_uri, state, scope, cache_path, username, proxies, show_dialog, requests_session, requests_timeout, open_browser, cache_handler)\u001B[0m\n\u001B[1;32m    294\u001B[0m \u001B[38;5;250m\u001B[39m\u001B[38;5;124;03m\"\"\"\u001B[39;00m\n\u001B[1;32m    295\u001B[0m \u001B[38;5;124;03mCreates a SpotifyOAuth object\u001B[39;00m\n\u001B[1;32m    296\u001B[0m \n\u001B[0;32m   (...)\u001B[0m\n\u001B[1;32m    318\u001B[0m \u001B[38;5;124;03m                      (takes precedence over `cache_path` and `username`)\u001B[39;00m\n\u001B[1;32m    319\u001B[0m \u001B[38;5;124;03m\"\"\"\u001B[39;00m\n\u001B[1;32m    321\u001B[0m \u001B[38;5;28msuper\u001B[39m()\u001B[38;5;241m.\u001B[39m\u001B[38;5;21m__init__\u001B[39m(requests_session)\n\u001B[0;32m--> 323\u001B[0m \u001B[38;5;28;43mself\u001B[39;49m\u001B[38;5;241;43m.\u001B[39;49m\u001B[43mclient_id\u001B[49m \u001B[38;5;241m=\u001B[39m client_id\n\u001B[1;32m    324\u001B[0m \u001B[38;5;28mself\u001B[39m\u001B[38;5;241m.\u001B[39mclient_secret \u001B[38;5;241m=\u001B[39m client_secret\n\u001B[1;32m    325\u001B[0m \u001B[38;5;28mself\u001B[39m\u001B[38;5;241m.\u001B[39mredirect_uri \u001B[38;5;241m=\u001B[39m redirect_uri\n",
      "File \u001B[0;32m~/dev-school/418/venv/lib/python3.11/site-packages/spotipy/oauth2.py:87\u001B[0m, in \u001B[0;36mSpotifyAuthBase.client_id\u001B[0;34m(self, val)\u001B[0m\n\u001B[1;32m     85\u001B[0m \u001B[38;5;129m@client_id\u001B[39m\u001B[38;5;241m.\u001B[39msetter\n\u001B[1;32m     86\u001B[0m \u001B[38;5;28;01mdef\u001B[39;00m \u001B[38;5;21mclient_id\u001B[39m(\u001B[38;5;28mself\u001B[39m, val):\n\u001B[0;32m---> 87\u001B[0m     \u001B[38;5;28mself\u001B[39m\u001B[38;5;241m.\u001B[39m_client_id \u001B[38;5;241m=\u001B[39m \u001B[43m_ensure_value\u001B[49m\u001B[43m(\u001B[49m\u001B[43mval\u001B[49m\u001B[43m,\u001B[49m\u001B[43m \u001B[49m\u001B[38;5;124;43m\"\u001B[39;49m\u001B[38;5;124;43mclient_id\u001B[39;49m\u001B[38;5;124;43m\"\u001B[39;49m\u001B[43m)\u001B[49m\n",
      "File \u001B[0;32m~/dev-school/418/venv/lib/python3.11/site-packages/spotipy/oauth2.py:63\u001B[0m, in \u001B[0;36m_ensure_value\u001B[0;34m(value, env_key)\u001B[0m\n\u001B[1;32m     61\u001B[0m \u001B[38;5;28;01mif\u001B[39;00m _val \u001B[38;5;129;01mis\u001B[39;00m \u001B[38;5;28;01mNone\u001B[39;00m:\n\u001B[1;32m     62\u001B[0m     msg \u001B[38;5;241m=\u001B[39m \u001B[38;5;124mf\u001B[39m\u001B[38;5;124m\"\u001B[39m\u001B[38;5;124mNo \u001B[39m\u001B[38;5;132;01m{\u001B[39;00menv_key\u001B[38;5;132;01m}\u001B[39;00m\u001B[38;5;124m. Pass it or set a \u001B[39m\u001B[38;5;132;01m{\u001B[39;00menv_val\u001B[38;5;132;01m}\u001B[39;00m\u001B[38;5;124m environment variable.\u001B[39m\u001B[38;5;124m\"\u001B[39m\n\u001B[0;32m---> 63\u001B[0m     \u001B[38;5;28;01mraise\u001B[39;00m SpotifyOauthError(msg)\n\u001B[1;32m     64\u001B[0m \u001B[38;5;28;01mreturn\u001B[39;00m _val\n",
      "\u001B[0;31mSpotifyOauthError\u001B[0m: No client_id. Pass it or set a SPOTIPY_CLIENT_ID environment variable."
     ]
    }
   ],
   "execution_count": 1
  },
  {
   "metadata": {},
   "cell_type": "markdown",
   "source": "### Cleaning and combination",
   "id": "35d98030589c3bc7"
  },
  {
   "metadata": {},
   "cell_type": "code",
   "outputs": [],
   "execution_count": null,
   "source": [
    "import json\n",
    "import pandas as pd\n",
    "\n",
    "moods = ['happy', 'sad', 'chill', 'energetic']\n",
    "dfs = []\n",
    "for mood in moods:\n",
    "    files = [\n",
    "        f'../raw/spotify_{mood}_1.json',\n",
    "        # f'../raw/spotify_{mood}_2.json',\n",
    "        f'../raw/spotify_{mood}_3.json',\n",
    "        f'../raw/spotify_{mood}_4.json',\n",
    "        # f'../raw/spotify_{mood}_5.json',\n",
    "        # f'../raw/spotify_{mood}_6.json',\n",
    "    ]\n",
    "\n",
    "    for file in files:\n",
    "        with open(file, 'r') as fileio:\n",
    "            df = pd.DataFrame(json.load(fileio))\n",
    "            df['mood'] = mood\n",
    "            dfs.append(df)\n",
    "\n",
    "\n",
    "final_df = pd.concat(dfs, ignore_index=True)\n",
    "\n",
    "#processing\n",
    "drop = ['name', 'id']\n",
    "final_df = final_df.drop(columns=drop)"
   ],
   "id": "205beb0a893ba524"
  },
  {
   "metadata": {},
   "cell_type": "markdown",
   "source": "",
   "id": "3ab1a9d9aa4fcda3"
  },
  {
   "metadata": {},
   "cell_type": "markdown",
   "source": [
    "## Data Exploration\n",
    "explain what your data looks like (words are fine, but visualizations are often better). Include any interesting issues or preliminary conclusions you have about your data."
   ],
   "id": "77d29b75d07a2bbf"
  },
  {
   "metadata": {},
   "cell_type": "markdown",
   "source": [
    "## Data Visualization\n",
    "that tests an interesting hypothesis, along with an explanation about why you thought this was an interesting hypothesis to investigate."
   ],
   "id": "fa44861d03b6a706"
  },
  {
   "metadata": {},
   "cell_type": "markdown",
   "source": [
    "## ML Data Analysis\n",
    " along with a baseline comparison and an interpretation of the result that you obtain.\n"
   ],
   "id": "c8d59dad1a0ae28f"
  },
  {
   "metadata": {},
   "cell_type": "markdown",
   "source": [
    "## Progress reflection\n",
    "○\tWhat is the hardest part of the project that you’ve encountered so far?\n",
    "○\tWhat are your initial insights?\n",
    "○\tAre there any concrete results you can show at this point? If not, why not?\n",
    "○\tGoing forward, what are the current biggest problems you’re facing?\n",
    "○\tDo you think you are on track with your project? If not, what parts do you need to dedicate more time to?\n",
    "○\tGiven your initial exploration of the data, is it worth proceeding with your project, why? If not, how are you going to change your project and why do you think it’s better than your current results?\n"
   ],
   "id": "37d3175763845b83"
  },
  {
   "metadata": {},
   "cell_type": "markdown",
   "source": [
    "## Roles and Coordination\n",
    "\n",
    "Who will be responsible for specific portions of the project (at least two for each portion is recommended): e.g., finding data sources, cleaning, statistical analysis, visualization, machine learning applications, etc.? What deadlines should various components of the project be completed by?"
   ],
   "id": "51352f7fb9f3c215"
  },
  {
   "metadata": {},
   "cell_type": "markdown",
   "source": [
    "## Next Steps\n",
    "What you plan to accomplish in the next month and how you plan to evaluate whether your project achieved the goals you set for it."
   ],
   "id": "5cb4b7709d22a901"
  }
 ],
 "metadata": {
  "kernelspec": {
   "display_name": "Python 3",
   "language": "python",
   "name": "python3"
  },
  "language_info": {
   "codemirror_mode": {
    "name": "ipython",
    "version": 2
   },
   "file_extension": ".py",
   "mimetype": "text/x-python",
   "name": "python",
   "nbconvert_exporter": "python",
   "pygments_lexer": "ipython2",
   "version": "2.7.6"
  }
 },
 "nbformat": 4,
 "nbformat_minor": 5
}
